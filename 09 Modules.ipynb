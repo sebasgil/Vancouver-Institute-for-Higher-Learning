{
 "cells": [
  {
   "cell_type": "markdown",
   "metadata": {},
   "source": [
    "# Review "
   ]
  },
  {
   "cell_type": "markdown",
   "metadata": {},
   "source": [
    "##### 1"
   ]
  },
  {
   "cell_type": "markdown",
   "metadata": {},
   "source": [
    "* What is the correct syntax to properly display an image in Markdown from an url hyperlink? (url stands for uniform resource locator, colloquially known as a *web address*)\n",
    "    * `url`\n",
    "    * `[tag](url)`\n",
    "    * `![tag](url)`\n",
    "    * `![url](tag)`\n",
    "    * `[url](tag)`\n",
    "    "
   ]
  },
  {
   "cell_type": "markdown",
   "metadata": {},
   "source": [
    "This is the markdown cell"
   ]
  },
  {
   "cell_type": "markdown",
   "metadata": {},
   "source": [
    "![okapi](https://blogs.scientificamerican.com/extinction-countdown/files/2013/11/Okapi_Okapia-johnstoni_Bob-Jenkins.jpg)"
   ]
  },
  {
   "cell_type": "markdown",
   "metadata": {},
   "source": [
    "This is the raw cell"
   ]
  },
  {
   "cell_type": "raw",
   "metadata": {},
   "source": [
    "![okapi](https://blogs.scientificamerican.com/extinction-countdown/files/2013/11/Okapi_Okapia-johnstoni_Bob-Jenkins.jpg)"
   ]
  },
  {
   "cell_type": "markdown",
   "metadata": {},
   "source": [
    "This is the code in markdown"
   ]
  },
  {
   "cell_type": "markdown",
   "metadata": {},
   "source": [
    ">```markdown\n",
    "![okapi](https://blogs.scientificamerican.com/extinction-countdown/files/2013/11/Okapi_Okapia-johnstoni_Bob-Jenkins.jpg)\n",
    "```"
   ]
  },
  {
   "cell_type": "markdown",
   "metadata": {},
   "source": [
    "##### 2"
   ]
  },
  {
   "cell_type": "markdown",
   "metadata": {},
   "source": [
    "* What does `#` do in a code cell? What does `#` do in a markdown cell? Create a cell for each case and write an example demonstrating the difference between both usages."
   ]
  },
  {
   "cell_type": "code",
   "execution_count": 5,
   "metadata": {
    "collapsed": false
   },
   "outputs": [
    {
     "name": "stdout",
     "output_type": "stream",
     "text": [
      "0\n",
      "1\n",
      "2\n",
      "3\n",
      "4\n"
     ]
    }
   ],
   "source": [
    "# this makes a comment\n",
    "for x in range(5):\n",
    "    # This will print each value of x\n",
    "    print(x)"
   ]
  },
  {
   "cell_type": "markdown",
   "metadata": {},
   "source": [
    "# Makes a heading"
   ]
  },
  {
   "cell_type": "markdown",
   "metadata": {},
   "source": [
    "##### 3"
   ]
  },
  {
   "cell_type": "markdown",
   "metadata": {},
   "source": [
    "* Consider the example list\n",
    "\n",
    "```python\n",
    "months = ['January', 'February', 'March']\n",
    "```\n",
    "\n",
    "Please match in the following table the list methods on the left column to their corresponding effect on the original list in the right column\n",
    "\n",
    "| List method                     | Result                                                  |\n",
    "|---------------------------------|---------------------------------------------------------|\n",
    "|a) `months.insert(0,'December')` |$\\alpha$) `['February', 'March']`                        | \n",
    "|b) `months.pop()`                |$\\beta$) `'February'`                                    |\n",
    "|c) `months.index(1)`             |$\\gamma$) `['January, 'February', 'December', 'March']`  |\n",
    "|d) `months.append('April')`      |$\\delta$) `['January, 'February', 'March', 'April']`     |\n",
    "|e) `months.insert(2,'December')` |$\\epsilon$) `['January, 'February']`                     |\n",
    "|f) `months.pop(0)`               |$\\zeta$) `['December','January, 'February', 'March']`    |"
   ]
  },
  {
   "cell_type": "markdown",
   "metadata": {
    "collapsed": true
   },
   "source": [
    "Answer key:\n",
    "\n",
    "| left | right|\n",
    "|-----|-------|\n",
    "| a |$\\zeta$|\n",
    "| b | $\\epsilon$|\n",
    "| c | $\\beta$ |\n",
    "| d | $\\delta$|\n",
    "| e | $\\gamma$|\n",
    "| f | $\\alpha$|"
   ]
  },
  {
   "cell_type": "markdown",
   "metadata": {},
   "source": [
    "##### 4"
   ]
  },
  {
   "cell_type": "code",
   "execution_count": 6,
   "metadata": {
    "collapsed": false
   },
   "outputs": [
    {
     "data": {
      "text/plain": [
       "43.68"
      ]
     },
     "execution_count": 6,
     "metadata": {},
     "output_type": "execute_result"
    }
   ],
   "source": [
    "218.40/5"
   ]
  },
  {
   "cell_type": "markdown",
   "metadata": {},
   "source": [
    "* Recall the function that we defined to create a range object. Please fill in the blanks in the following block of code\n",
    "\n",
    ">```python\n",
    "___ my_range(endpoint):\n",
    "    output = []\n",
    "    item = 0\n",
    "    while item < endpoint:\n",
    "        output.append(____)\n",
    "        item += 1\n",
    "    ______ output\n",
    "```\n",
    "\n",
    "* Check your result by making a new variable `range_6 = my_range(6)` and verify that `range_6 = [0,1,2,3,4,5]`\n"
   ]
  },
  {
   "cell_type": "markdown",
   "metadata": {},
   "source": [
    "# Motivation: The Political Role of Data Science "
   ]
  },
  {
   "cell_type": "markdown",
   "metadata": {},
   "source": [
    "Eric Roston and Blacki Migliozzi from Bloomberg L.P. published in 2015 the following data analysis on climate change. It's titled *[What's Really Warming the World?](https://www.bloomberg.com/graphics/2015-whats-warming-the-world/)*. In what follows, we'll examine the article and discuss it critically. As we do, please keep the guiding questions in mind:\n",
    "\n",
    "* What are the different plots used in the article?\n",
    "\n",
    "* How are the plots used to make a political claim?\n",
    "\n",
    "* What kind of data analysis allowed for the production of such plots in the first place?\n",
    "\n",
    "This famous plot, sometimes referred to as the `Hockey Stick Plot` has been often cited in debates over climate change.\n",
    "\n",
    "Similar data has been made available by The World Bank, via a multitude of [interactive plots](http://data.worldbank.org/topic/climate-change?end=2014&start=1960). Moreover, they have made the entirety of this data **available for free**.\n",
    "\n",
    "![World Bank](http://www.socialsciencespace.com/wp-content/uploads/logo_worldbank.jpg)\n",
    "\n",
    "![Bloomberg](https://cdn2.hubspot.net/hubfs/2529352/Pubs%20Logos/bloomberg-logo.jpg)"
   ]
  },
  {
   "cell_type": "markdown",
   "metadata": {},
   "source": [
    "In under to understand the true implications behind these figures, we need to understand **how they are made in the first place**. The field of data science plays a big role towards this end. In the remainder of the month, we will focus on three goals:\n",
    "\n",
    "\n",
    "* Recognize how functions are saved as text files and bundled into modules with the purpose of manipulating data structures of increasing complexity\n",
    "\n",
    "* Appreciate how array manipulations allow for astronomically large computations in nanoseconds throughout the world\n",
    "\n",
    "* Use plotting libraries to display the results from computations visually."
   ]
  },
  {
   "cell_type": "markdown",
   "metadata": {},
   "source": [
    "## Modules and Packages "
   ]
  },
  {
   "cell_type": "markdown",
   "metadata": {},
   "source": [
    "Please refer to the documentation from the [Python Tutorial](https://docs.python.org/3.5/tutorial/modules.html#the-module-search-path) and consider the following questions:\n",
    "\n",
    "* What happens to all the variables in a session when the python interpreter (from the terminal) or notebook is closed?\n",
    "\n",
    "* What is a *script*? How is it useful to preserve code?\n",
    "\n",
    "* What does the `import` command do?\n",
    "\n",
    "* Look at the code block below. What does `dir()` do?\n",
    "\n",
    ">```python\n",
    "import sys\n",
    "dir(sys)\n",
    "```\n",
    "\n",
    "* What is a package? What does this tells us about the syntax `package.module` ?\n"
   ]
  },
  {
   "cell_type": "markdown",
   "metadata": {},
   "source": [
    "## Where are the python packages stored in your computer? "
   ]
  },
  {
   "cell_type": "markdown",
   "metadata": {},
   "source": [
    "`pip` is the preferred tool for installing packages. As it turns out, we can use it to find out what packages are currently installed. "
   ]
  },
  {
   "cell_type": "markdown",
   "metadata": {},
   "source": [
    "import pip\n",
    "sorted([\"%s==%s\" % (i.key, i.version) for i in pip.get_installed_distributions()])"
   ]
  },
  {
   "cell_type": "markdown",
   "metadata": {},
   "source": [
    "The vast repository of python packages is available [here](https://pypi.python.org/pypi)."
   ]
  },
  {
   "cell_type": "markdown",
   "metadata": {},
   "source": [
    "![directories](https://zapier.cachefly.net/storage/photos/afcb5e29842a4dde75d47627f506941a.png)"
   ]
  },
  {
   "cell_type": "markdown",
   "metadata": {},
   "source": [
    "# Important Packages: NumPy, SciPy and matplotlib "
   ]
  },
  {
   "cell_type": "markdown",
   "metadata": {},
   "source": [
    "![numpy](http://contribute.geeksforgeeks.org/wp-content/uploads/numpy-logo1.jpg)"
   ]
  },
  {
   "cell_type": "raw",
   "metadata": {},
   "source": [
    "import numpy\n",
    "from numpy import doc"
   ]
  },
  {
   "cell_type": "raw",
   "metadata": {},
   "source": [
    "help(numpy)\n",
    "help(numpy.doc)"
   ]
  },
  {
   "cell_type": "raw",
   "metadata": {},
   "source": [
    "?numpy"
   ]
  },
  {
   "cell_type": "raw",
   "metadata": {},
   "source": [
    "import numpy\n",
    "help(numpy.doc.basics)"
   ]
  },
  {
   "cell_type": "markdown",
   "metadata": {},
   "source": [
    "![scipy](https://www.filesilo.co.uk/wp-content/uploads/2014/10/scipy.jpg)"
   ]
  },
  {
   "cell_type": "raw",
   "metadata": {},
   "source": [
    "import scipy\n",
    "help(scipy)"
   ]
  },
  {
   "cell_type": "raw",
   "metadata": {},
   "source": [
    "?scipy"
   ]
  },
  {
   "cell_type": "markdown",
   "metadata": {},
   "source": [
    "![matplotlib](http://matplotlib.org/_static/logo2.svg)"
   ]
  },
  {
   "cell_type": "raw",
   "metadata": {},
   "source": [
    "import matplotlib\n",
    "help(matplotlib)"
   ]
  },
  {
   "cell_type": "markdown",
   "metadata": {},
   "source": [
    "![vastness](http://yuuma7.com/wp-content/uploads/2015/08/ooo2-1000x563.jpg)"
   ]
  },
  {
   "cell_type": "markdown",
   "metadata": {},
   "source": [
    "### What is an array? "
   ]
  },
  {
   "cell_type": "markdown",
   "metadata": {},
   "source": [
    "![array](http://www.scipy-lectures.org/_images/numpy_broadcasting.png)"
   ]
  }
 ],
 "metadata": {
  "kernelspec": {
   "display_name": "Python 3",
   "language": "python",
   "name": "python3"
  },
  "language_info": {
   "codemirror_mode": {
    "name": "ipython",
    "version": 3
   },
   "file_extension": ".py",
   "mimetype": "text/x-python",
   "name": "python",
   "nbconvert_exporter": "python",
   "pygments_lexer": "ipython3",
   "version": "3.5.2"
  }
 },
 "nbformat": 4,
 "nbformat_minor": 2
}
