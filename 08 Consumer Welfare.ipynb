{
 "cells": [
  {
   "cell_type": "markdown",
   "metadata": {},
   "source": [
    "# Establishing the welfare of individuals "
   ]
  },
  {
   "cell_type": "markdown",
   "metadata": {},
   "source": [
    "Economics as a social science aims to study the choices that individuals and firms make. Businesses may be motivated by a desire to maximize their profits, but what motivates the desires of consumers? What do *people* want to get out of the choices that they make when they buy or sell products? Moreover, how should government agencies establish their policies so as to benefit the public as a whole? How do they ensure that their policies are fair?\n",
    "\n",
    "These considerations befall the theory of **consumer welfare**. To motivate this, I want you to first examine the picture below:"
   ]
  },
  {
   "cell_type": "markdown",
   "metadata": {},
   "source": [
    "![Hastings](http://4.bp.blogspot.com/-u8j3PVduhSA/TdA4me1-ftI/AAAAAAAAAC4/uHXAtWqDcE0/s1600/Walk+on+east+hastings.jpg)"
   ]
  },
  {
   "cell_type": "markdown",
   "metadata": {},
   "source": [
    "This image corresponds to East Hastings in Downtown Vancouver, a part of town **notorious** for the drug addiction and mental illness epidemics of its residents. Tragically, the majority of the people out in this street live under terrible sanitary conditions and the majority are unemployed.\n",
    "\n",
    "### Pause for Discussion: If you were in charge of directing policy for the city, how would you tackle this problem?\n",
    "\n",
    "One way in which governments across the world aim to help people in conditions of poverty is by subsidizing them. For instance, the government of B.C offers [child care subsidies](http://www2.gov.bc.ca/gov/content/family-social-supports/caring-for-young-children/child-care/financial-assistance-for-child-care#funding_amount) to families whose income is under $40,000 a year CAD (how does that compare to your family's income?) There are various forms of subsidy available and many economists disagree over whether it is better to give cash directly to poor families, as B.C does, or to provide for child care services.\n",
    "\n",
    "The question becomes: can we obtain a general measure for an individual's welfare?"
   ]
  },
  {
   "cell_type": "markdown",
   "metadata": {},
   "source": [
    "# Utility "
   ]
  },
  {
   "cell_type": "markdown",
   "metadata": {},
   "source": [
    "In the search for quantitative models, economists aim to understand how consumers are benefitted or hindered by shocks affecting the equilibrium price and quantity of goods and services for a given market. On one hand, price changes from advancements in technology or the striking of new business deals by corporations. On the other, quantities change when a government sets a quota. In an ideal scenario, economists aim to measure the **utility of a consumer**, corresponding to the happiness that a consumer obtains from buying a product or service. This, however, is much easier said than done. Why?\n",
    "\n",
    "\n",
    "Mathematical analysis requires assigning a *function* to a quantity and for a model to be predictive, it has to involve *measurable* quantities. How does one go about measuring happiness? Indeed, this is an issue that was recognized by Jeremy Bentham, who along with John Stuart Mill was a founder of the philosophical school of utilitarianism. In their view, the merits of human acts such as business decisions, legislation and even crime and punishment should be judged strictly in terms of the pleasure or pain that these acts effect on human beings. As explained by the Princeton economist [Uwe E. Reinhardt](https://www.princeton.edu/~reinhard/pdfs/100-NEXT_HOW_ECONOMISTS_BASTARDIZED_BENTHAMITE_UTILITARIANISM.pdf), Bentham sought to quantify happiness in units of utility.\n",
    "\n",
    "The difficulty, he found, was in establishing the **cardinality** of utility (we will explain cardinality shortly), as well as accounting for inter-personal dependencies of utility--the relative pleasure that different individuals would assign to the same good. Attempting to assign a calculus to such a function would be as well rather difficult.\n",
    "\n",
    "\n",
    "Indeed, Bentham argued that the *marginal utility of wealth should be strongly diminishing* and wrote:\n",
    "\n",
    ">*\"Of two people having unequal fortunes, he who has most wealth must by a legislator be regarded as having most happiness. But the quantity of happiness will not go on increasing in anything near the same proportion as the quantity of wealth: ten thousand times the quantity of wealth will not bring with it ten thousand times the quantity of happiness.*\n",
    "\n",
    ">*It will even be matter of doubt, whether ten thousand times the wealth will in general bring with it twice the happiness. The effect of wealth in the production of\n",
    "happiness goes on diminishing, as the quantity by which the wealth of one man exceeds that of another goes on increasing: In other words, the quantity of happiness produced by a particle of wealth (each particle being of the same magnitude) will be less at every particle; the second will produce less than the first, the third than the second, and so on.\"*\n",
    "\n",
    "### Pause for discussion: Do you agree with Bentham's claim that the happiness you gain from additional wealth decreases the richer you are? Or does more money make people happier? Think about the goals that you want to accomplish in life: the things you want to buy, the places you want to visit, the people you want to associate with. How much money do you think would make you 'happy'? How does happiness cale with income?\n",
    "\n",
    "![Bentham](https://upload.wikimedia.org/wikipedia/commons/c/c8/Jeremy_Bentham_by_Henry_William_Pickersgill_detail.jpg)"
   ]
  },
  {
   "cell_type": "markdown",
   "metadata": {},
   "source": [
    "# Cardinal vs. Ordinal Utility"
   ]
  },
  {
   "cell_type": "markdown",
   "metadata": {},
   "source": [
    "The distinction between cardinal and ordinal utility can be expressed as follows:\n",
    "\n",
    "* a **cardinal** utility function ranks a consumer's preferences within an *interval scale* so that if $u(A) = 5 > u(B) = 1$  it is significant to say by *how many units* one preference is larger than the other but it is not significant to establish a *ratio* between values.\n",
    "\n",
    "* an **ordinal** utility function ranks a consumer's preferences within an *ordinal scale* so that it is meaningful to rank $u(A) > u(B)$, but it is not meaningful to say by how much.\n",
    "\n",
    "An illustrative example of an *interval scale* would be that of a thermometer. We can say that 40 degrees is larger than 20 degrees by 20 units, but it does not make sense to say that 40 degrees is *twice as hot* as 20 degrees.\n",
    "\n",
    "![thermometer](http://ipcblog.org/wp-content/uploads/2010/08/thermometer1.jpg)\n",
    "\n",
    "An illustrative example for an *ordinal scale* would be that of the spectrum of agreement widely used in psychology surveys. A person selecting *strongly agree* in a question clearly shows preference over *disagree*, but it is not meaningful to say by *how much* she prefers one over the other.\n",
    "\n",
    "![scale](https://www.aut.ac.nz/being-a-student/student-surveys/annual-programme-survey/the-2012-annual-programme-survey/?a=362056)\n",
    "\n",
    "Does this seem confusing to you? You're not alone! The definitions of cardinal and ordinal utility have been widely critizied by both mathematicians and economists alike.\n",
    "\n",
    "As noted in John Chipman's book, *The Foundations of Utility* (1960)\n",
    "\n",
    ">*\"These terms, which seem to have been introduced by Hicks and Allen (1934), bear scant if any relation to the mathematicians' concept of ordinal and cardinal numbers; rather they are euphemisms for the concepts of order-homomorphism to the real numbers and group-homomorphism to the real numbers\"*\n",
    "\n",
    "whereas as late as 1958 a paper titled *The Cardinal Utility which is Ordinal* was published.\n",
    "\n",
    "### Pause for Discussion: Given the above difficulties, does it make sense to persist in attempting to establish rigorous mathematical definitions for utility (which has in theory been accomplished) or should we measure pleasure in a different way?"
   ]
  },
  {
   "cell_type": "markdown",
   "metadata": {},
   "source": [
    "# Dumbing it Down with Dollars: Defining Consumer Surplus\n",
    "\n",
    "If obtaining a quantitative measure for subjective happiness is wrought with difficulty, how are we to proceed? Conventionally, economists choose to measure *consumer welfare in terms of dollars*. Thus, a question that would be first understood as \"By how many units of utility would your happiness decrease if your commute from West Vancouver increased by 30 minutes?\" can be reframed as \"How much money would you pay to avoid increasing your commute from West Vancouver by 30 minutes?\"\n",
    "\n",
    "In what follows, we will focus our analysis to the consumer welfare obtained from purchasing a good. This is understood as the benefit that a consumer gets from consuming a good in excess of its cost. The idea here is that individuals are often willing to  pay more for certain products because their subjective assessment of their worth is larger than the products' actual cost. \n",
    "\n",
    "For example, imagine its a very hot day at the beach and you are far from any stores. By the time the day reaches its hottest moment, you are covered in sweat and feeling parched. A salesman walks by offering bottles of *Coca-Cola* for $\\$5.00$. You know that you could get an identical bottle for $\\$2.00$ at the store, but chances are that you are so thirsty that you don't mind paying $\\$3.00$ in excess of what you would normally pay. Maybe you are *so* thirsty that you would even pay $\\$6.00$ for the soft-drink! That is to say, you placed an additional *value* of $\\$3.00$ beyond the actual store-bought cost of the product.\n",
    "\n",
    "![Coke](http://urbanpeek.com/wp-content/uploads/2011/06/4.jpg)\n",
    "\n",
    "\n",
    "As it turns out, we can look at the **demand curve** of a product to obtain a measurement of how much a person is willing to pay for a product compared to how much they actually paid. Following in the trend of derivatives, we discern that the *marginal willingness to pay* reflects the maximum amount of money that a consumer is willing to pay for an additional unit of a product.\n",
    "\n",
    "![monetary_diff](https://faculty.washington.edu/danby/bls324/surplus7.GIF)\n",
    "\n",
    "Indeed, the monetary difference between the maximum amount that a consumer is willing to pay for the quantity of the good purchased and what the good actually costs is defined as **consumer surplus**. This quantity aims to measure the *extra pleasure* obtained by the consumer from a transaction beyond the product's price. In the diagram above, the consumer surplus is the blue area, the market price is the blue area and the line separating the blue and grey areas corresponds to the *marginal willingness to pay*\n",
    "\n",
    "### Pause and discuss: What mathematical quantity do we associate with areas? Can you guess how we may compute consumer surplus?\n",
    "\n",
    "According to Perloff, an individual's consumer surplus is\n",
    "\n",
    "* the extra value that a consumer gets from buying the desired number of units of a good in excess of the amount paid\n",
    "* the amount that a consumer would be willing to pay for the right to buy as many units as desired at the specified price\n",
    "* the area under the consumer's demand curve and above the market price up to the quantity of the product that the consumer buys\n",
    "\n",
    "In such a way, we can demonstrate that consumer surplus is a **direct application of the concept of the integral** to economics.\n",
    "\n",
    "Finally, just as we measure the consumer surplus for an individual from their personal demand curve, we can obtain the consumer surplus for a given market merely by adding the demand curve of all buyers. Thus, market consumer surplus is *the area under the market demand curve above the market price up to the quantity that consumers pay.*"
   ]
  },
  {
   "cell_type": "markdown",
   "metadata": {},
   "source": [
    "# A Mathematical Model for Consumer Surplus "
   ]
  },
  {
   "cell_type": "markdown",
   "metadata": {},
   "source": [
    "Recall that we define the demand function $p(q)$ as the price $p$ that a company has to charge in order to sell $q$ units of a commodity. Usually, selling larger quantities requires lowering prices, so the demand function is a decreasing function. The graph of a typical demand function is linear with a negative slope\n",
    "\n",
    "Let $q = Q$ describe the amount of a commodity (like a *Coca-Cola*) that is currently available, then $P = p(Q)$ is the current selling price of the commodity.\n",
    "\n",
    "We divide the interval $[0,Q]$ into $n$ subintervals, each of length $\\Delta q = Q/n$, and let $q_i^* = q_i$ be the right endpoint of the $i$th subinterval. If, after the first $q_{i-1}$ units were sold, a total of only $q_i$ units had been available and the price per unit had been set at $p(q_i)$ dollars, then the additional $\\Delta q$ units could have been sold (but no more). A consumer who paid $p(q_i)$ dollars placed a high value on the product; she would have paid what it was worth to her in *excess* of the market price. So, in paying only $P$ dollars, the consumer has saved an amount of\n",
    "\n",
    "$$\n",
    "\\text{(savings per unit)(number of units)} = [p(q_i) - P]\\Delta q\n",
    "$$\n",
    "\n",
    "As quantity increases, demand decreases so we expect that the *value* placed on the commodity by the consumer should decrease. For example, you placed a high value on that first *Coca-Cola* because you were very thirsty, but chances are that you wouldn't want to drink another *Coca-Cola* immediately after the first! Thus, we can add up the rectangles from the previous figure to obtain a *sum* expression for the total savings:\n",
    "\n",
    "$$\n",
    "\\sum^n_{i=1} [p(q_i) - P]\\Delta q\n",
    "$$\n",
    "\n",
    "This sum corresponds to the area enclosed by the rectangles of the approximation. Identifying this as a Riemann sum, we $q \\to \\infty$ and get an integral integral\n",
    "\n",
    "![continuous](http://classconnection.s3.amazonaws.com/792/flashcards/567792/jpg/consumer_surplus1321509449277.jpg)\n",
    "\n",
    "\n",
    "$$\n",
    "\\int_0^Q [p(q) - P]\\, dq\n",
    "$$\n",
    "\n",
    "which gives us a mathematical representation of the **consumer surplus** for the commodity.\n",
    "\n",
    "\n",
    "Expressed this way, consumer surplus represents the amount of money saved by a consumer in purchasing the commodity at price $P$, corresponding to an amount demanded of $Q$. In this way, the consumer surplus corresponds to the area enclosed between the demand curve and the line $p = P$.\n"
   ]
  },
  {
   "cell_type": "markdown",
   "metadata": {},
   "source": [
    "## Example "
   ]
  },
  {
   "cell_type": "markdown",
   "metadata": {},
   "source": [
    "### Statement of the Problem\n",
    "The demand for a product in dollars is\n",
    "\n",
    "$$\n",
    "p = 1200 - 0.2q - 0.0001q^2\n",
    "$$\n",
    "\n",
    "Find the consumer surplus when the sales level is $500$.\n"
   ]
  },
  {
   "cell_type": "markdown",
   "metadata": {},
   "source": [
    "### Solution\n",
    "\n",
    "Since the number of products sold is $Q = 500$, the corresponding price is\n",
    "\n",
    "$$\n",
    "P = 1200 - (0.2)(500) - (0.0001)(500)^2 = 1075\n",
    "$$\n",
    "\n",
    "Therefore, we can compute the consumer surplus\n",
    "\n",
    "\\begin{eqnarray}\n",
    "\\int_0^{500} [p(q) - P]\\,dq &=& \\int_0^{500} (1200 - 0.2q - 0.0001q^2 - 1075)\\, dq \\\\\n",
    "&=& \\int_0^{500} (125 - 0.2q - 0.0001q^2)\\,dq \\\\\n",
    "&=& 125q - 0.1q^2 - (0.0001)\\Big(\\frac{q^3}{3}\\Big) \\Bigg|^{500}_{0} \\\\\n",
    "&=& (125)(500) - (0.1)(500)^2 - \\frac{(0.0001)(500)^3}{3} \\\\\n",
    "&=& \\$ 33,333.33\n",
    "\\end{eqnarray}"
   ]
  },
  {
   "cell_type": "markdown",
   "metadata": {
    "collapsed": true
   },
   "source": [
    "# Criticism for the Possibility of Establishing Social Welfare "
   ]
  },
  {
   "cell_type": "markdown",
   "metadata": {},
   "source": [
    "![Nietzsche](https://pictures.abebooks.com/isbn/9781500996192-uk-300.jpg)"
   ]
  },
  {
   "cell_type": "markdown",
   "metadata": {},
   "source": [
    "Following the initial proposals for utilitarianism, Freidrich Nietzsche vehemently criticized the possibility of establishing an objective criterion for *good* and *bad*. In the *Genealogy of Morals*, Nietzsche set out to discuss how our conceptions of good and bad originate from historical forces *irrespective* of reason.\n",
    "\n",
    "In the introduction to his first essay, *Good and Evil, Good and Bad* Nietzsche writes:\n",
    "\n",
    ">*\"These English psychologists, whom one has also to thank for the only attempts hithero to arrive at a history of the origin of morality--they themselves are no easy riddle; I confess that, as living riddles, they even possess one essential advantage over their books--they are interesting! [...]*\n",
    "\n",
    ">*But I am told they are simply old, cold, and tedious frogs, creeping around men and into men as if in their own element, that is, in a swamp. [...]*\n",
    "\n",
    ">*All respect then for the good spirits that they may rule in these historians of morality! But it is, unhappily, certain that the historical spirit itself is lacking in them, that precisely all the good spirits of history itself have left them in the lurch! As is the hallowed custom with philosophers, the thinking of all of them is by nature unhistorical; there is no doubt about that. The way they have bungled their moral genealogy comes to light at the very beginning, where the task is to investigate the origin of the concept and judgement 'good'. 'Originally'--so they decree--'one approved unegoistic actions and called them good for the point of view of those to whom they were done, that is to say, those to whom they were useful, later one forgot how this approval orignated and, simply because unegositic actions were always habitually praised as good, one also felt them to be good--as if they were something good in themselves'. One sees straightaway that this primary derivation already contains all the typical traits of the idiosyncrasy of the English psychologists--we have '**utility**', 'forgetting', 'habit', and finally 'error', all as the basis of an evaluation of which the higher man has hitherto been proud as though it were a kind of prerogative of man as such. This pride has to be humbled, this evaluation disvalued: has that end been achieved?\n",
    "> Now it is plain to me, first of all, that in this theory the concept of the concept 'good' has been sought and established in the wrong place: the judgement 'good' did not orignate with those to whom 'goodness' was shown! Rather it was the 'good' themselves, that is to say, the noble, powerful, high-stationed and high-minded, who felt and establsihed themselves and their actions as good, that is, of the first rank, in contradistinction to all the low, low-minded, common and plebeian. It was out of this pathos of distance that they first seized the right to create values and to coin names for values: what had they to do with **utility**!*\"\n",
    "\n",
    "### Pause for discussion: In your own words, how would you express Nietzsche's view of the notion of utility? How does this notion of good reflect the adage of 'the rich get richer' while 'the poor get poorer'? What do you think Nietzsche would say about measuring the happiness of consumers in dollars? Is it feasible to think that traditional consumer theory benefits the rich at the expense of the poor?\n",
    "\n",
    "\n",
    "In contemporary theory, Reinhard is also very critical. The main problem of replacing utility with dollars is that it makes the assumption that\n",
    "\n",
    ">*\"Second, that an additional, say, $\\$100$ will yield the same pleasure to a billionaire as it\n",
    "would to a pauper, and that a $\\$100$ loss will visit on the billionaire the same degree and\n",
    "intensity of pain as it would on the pauper.\"*\n",
    "\n",
    "and concludes with the remark\n",
    "\n",
    ">*\"Modern applied welfare economics may look like objective science, because it typically is\n",
    "cloaked in mathematical symbols or graphs. At its core, however, economic welfare analysis is but\n",
    "one particular distributive ethic --- it is a moral doctrine. You may or may not buy it, and\n",
    "whether or not you do may possibly depend on – you guessed it – your wealth and ability to offer\n",
    "high bid prices for things. \"*"
   ]
  },
  {
   "cell_type": "markdown",
   "metadata": {
    "collapsed": true
   },
   "source": [
    "### Pause for discussion: Look back at the first image, now look at the one below. What, if *any* relation do symbolic abstractions have on the welfare of the most vulnerable segments of society? What care do the wretched have for the abstractions and pontifications of the mighty?\n",
    "\n",
    "![symbols](http://1.bp.blogspot.com/-vVacKGSUlRI/ToPCGZvylGI/AAAAAAAAD1g/lz48XrUjX0Y/s1600/CaptureWPX5-2.PNG)"
   ]
  },
  {
   "cell_type": "markdown",
   "metadata": {},
   "source": [
    "This is indeed truly, a technocratic language."
   ]
  },
  {
   "cell_type": "code",
   "execution_count": null,
   "metadata": {
    "collapsed": true
   },
   "outputs": [],
   "source": []
  }
 ],
 "metadata": {
  "kernelspec": {
   "display_name": "Python 3",
   "language": "python",
   "name": "python3"
  },
  "language_info": {
   "codemirror_mode": {
    "name": "ipython",
    "version": 3
   },
   "file_extension": ".py",
   "mimetype": "text/x-python",
   "name": "python",
   "nbconvert_exporter": "python",
   "pygments_lexer": "ipython3",
   "version": "3.5.2"
  }
 },
 "nbformat": 4,
 "nbformat_minor": 2
}
