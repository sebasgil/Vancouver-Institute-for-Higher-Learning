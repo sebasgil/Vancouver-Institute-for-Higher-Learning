{
 "cells": [
  {
   "cell_type": "markdown",
   "metadata": {},
   "source": [
    "# Why do companies grow?"
   ]
  },
  {
   "cell_type": "markdown",
   "metadata": {},
   "source": [
    "![factory](http://mw2.google.com/mw-panoramio/photos/medium/39608772.jpg)"
   ]
  },
  {
   "cell_type": "markdown",
   "metadata": {},
   "source": [
    "We expect that as a company grows, its production level will increase with it. Such a decision may be motivated by a firm's desire to increase its market share within a given sector of industry. By having a larger stock of products available, a company can in principle increase its revenue--and thereby its profit--by pushing out smaller competitors out of the market. \n",
    "\n",
    "\n",
    "An increase in production level is characterized by an increase in the **scale of operation** to obtain maximum output from the available inputs of business in the operation of a firm. We have defined the cost function $C(x)$ as a function of $x$ such that increasing the scale of operation corresponds to extending the domain of $x$. Recall that in the first lecture we identified the main **factors or inputs** of business with\n",
    "\n",
    "1. Land\n",
    "2. Labor\n",
    "3. Capital\n",
    "4. Enterprise\n",
    "\n",
    "Therefore, it is a combination of these four factors that will allow us to redefine the domain of $x$. Such increases in production are not without their own risks and costs, however. A company may have to purchase or rent land, buildings, equipment and employ more staff to increase its scale of operation. Despite these risks, the possibility of substantially decreasing the cost per unit produced--the **average cost**-- is a big incentive to undertake such expenditures."
   ]
  },
  {
   "cell_type": "markdown",
   "metadata": {},
   "source": [
    "# Average Cost"
   ]
  },
  {
   "cell_type": "markdown",
   "metadata": {},
   "source": [
    "So far, we've looked at simple models for the cost function of the form $C(x)$, where $x$ corresponds to the total number of units produced. As we have seen, the constants in the function can be interprested as fixed costs, while the values in $C(x)$ that scale with $x$ can be identified with variable costs. Thus, when we take the derivative of $C(x)$ to find the marginal cost, we are removing the contribution of fixed costs from out considerations.\n",
    "\n",
    "In the study of microeconomics, it is common practice to define a related quantity, that of the **average cost**. Average cost can be defined as the cost per unit of output. That is to to say\n",
    "\n",
    "$$\n",
    "C_{avg}(x) = \\frac{C(x)}{x}\n",
    "$$\n",
    "\n",
    "It can be shown that if the average cost is at a minimum, then the marginal cost is equal to the average cost.\n",
    "\n",
    "\n",
    "Now, if we separate the cost function into its fixed and variable components we would have\n",
    "\n",
    "$$\n",
    "C(x) = c_0 + c_1(x) + c_2(x^2) \\,+ ...\n",
    "$$\n",
    "\n",
    "which in turn suggests that the average cost can be expressed as\n",
    "\n",
    "$$\n",
    "C_{avg}(x) = \\frac{c_0}{x} + \\frac{c_1(x) + c_2(x^2) + \\,...}{x}\n",
    "$$\n",
    "\n",
    "\n",
    "The first term in the sum is defined as the **average fixed cost** while the second term is defined as the **average variable cost**. Defining the average cost this way allows us to arrive at the **crucial** observation that given an appropriately defined domain for our functions, **increasing the production level will decrease the fixed average cost**. This is a direct consequence of the fact that $c_0$ has been defined in such a way that it does not scale with $x$. This idea is conceptualized in terms of the **economies of scale**, as we shall see shortly.\n"
   ]
  },
  {
   "cell_type": "markdown",
   "metadata": {},
   "source": [
    "## Example: Interpreting a Diagram "
   ]
  },
  {
   "cell_type": "markdown",
   "metadata": {},
   "source": [
    "1. From our study of derivatives, the **intermediate value theorem** tells us that for any function $f(x)$ defined over some interval $a \\leq x \\leq b$, there exists a critical point $c$ such that $f(x)$ is either at a local minimum or a local maximum. By the **second derivative test**, we can classify such a point based on the concavity of the function. What concavity would we expect from cost fuctions? Why?\n",
    "2. Look at the plot below. What do each of the curves stand for? Where do they intersect? How is this an expression of the relation between average cost and marginal cost?"
   ]
  },
  {
   "cell_type": "markdown",
   "metadata": {},
   "source": [
    "![curves](https://upload.wikimedia.org/wikipedia/commons/c/c5/Shortruncostcurves.jpg)"
   ]
  },
  {
   "cell_type": "markdown",
   "metadata": {},
   "source": [
    "For the concavity of a function to be well-defined over some interval, we require that its second derivative exist. The simplest example of such a curve is a function of the type $ax^2$. For the sake of simplicity, microeconomics makes the usual assumption that cost functions are of this form, referring to them as **U-shaped curves**. This, however is an idealization that may not always be fulfilled by real world data. Indeed, there is evidence to show that the cost functions for real businesses are not always U-shaped. In a survey by Wilford J. Eiteman and Glenn E. Guthrie in 1952, managers of 334 companies were shown a number of different cost curves, and asked to specify which one best represented the company’s cost curve. 95% of managers responding to the survey reported cost curves with constant or falling costs. (source: Wilford J. Eiteman and Glenn E. Guthrie, The Shape of the Average Cost Curve, American Economic Review, 42.5: 832–838).\n",
    "\n",
    "These are the curves they were shown:"
   ]
  },
  {
   "cell_type": "markdown",
   "metadata": {},
   "source": [
    "![here](wilford.jpg)"
   ]
  },
  {
   "cell_type": "markdown",
   "metadata": {},
   "source": [
    "## Theory of Knowledge"
   ]
  },
  {
   "cell_type": "markdown",
   "metadata": {},
   "source": [
    "* What do these results suggest about the validity of the models discussed so far?\n",
    "* Is it truly reasonable to assume that costs can keep falling indefinitely, or are there some erroneous assumptions behind this?\n",
    "* Why would we want our cost functions to be concave upwards and how can this consideration be used to motivate a sustainable economy?"
   ]
  },
  {
   "cell_type": "markdown",
   "metadata": {},
   "source": [
    "# Economies and Diseconomies of Scale "
   ]
  },
  {
   "cell_type": "markdown",
   "metadata": {},
   "source": [
    "## How big is too big? "
   ]
  },
  {
   "cell_type": "markdown",
   "metadata": {},
   "source": [
    "If a cost function is to be simplied as U-shaped, we expect from the **first derivative test** that it will decrease before reaching a minimum value and then increase. As we shall see, these intervals of decrease and increase are respectively identified with the **economies of scale** and the **diseconomies of scale**. This idea was first introduced by Adam Smith.\n",
    "\n",
    "**Economies of scale** are the cost advantages or disadvantages that enterprises obtain due to size, output or scale of operation. Following the work of  the 19th Century British economist Alfred Marshall, it is common practice to distinguish between **internal** and **external** economies of scale. **External** economies of scale are based on the type and sector of industry whereas **internal** economies of scale depend on the size of an individual firm.\n",
    "\n",
    "The defining aspect of the internal economies of scale for any given firm or industry is its **size**. This is due to the observation that operation efficiency is often proportional to an increase in scale, which as we have seen corresponds to a decrease in average cost. These cost benefits can be so substantial in some sectors of industry that smaller firms will be unlikely to survive due to lack of competitiveness, such as in oil refining or soft drink production."
   ]
  },
  {
   "cell_type": "markdown",
   "metadata": {},
   "source": [
    "In terms of production, we can identify two distinct economies of scale:\n",
    "\n",
    "\n",
    "**Purchasing economies of scale**: These economies are often known as bulk-buying economies. Suppliers offer substantial discounts for large orders. This is because it is cheaper for them to process and deliver one large order rather than several smaller ones. Indeed, this is the motivation behind whole-sale prices being lower than retail prices."
   ]
  },
  {
   "cell_type": "markdown",
   "metadata": {},
   "source": [
    "![costco](http://aiminglow.com/wp-content/uploads/2012/03/3535.jpg)"
   ]
  },
  {
   "cell_type": "markdown",
   "metadata": {},
   "source": [
    "**Technical economies**: Larger firms are more likely to justify the cost of **mass production** lines. If these are worked at a high capacity level, then they offer lower unit costs than other production methods. The latest and most advanced technical equipment - such as robotic technology and computer systems - is often expensive and can usually only be afforded by big firms having substantial capital for investment in these technologies."
   ]
  },
  {
   "cell_type": "markdown",
   "metadata": {},
   "source": [
    "![big data](https://cdn-ssl-promptcloud.pressidium.com/wp-content/uploads/2015/03/Big-data-analytics-skills.jpg)"
   ]
  },
  {
   "cell_type": "markdown",
   "metadata": {},
   "source": [
    "### Theory of Knowledge"
   ]
  },
  {
   "cell_type": "markdown",
   "metadata": {},
   "source": [
    "![marx](http://img1.imagesbn.com/p/9781891396564_p0_v1_s260x420.JPG)"
   ]
  },
  {
   "cell_type": "markdown",
   "metadata": {},
   "source": [
    "In his 1884 Economic and Philosophic Manuscripts, Karl Marx observes that economies of scale have **historically been associated with increasing concentration of private wealth**, and have been used to justify such concentration. Marx points out that concentrated private ownership of large-scale economic enterprises is a historically contingent fact, and not essential to the nature of such enterprises.\n",
    "\n",
    "For instance, Marx observes the rhetoric used to justify the concentrated ownership of land:\n",
    "\n",
    "\n",
    ">*\"As for large landed property, its defenders have always sophistically identified the economic advantages offered by large-scale agriculture with large-scale landed property, as if it were not precisely as a result of the abolition of property that this advantage, for one thing, received its greatest possible extension, and, for another, only then would be of social benefit.\"*\n",
    "\n",
    "Based on this example, do you think that economies of scale can be used to justify power structures **after the fact**? That is to say, to what extent are these economical policies motivated to preserve the status quo for the parties benefitted from such an unequal distribution of wealth?"
   ]
  },
  {
   "cell_type": "markdown",
   "metadata": {},
   "source": [
    "## Diseconomies of Scale "
   ]
  },
  {
   "cell_type": "markdown",
   "metadata": {},
   "source": [
    "An upwards facing parabola is bound to increase past its minimum point. In terms of cost functions, this interval of increase is identified with the **diseconomies of scale**. Efficiency and productivity can scale positively with firm size up to some optimal value. Thus, once a firm exceeds a critical size, an increase in production will actually hinder its productivity and hurt its revenue. Common limits in production include exceeding the nearby raw material supply, such as wood in the lumber, pulp and paper industry.In addition, diseconomies are related to the management problems of trying to control and direct an organization with many thousands of workers, in many separate divisions, often operating in several different countries. We may thus attribute diseconomies of scale to two main factors\n",
    "\n",
    "1. **Communication problems** Large-scale operations will often lead to poor feedback to workers, excessive use of non-personal communication media, communication overload with the volume of messages being sent, and distotion of messages caused by the long chain of command. Poor feedback reduces worker incentives. These problems may lead to poor decisions being made, due to inadequate or delayed information, and management inefficiency.\n",
    "\n",
    "2. **Alienation of the workforce** The bigger the organization, the more difficult it is to direclty involve every worker and to give them a sense of purpose and achievement. They may feel insignificant in the overall business plan and become demotivated, failing to do their best. Larger manufacturing firms are the ones most likely to adopt flow-line production and worforce alienation is a real problem due to repetitive and boring tasks."
   ]
  },
  {
   "cell_type": "markdown",
   "metadata": {},
   "source": [
    "## Reflect "
   ]
  },
  {
   "cell_type": "markdown",
   "metadata": {},
   "source": [
    "The comic below was made by the argentinian cartoonist Quino. In what way does this cartoon express a criticism of the notion that economies of scale improve the quality of human life? How does this image relate to the existential diseconomy of the alineation of the work force?"
   ]
  },
  {
   "cell_type": "markdown",
   "metadata": {},
   "source": [
    "![quino](https://s-media-cache-ak0.pinimg.com/736x/56/28/83/562883b111df36cf50c2120ea1cd7fdf.jpg)"
   ]
  }
 ],
 "metadata": {
  "kernelspec": {
   "display_name": "Python 3",
   "language": "python",
   "name": "python3"
  },
  "language_info": {
   "codemirror_mode": {
    "name": "ipython",
    "version": 3
   },
   "file_extension": ".py",
   "mimetype": "text/x-python",
   "name": "python",
   "nbconvert_exporter": "python",
   "pygments_lexer": "ipython3",
   "version": "3.5.2"
  }
 },
 "nbformat": 4,
 "nbformat_minor": 2
}
