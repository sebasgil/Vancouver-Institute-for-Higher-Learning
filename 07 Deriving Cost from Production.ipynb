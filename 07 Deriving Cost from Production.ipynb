{
 "cells": [
  {
   "cell_type": "markdown",
   "metadata": {},
   "source": [
    "## Obtaining Cost from the Short-Run Production Function"
   ]
  },
  {
   "cell_type": "markdown",
   "metadata": {},
   "source": [
    "We can use the production function of a company to determine an expression for the cost function. This is achieved by multiplying the quantity of each business input by its price. For example, if a firm is to only use labor and capital as its inputs and capital is fixed in the short-run, it follows that the variable cost is **only determined by labor**. For example, a fully stocked hot-dog stand needs the labor of the salesman to run. We can categofize all all the direct and indirect costs of preparing the hot dog stand as fixed capital $\\bar{K}$ and keep the labor of the salesman as the sole determinant for variable cost so that $\\text{VC} = wL$ where $w$ is the worker's wage."
   ]
  },
  {
   "cell_type": "markdown",
   "metadata": {},
   "source": [
    "![japadog](http://4.bp.blogspot.com/_XBKpS4Tv7NY/S4AXWkj7mSI/AAAAAAAABLw/ghUSMXyaSg8/s400/japadog.jpg)"
   ]
  },
  {
   "cell_type": "markdown",
   "metadata": {},
   "source": [
    "In this example, capital is fixed, so the only way the hot dog company can produce more output (hotdogs) is by hiring an additional worker. The extra labor required to produce one more unit of output is $dL/dq = 1/MP_L$ The extra labor costs the firm $w$ per unit (the worker's wage), so the firm's cost rises by $w(dL/dq)$. Thus, we can obtain **a new expression for marginal cost in terms of production**:\n",
    "\n",
    "$$\n",
    "\\text{MC} = \\frac{dV(q)}{dq} = w\\frac{dL}{dq}\n",
    "$$\n",
    "\n",
    "We had defined the **marginal product of labor** as the rate of change of output with respect to labor. Thus, we arrive at the important relation\n",
    "\n",
    "$$\n",
    "\\text{MC} = \\frac{w}{\\text{MP}_L}\n",
    "$$\n",
    "\n",
    "In this way, we have demonstrated that there exists an **explicit relation** between the marginal product of labor and the marginal cost of a firm in the short-run."
   ]
  },
  {
   "cell_type": "markdown",
   "metadata": {},
   "source": [
    "## The Cobb-Douglas Production Function "
   ]
  },
  {
   "cell_type": "markdown",
   "metadata": {},
   "source": [
    "![cobb-douglas](https://upload.wikimedia.org/wikipedia/commons/c/c6/Cobb_douglas.png)"
   ]
  },
  {
   "cell_type": "markdown",
   "metadata": {},
   "source": [
    "**NOTE:**  In the above figure $Y$ denotes product output, but we will continue to use $q$"
   ]
  },
  {
   "cell_type": "markdown",
   "metadata": {},
   "source": [
    "Look at the image above. What do you see? How can we describe this? As is this case, the image above corresponds to a **Cobb-Douglas production function**, which is perhaps the most commonly used production function in microeconomics. It takes the form\n",
    "\n",
    "$$\n",
    "q(L,K) = L^aK^b\n",
    "$$\n",
    "\n",
    "This model is not without flaws, however. Indeed, a common criticism of this model is that Cobb and Douglas were influenced by statistical evidence that appeared to show that labor and capital shares of total output were constant over time in developed countries. They subsequently explained these observations in terms of statistical fitting least-squares regression of their production function. Moreover, the shape of the function was chosen not to reflect available knowledge of engineering, technology (or even thermodynamics!). Instead, it was chosen to be consistent with the **law of diminishing marginal returns** at the expense of other empirical data. Despite these flaws, the Cobb-Douglas model is still the standard use for analysis of production across various levels of industry."
   ]
  },
  {
   "cell_type": "markdown",
   "metadata": {},
   "source": [
    "## Exercise\n",
    "\n",
    "Find the marginal product of labor for the Cobb-Douglas production function"
   ]
  },
  {
   "cell_type": "markdown",
   "metadata": {},
   "source": [
    "## Returns to Scale "
   ]
  },
  {
   "cell_type": "markdown",
   "metadata": {},
   "source": [
    "In previous lectures we discussed the **economies and diseconomies of scale**. In review,\n",
    "\n",
    "* **economies of scale** are the cost advantages that enterprises obtain due to size, output, or scale of operation, with cost per unit of output generally decreasing with increasing scale as fixed costs are spread out over more units of output.\n",
    "\n",
    "* **diseconomies of scale** are the cost disadvantages that firms and governments accrue due to increase in firm size or output, resulting in production of goods and services at increased per-unit costs. \n",
    "\n",
    "\n",
    "One advantage of having an explicit equation for the production function is that we can make quantitative predictions for how it will be affected in terms of scale. The basic question is:\n",
    "\n",
    "**How does doubling the inputs of production affect the outputs?**\n",
    "\n",
    "In the next example we will see how to quantiatively arrive at an answer."
   ]
  },
  {
   "cell_type": "markdown",
   "metadata": {},
   "source": [
    "## Example\n",
    "\n",
    "Under what conditions does a general Cobb-Douglas production function $q = L^aK^b$ exhibit decreasing, constant, or increasing returns to scale?"
   ]
  },
  {
   "cell_type": "markdown",
   "metadata": {},
   "source": [
    "### Solution\n",
    "\n",
    "We begin by establishing the initial production before inputs are scaled by some factor $\\lambda$. We could express the initial production level as\n",
    "\n",
    "$$\n",
    "q_0 = L^aK^b\n",
    "$$\n",
    "\n",
    "Setting our scaling factor $\\lambda = 2$ suggests that the inputs are being doubled. Thus, the production level after scaling will be\n",
    "\n",
    "$$\n",
    "q_1 = (2L)^a(2K)^b = 2^{a + b}L^aK^b\n",
    "$$\n",
    "\n",
    "Thus, $q_1 = 2^{a + b}q_0$. If we define $\\gamma = a + b$ our expression becomes\n",
    "\n",
    "$$\n",
    "q_1 = 2^\\gamma q_0\n",
    "$$\n",
    "\n",
    "As we see below, the value of $\\gamma$ determines the returns to scale that we get. There are three cases\n",
    "\n",
    "1) If $\\gamma = 1$, then $q_1 = 2q_0$ meaning that output doubled from doubling the inputs. This corresponds to **constant returns to scale**.\n",
    "\n",
    "2) If $\\gamma < 1$, say $\\gamma = 0.5$ then $2^{\\gamma} q_0 < 2q_0$ because $2^{0.5} < 1$. So although output is still increasing, it is no longer doubling with the doubling of the inputs. This corresponds to **decreasing returns to scale**. When the returns to scale are decreasing, we associate the change in productivity with **diseconomies of scale**.\n",
    "\n",
    "3) If $\\gamma > 1$, then $q_1 > q_0$ since $2^\\gamma q_0 >  2 q_0$. In this case doubling the inputs results in more than double the outputs, which we identify with **increasing returns to scale**. This case corresponds to **economies of scale**.\n",
    "\n",
    "The value of $\\gamma$ is so important that it gets its own name. Economists call it **scale elasticity**."
   ]
  },
  {
   "cell_type": "markdown",
   "metadata": {},
   "source": [
    "#### Generalizing a bit further\n",
    "\n",
    "In the above discussion we talked about doubling the inputs, but we could have easily chosen to triple, quadruple or quintuple the inputs. If that is the case we keep $\\lambda$ as a variable and write.\n",
    "\n",
    "$$\n",
    "q_1 = \\lambda^\\gamma q_0\n",
    "$$\n",
    "\n",
    "The further we generalzie, the more variables we are bound to encounter in our equations!"
   ]
  },
  {
   "cell_type": "markdown",
   "metadata": {},
   "source": [
    "## Theory of Knowledge"
   ]
  },
  {
   "cell_type": "markdown",
   "metadata": {},
   "source": [
    "The notion of **scale elasticity** allows us to describe quantitatively the effect that size has on the efficiency of production. At the end of the day, howeover, it is an abstraction. How useful do you think such a measure might be? Do you think that economists develop such quantities to explain their observations from statistical analysis or to make predictions? Consider a small factory increasing its scale of operations. Under what *qualtiative* circumstances would the returns to scale be constant? Under what circumstances would the returns to scale be increasing? Decreasing?\n",
    "\n",
    "\n",
    "Discuss with your classmate and write a short piece for 10 minutes on the issue."
   ]
  }
 ],
 "metadata": {
  "kernelspec": {
   "display_name": "Python 3",
   "language": "python",
   "name": "python3"
  },
  "language_info": {
   "codemirror_mode": {
    "name": "ipython",
    "version": 3
   },
   "file_extension": ".py",
   "mimetype": "text/x-python",
   "name": "python",
   "nbconvert_exporter": "python",
   "pygments_lexer": "ipython3",
   "version": "3.5.2"
  }
 },
 "nbformat": 4,
 "nbformat_minor": 2
}
