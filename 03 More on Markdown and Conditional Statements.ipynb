{
 "cells": [
  {
   "cell_type": "markdown",
   "metadata": {},
   "source": [
    "# Markdown Review"
   ]
  },
  {
   "cell_type": "markdown",
   "metadata": {},
   "source": [
    "Create a notebook for this lesson and write down your response to each of the questions below:\n",
    "\n",
    "* Explain the main differences between active and innactive cells\n",
    "\n",
    "* What is mathmode and why is it useful for scientific applications?\n",
    "\n",
    "* You want to include an image into your notebook from your hard disk. What do you have to do? Where does it have to be located?\n",
    "\n",
    "* Match the correct markdown wrapper to its corresponding output:\n",
    "\n",
    "| Feature        | Markdown         |\n",
    "|----------------|------------------|\n",
    "| bold           | \\$text\\$         |\n",
    "| italics        | \\*text\\*         |\n",
    "| list           | \\*\\*text\\*\\*     |\n",
    "| mathmode       | \\!\\[stuff](url)  |\n",
    "| passive code           | \\* a \\* b        |\n",
    "| hyperlink      | \\[stuff](url)    |\n",
    "| image          | \\`\\`\\`text\\`\\`\\` |\n",
    "| ignore feature | \\\\text\\\\         |\n",
    "\n",
    "From now on, you are expected to document your progress in your notebook. Remember that writing good comments is **indispensable** towards remembering what the syntax of your code means!"
   ]
  },
  {
   "cell_type": "markdown",
   "metadata": {},
   "source": [
    "**NOTE:** A passive code block looks like this"
   ]
  },
  {
   "cell_type": "markdown",
   "metadata": {},
   "source": [
    "\\`\\`\\`python\n",
    "\n",
    "print('This is a command')\n",
    "\n",
    "\\`\\`\\`"
   ]
  },
  {
   "cell_type": "markdown",
   "metadata": {},
   "source": [
    "```python\n",
    "print('This is a command')\n",
    "```"
   ]
  },
  {
   "cell_type": "code",
   "execution_count": 2,
   "metadata": {
    "collapsed": false
   },
   "outputs": [
    {
     "name": "stdout",
     "output_type": "stream",
     "text": [
      "This is a command.\n"
     ]
    }
   ],
   "source": [
    "print('This is a command.')"
   ]
  },
  {
   "cell_type": "code",
   "execution_count": 3,
   "metadata": {
    "collapsed": false
   },
   "outputs": [
    {
     "data": {
      "text/plain": [
       "'Is is a good idea to not use print?'"
      ]
     },
     "execution_count": 3,
     "metadata": {},
     "output_type": "execute_result"
    }
   ],
   "source": [
    "'Is is a good idea to not use print?'"
   ]
  },
  {
   "cell_type": "markdown",
   "metadata": {},
   "source": [
    "## Making Tables "
   ]
  },
  {
   "cell_type": "markdown",
   "metadata": {},
   "source": [
    "You may want to make tables in markdown. These obey the following syntax:\n",
    "\n",
    "\n",
    "```\n",
    "| Tables   |      Are      |  Cool |\n",
    "|----------|:-------------:|------:|\n",
    "| col 1 is |  left-aligned | 600   |\n",
    "| col 2 is |    centered   | 12    |\n",
    "| col 3 is | right-aligned | 1     |\n",
    "```"
   ]
  },
  {
   "cell_type": "markdown",
   "metadata": {},
   "source": [
    "To produce:\n",
    "\n",
    "| Tables   |      Are      |  Cool |\n",
    "|----------|:-------------:|------:|\n",
    "| col 1 is |  left-aligned | 600   |\n",
    "| col 2 is |    centered   | 12    |\n",
    "| col 3 is | right-aligned | 1     |\n",
    "\n",
    "But there is a much easier thing that you can do! You can use an [online-table generator](http://www.tablesgenerator.com/markdown_tables#) and save yourself valuable time."
   ]
  },
  {
   "cell_type": "markdown",
   "metadata": {},
   "source": [
    "### Exercise: Follow the link above to make a table describing all the provinces of canada with their respective capital"
   ]
  },
  {
   "cell_type": "markdown",
   "metadata": {},
   "source": [
    "## More on Math-mode "
   ]
  },
  {
   "cell_type": "markdown",
   "metadata": {},
   "source": [
    "Recall that to write equations in markdown we use a language known as mathmode. Math-mode obeys its own syntax rules. Here are some of the most commonly used statements to get you started:\n",
    "\n",
    "We begin with superscripts and subscripts\n",
    "\n",
    "```latex\n",
    "$a^x$\n",
    "```\n",
    "\n",
    "$a^x$\n",
    "\n",
    "```latex\n",
    "$a_x$\n",
    "```\n",
    "\n",
    "$a_x$\n",
    "\n",
    "The Greek alphabet is available in its entirety\n",
    "\n",
    "```latex\n",
    "$\\mu$\n",
    "$\\nu$\n",
    "$\\alpha$\n",
    "```\n",
    "\n",
    "$\\mu$\n",
    "\n",
    "$\\nu$\n",
    "\n",
    "$\\alpha$\n",
    "\n",
    "Some commands take two arguments\n",
    "\n",
    "```latex\n",
    "$\\frac{a}{b}$\n",
    "```\n",
    "\n",
    "$\\frac{a}{b}$\n",
    "\n",
    "The ```\\frac{}{}``` command is very useful. It can be used to nest commands inside it. So for example, if you want to write an expression for a derivative you can combine it with the others:\n",
    "\n",
    "```latex\n",
    "$\\frac{d^2f(x)}{dx^2}$\n",
    "```\n",
    "\n",
    "$\n",
    "\\frac{d^2f(x)}{dx^2} \n",
    "$\n",
    "\n",
    "If we want to write an integral we'd write\n",
    "\n",
    "```latex\n",
    "$\\int_a^b f(x) \\,dx$\n",
    "```\n",
    "\n",
    "$\\int_a^b f(x) \\,dx$\n",
    "\n",
    "Finally, the number of \\$s affects what the output looks like. If we want to write an equation in line with the text we wrap it with one \\$. For example, writing `$y = mx + b$` will give us $ y = mx + b$. Conversely, wrapping the same expression in two dollar signs will center the equation:\n",
    "\n",
    "$$\n",
    "y = mx + b\n",
    "$$"
   ]
  },
  {
   "cell_type": "markdown",
   "metadata": {},
   "source": [
    "# Introducing Choice: if-else Statements "
   ]
  },
  {
   "cell_type": "markdown",
   "metadata": {},
   "source": [
    "One of the most important concepts in programming is that of condition testing. As our programs become more sophisticated  and involved, we will want our code to be able to test for certain criteria being met before proceeding. This is closely related to the intersection between logic and computer science: we use true and false **Boolean** statements to test conditions. The diagram below is a conceptual representation of this idea. Diagrams of this type are known as **flow charts** and are very useful tools to plan our programs before we begin to write them."
   ]
  },
  {
   "cell_type": "markdown",
   "metadata": {},
   "source": [
    "![flowchart](http://3.bp.blogspot.com/-UlLJSDK9FDk/UteLBzZ5JtI/AAAAAAAAAlc/B5PvYWejnQ4/s1600/if+else.png)"
   ]
  },
  {
   "cell_type": "markdown",
   "metadata": {},
   "source": [
    "## Comparison operators"
   ]
  },
  {
   "cell_type": "markdown",
   "metadata": {},
   "source": [
    "Since conditional statements involve determining the truthfulness or falsehood behind a statement, it is of great importance to introduce comparison operators:\n",
    "\n",
    "| Comparison            | Operators |\n",
    "|-----------------------|-----------|\n",
    "| value assignment      | =         |\n",
    "| is equal to           | ==        |\n",
    "| is unequal to         | !=        |\n",
    "| greater than          | >         |\n",
    "| less than             | <         |\n",
    "| greater or equal than | >=        |\n",
    "| less or equal than    | <=        |"
   ]
  },
  {
   "cell_type": "markdown",
   "metadata": {},
   "source": [
    "## The if Statement"
   ]
  },
  {
   "cell_type": "markdown",
   "metadata": {},
   "source": [
    "We begin my considering the simplest case of an if statement. These statements obey the following syntax\n",
    "\n",
    ">```python\n",
    "if expression:\n",
    "    statements\n",
    "```"
   ]
  },
  {
   "cell_type": "markdown",
   "metadata": {},
   "source": [
    "If `expression` is evaluated as false, the code under `statements` **will not** be run. The example below is more concrete. Please run it in your notebook.\n",
    "\n",
    ">```python\n",
    "if 10 > 5:\n",
    "    print(\"10 greater than 5\")\n",
    "print(\"Program ended.\")\n",
    "```"
   ]
  },
  {
   "cell_type": "code",
   "execution_count": 23,
   "metadata": {
    "collapsed": false
   },
   "outputs": [
    {
     "name": "stdout",
     "output_type": "stream",
     "text": [
      "10 is greater that 5\n",
      "Program ended.\n"
     ]
    }
   ],
   "source": [
    "if 10 > 5:\n",
    "    print('10 is greater that 5')\n",
    "print('Program ended.')"
   ]
  },
  {
   "cell_type": "markdown",
   "metadata": {},
   "source": [
    "It is of great importance to indent the code inside the if-statement. Failure to do so will result in an error. To illustrate, attempt to run the following in a new cell:\n",
    "\n",
    "\n",
    ">```python\n",
    "if 10 > 5:\n",
    "print(\"10 is greater than 5\")\n",
    "print(\"Program ended.\")\n",
    "```\n",
    "\n",
    "What kind of error do you get?\n"
   ]
  },
  {
   "cell_type": "code",
   "execution_count": 20,
   "metadata": {
    "collapsed": false
   },
   "outputs": [
    {
     "ename": "IndentationError",
     "evalue": "expected an indented block (<ipython-input-20-a236f8573300>, line 2)",
     "output_type": "error",
     "traceback": [
      "\u001b[0;36m  File \u001b[0;32m\"<ipython-input-20-a236f8573300>\"\u001b[0;36m, line \u001b[0;32m2\u001b[0m\n\u001b[0;31m    print(\"10 is greater than 5\")\u001b[0m\n\u001b[0m        ^\u001b[0m\n\u001b[0;31mIndentationError\u001b[0m\u001b[0;31m:\u001b[0m expected an indented block\n"
     ]
    }
   ],
   "source": [
    "if 10 > 5:\n",
    "print(\"10 is greater than 5\")\n",
    "print(\"Program ended.\")"
   ]
  },
  {
   "cell_type": "markdown",
   "metadata": {},
   "source": [
    "\n",
    "\n",
    "Now, we can use our if statements in conjunction with variable assignments. In the example below, we will get different results depending on the variable `spam`. Run the code in a cell for `spam = 7`, `spam = 5`, `spam = 8` and `spam = 9`. Report your findings.\n",
    "\n",
    "\n",
    ">```python\n",
    "spam = 7\n",
    "if spam > 5:\n",
    "    print(\"five\")\n",
    "if spam > 8:\n",
    "    print(\"eight\")\n",
    "```"
   ]
  },
  {
   "cell_type": "code",
   "execution_count": 28,
   "metadata": {
    "collapsed": false
   },
   "outputs": [
    {
     "name": "stdout",
     "output_type": "stream",
     "text": [
      "five\n",
      "eight\n",
      "Program ended.\n"
     ]
    }
   ],
   "source": [
    "# declare the variable\n",
    "spam = 9\n",
    "# make the if statement\n",
    "if spam > 5:\n",
    "    print('five')\n",
    "if spam > 8:\n",
    "    print('eight')\n",
    "print('Program ended.')"
   ]
  },
  {
   "cell_type": "markdown",
   "metadata": {},
   "source": [
    "## The else Statement "
   ]
  },
  {
   "cell_type": "markdown",
   "metadata": {},
   "source": [
    "So far, we've only worked with if statements. These can be combined with an else statement.\n",
    "\n",
    ">```python\n",
    "x = 4\n",
    "if x == 5:\n",
    "    print(\"yes\")\n",
    "else:\n",
    "    print(\"no\")\n",
    "```"
   ]
  },
  {
   "cell_type": "code",
   "execution_count": 36,
   "metadata": {
    "collapsed": false
   },
   "outputs": [
    {
     "name": "stdout",
     "output_type": "stream",
     "text": [
      "yes\n"
     ]
    }
   ],
   "source": [
    "#x = 'sebastian'\n",
    "x = 5\n",
    "# the type command checks whether a variable is a string, an integer or a float\n",
    "if type(x) == int:\n",
    "    print('yes')\n",
    "else:\n",
    "    print('no')"
   ]
  },
  {
   "cell_type": "code",
   "execution_count": 37,
   "metadata": {
    "collapsed": false
   },
   "outputs": [
    {
     "name": "stdout",
     "output_type": "stream",
     "text": [
      "no\n"
     ]
    }
   ],
   "source": [
    "x = 'sebastian'\n",
    "#x = 5\n",
    "# the type command checks whether a variable is a string, an integer or a float\n",
    "if type(x) == int:\n",
    "    print('yes')\n",
    "else:\n",
    "    print('no')"
   ]
  },
  {
   "cell_type": "code",
   "execution_count": 38,
   "metadata": {
    "collapsed": false
   },
   "outputs": [
    {
     "name": "stdout",
     "output_type": "stream",
     "text": [
      "True\n"
     ]
    }
   ],
   "source": [
    "#x = 'sebastian'\n",
    "x = 5\n",
    "# the type command checks whether a variable is a string, an integer or a float\n",
    "if type(x) == int:\n",
    "    print(True)\n",
    "else:\n",
    "    print(False)"
   ]
  },
  {
   "cell_type": "markdown",
   "metadata": {},
   "source": [
    "The `else` command allows us to be explicit about what output we desire if an expression is evaluated as false."
   ]
  },
  {
   "cell_type": "markdown",
   "metadata": {},
   "source": [
    "## Nested Statements"
   ]
  },
  {
   "cell_type": "markdown",
   "metadata": {},
   "source": [
    "![nested](http://www.scriptingmaster.com/images/active-server-pages/Nested-IF.gif)"
   ]
  },
  {
   "cell_type": "markdown",
   "metadata": {},
   "source": [
    "It is also possible to insert a conditional statmenet inside a condition. This is known as **nesting statements**. Run the following examples to get some familiarity.\n",
    "\n",
    ">```python\n",
    "num = 12\n",
    "if num > 5:\n",
    "    print(\"Bigger than 5\")\n",
    "    if num <= 42:\n",
    "        print(\"Between 5 and 42)\n",
    "```"
   ]
  },
  {
   "cell_type": "code",
   "execution_count": 49,
   "metadata": {
    "collapsed": false
   },
   "outputs": [],
   "source": [
    "num = 0\n",
    "if num > 5:\n",
    "    print('Bigger than 5')\n",
    "    if num <= 42:\n",
    "        print('Between 5 and 42')"
   ]
  },
  {
   "cell_type": "markdown",
   "metadata": {},
   "source": [
    "In the example above, find a value for num such that:\n",
    "\n",
    "* only the first statement is printed\n",
    "* neither of the statements is printed\n",
    "* only the second statement is printed"
   ]
  },
  {
   "cell_type": "markdown",
   "metadata": {},
   "source": [
    ">```python\n",
    "num = 7\n",
    "if num > 3:\n",
    "    print(\"3\")\n",
    "    if num < 5:\n",
    "        print(\"5\")\n",
    "        if num == 7:\n",
    "            print(\"7\")\n",
    "```"
   ]
  },
  {
   "cell_type": "code",
   "execution_count": 53,
   "metadata": {
    "collapsed": false
   },
   "outputs": [
    {
     "name": "stdout",
     "output_type": "stream",
     "text": [
      "3\n"
     ]
    }
   ],
   "source": [
    "num = 7\n",
    "if num > 3:\n",
    "    print('3')\n",
    "    if num < 5:\n",
    "        print('5')\n",
    "        if num == 7:\n",
    "            print('7')"
   ]
  },
  {
   "cell_type": "markdown",
   "metadata": {},
   "source": [
    "Rewrite the code above so that '7' is printed."
   ]
  },
  {
   "cell_type": "code",
   "execution_count": 54,
   "metadata": {
    "collapsed": false
   },
   "outputs": [
    {
     "name": "stdout",
     "output_type": "stream",
     "text": [
      "3\n",
      "5\n",
      "7\n"
     ]
    }
   ],
   "source": [
    "num = 7\n",
    "if num > 3:\n",
    "    print('3')\n",
    "    if num > 5:\n",
    "        print('5')\n",
    "        if num == 7:\n",
    "            print('7')"
   ]
  },
  {
   "cell_type": "markdown",
   "metadata": {},
   "source": [
    "Of course, we can nest both if and else statements, which allows for more intricate condition testing:\n",
    "\n",
    "\n",
    ">```python\n",
    "num = 7\n",
    "if num == 5\n",
    "    print('Number is 5')\n",
    "else:\n",
    "    if num == 11:\n",
    "        print('Number is 11')\n",
    "    else:\n",
    "        if num == 7:\n",
    "            print('Number is 7')\n",
    "        else:\n",
    "            print('Number is neither 5, 11 or 7')\n",
    "```\n",
    "\n",
    "Run the above example for `num = 7, 5, 11, and 8` and explain your findings"
   ]
  },
  {
   "cell_type": "code",
   "execution_count": 59,
   "metadata": {
    "collapsed": false
   },
   "outputs": [
    {
     "name": "stdout",
     "output_type": "stream",
     "text": [
      "Number is neither 5, 11 or 7\n"
     ]
    }
   ],
   "source": [
    "num = 8\n",
    "if num == 5:\n",
    "    print('Number is 5')\n",
    "else:\n",
    "    if num == 11:\n",
    "        print('Number is 11')\n",
    "    else:\n",
    "        if num == 7:\n",
    "            print('Number is 7')\n",
    "        else:\n",
    "            print('Number is neither 5, 11 or 7')"
   ]
  },
  {
   "cell_type": "markdown",
   "metadata": {},
   "source": [
    "## The elif command "
   ]
  },
  {
   "cell_type": "markdown",
   "metadata": {},
   "source": [
    "Python has a built-in command known as `elif`, which stands for 'else if'. It provides a very useful shortcut when we are nesting if and else statements inside each other. We can take the previous example and rewrite it as follows:\n",
    "\n",
    ">```python\n",
    "num = 7\n",
    "if num == 5:\n",
    "    print('Number is 5')\n",
    "elif num == 11:\n",
    "    print('Number is 11')\n",
    "elif num == 7:\n",
    "    print('Number is 7')\n",
    "else:\n",
    "    print('Number is neither 5, 11 or 7')\n",
    "```"
   ]
  },
  {
   "cell_type": "code",
   "execution_count": 62,
   "metadata": {
    "collapsed": false
   },
   "outputs": [
    {
     "name": "stdout",
     "output_type": "stream",
     "text": [
      "Number is neither 5, 11 or 7\n"
     ]
    }
   ],
   "source": [
    "num = 8\n",
    "if num == 5:\n",
    "    print('Number is 5')\n",
    "elif num == 11:\n",
    "    print('Number is 11')\n",
    "elif num == 7:\n",
    "    print('Number is 7')\n",
    "else:\n",
    "    print('Number is neither 5, 11 or 7')"
   ]
  },
  {
   "cell_type": "markdown",
   "metadata": {},
   "source": [
    "By using `elif`, we can reserve the final `else` as a check to be used if none of the previous conditions evaluated as true."
   ]
  },
  {
   "cell_type": "markdown",
   "metadata": {},
   "source": [
    "### Exercise: Make an if-else block to select between color = blue, red or green "
   ]
  },
  {
   "cell_type": "code",
   "execution_count": 73,
   "metadata": {
    "collapsed": false
   },
   "outputs": [
    {
     "name": "stdout",
     "output_type": "stream",
     "text": [
      "The color is neither blue, red or green or you gave a string that is not a color.\n"
     ]
    }
   ],
   "source": [
    "color = 'yellow'\n",
    "if type(color) == str:\n",
    "    if color == 'blue':\n",
    "        print('The color is blue.')\n",
    "    elif color == 'red':\n",
    "        print('The color is red.')\n",
    "    elif color == 'green':\n",
    "        print('The color is green.')\n",
    "    else:\n",
    "        print('The color is neither blue, red or green or you gave a string that is not a color.')\n",
    "else:\n",
    "    print(\"\"\"The input is not a string.\n",
    "Please choose from \\'blue\\', \\'red\\' or \\'green\\'.\"\"\")"
   ]
  },
  {
   "cell_type": "markdown",
   "metadata": {},
   "source": [
    "A paradox:"
   ]
  },
  {
   "cell_type": "code",
   "execution_count": 44,
   "metadata": {
    "collapsed": false
   },
   "outputs": [
    {
     "name": "stdout",
     "output_type": "stream",
     "text": [
      "This will never happen.\n"
     ]
    }
   ],
   "source": [
    "if False:\n",
    "    print('This will always happen.')\n",
    "else:\n",
    "    print('This will never happen.')"
   ]
  },
  {
   "cell_type": "code",
   "execution_count": null,
   "metadata": {
    "collapsed": true
   },
   "outputs": [],
   "source": []
  }
 ],
 "metadata": {
  "kernelspec": {
   "display_name": "Python 3",
   "language": "python",
   "name": "python3"
  },
  "language_info": {
   "codemirror_mode": {
    "name": "ipython",
    "version": 3
   },
   "file_extension": ".py",
   "mimetype": "text/x-python",
   "name": "python",
   "nbconvert_exporter": "python",
   "pygments_lexer": "ipython3",
   "version": "3.5.2"
  }
 },
 "nbformat": 4,
 "nbformat_minor": 2
}
