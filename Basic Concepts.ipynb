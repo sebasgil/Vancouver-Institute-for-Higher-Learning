{
 "cells": [
  {
   "cell_type": "markdown",
   "metadata": {},
   "source": [
    "## What is Python? "
   ]
  },
  {
   "cell_type": "markdown",
   "metadata": {},
   "source": [
    "![logo](https://www.python.org/static/community_logos/python-logo-master-v3-TM.png)"
   ]
  },
  {
   "cell_type": "markdown",
   "metadata": {},
   "source": [
    "**Python** is a high-level programming language, with applications in numerous areas, including web programming, scripting, scientific computing, and aritficial intelligence.\n",
    "\n",
    "It is very popular and used by organizations such as Google, NASA, the CIA, Netflix and Disney.\n",
    "\n",
    "Python is processed at runtime by the interpreter. There is no need to compile your programs before executing them."
   ]
  },
  {
   "cell_type": "markdown",
   "metadata": {},
   "source": [
    "The three major versions of Python are 1.x, 2.x and 3.x. These are subdivided into minor versions, such as 2.7 and 3.3. Code written for Python 3.x is guaranteed to work in all future versions. Both Python Version 2.x and 3.x are used currently.\n",
    "\n",
    "As is the case, Phython is a high-level language written in C, which is a low-level language. The main difference between low-level and high-level languages has to do with how the code is compiled and turned into binary form -- the `01010101111` matrix characters that computers read natively. But we need not worry about this! An **interpreter** is a program that runs scripts or individual commands directly from the command line. A **script** is a text file with code written in it that can be run directly from the interpreter. Most high-level programming languages work in this way."
   ]
  },
  {
   "cell_type": "markdown",
   "metadata": {},
   "source": [
    "Python can be used in multiple ways. We can run it directly from the command line in the interpreter or run it in a GUI (**Graphical User Interface**) such as an IDLE (**Integrated Development Environment**). The platforms we are currently using, Anaconda and Jupyter, are IDLEs that incorporate additional languages, such as Markdown and TeX."
   ]
  },
  {
   "cell_type": "markdown",
   "metadata": {},
   "source": [
    "![mac](http://blog.teamtreehouse.com/wp-content/uploads/2012/09/Screen-Shot-2012-09-25-at-12.57.19-PM.png)"
   ]
  },
  {
   "cell_type": "markdown",
   "metadata": {},
   "source": [
    "## Our first program "
   ]
  },
  {
   "cell_type": "markdown",
   "metadata": {},
   "source": [
    "Let's run\n",
    "\n",
    "```python\n",
    "print(\"Hello world!\")\n",
    "```\n",
    "from the command-line interpreter and from the notebook. In the terminal, code is run by pressing ```ENTER``` (or ```RETURN``` in a Mac), whereas in a notebook a cell of code is run using ```SHIFT + ENTER```."
   ]
  },
  {
   "cell_type": "markdown",
   "metadata": {},
   "source": [
    "### From the command line "
   ]
  },
  {
   "cell_type": "markdown",
   "metadata": {},
   "source": [
    "1. Go to your browser and open the terminal\n",
    "2. Type in python3\n",
    "3. You should get the version number followed by three quote marks `>>>`\n",
    "4. You are successfully inside the matrix ;)\n",
    "\n",
    "**WARNING:** Some computers have both `python` and `python3` as options. The first one runs Python 2.7, which athough very similar to Python 3.x, has big differences in the syntax of the language. So always make sure that you are running **python3** from the command line!"
   ]
  },
  {
   "cell_type": "markdown",
   "metadata": {},
   "source": [
    "**Activity** : use the ```print``` command to output a couple of sentences.\n",
    "\n",
    "Keep in mind that **syntax** is essential to run code.\n",
    "\n",
    "```python\n",
    "print('This is ok')\n",
    "```\n",
    "\n",
    "will run, but\n",
    "```python\n",
    "print 'Try this'\n",
    "```\n",
    "\n",
    "or\n",
    "\n",
    "```python\n",
    "print This\n",
    "```\n",
    "\n",
    "will result in an error. What does the error say?"
   ]
  },
  {
   "cell_type": "markdown",
   "metadata": {},
   "source": [
    "### From the notebook"
   ]
  },
  {
   "cell_type": "markdown",
   "metadata": {},
   "source": [
    "The main advantage of notebooks is that they are human-readable and allow for rich text formatting (*italics*, **bold**, [hyperlinks](https://www.google.ca/?gfe_rd=cr&ei=paLqWIyLG6rP8geB1aDoCw) , etc.) This text formatting is done in Markdown, which we will learn about in the next lecture.\n",
    "\n",
    "To open a notebook,\n",
    "\n",
    "1. Launch the Anaconda Navigator\n",
    "2. Select Launch Jupyter\n",
    "3. You will be taken to the web server\n",
    "4. Navigate to your desired folder\n",
    "5. On the right side, you should be able to select New > Notebook > Python3"
   ]
  },
  {
   "cell_type": "markdown",
   "metadata": {},
   "source": [
    "### More on the Command line "
   ]
  },
  {
   "cell_type": "markdown",
   "metadata": {},
   "source": [
    "We can contrast running python code from the command line and from the notebook in an important way:\n",
    "\n",
    "While code run from the notebook is saved immediately, code run from the console is *not*. We exit from the console using ```exit()``` To appreciate this, we can use the ```clear``` command from the terminal shell. \\*Poof\\*, everything we did is now gone... Another important difference between the command line and the notebooks is that the command line has its own language to manipulate files and programs, which in Mac and Linux systems is known as **bash**.\n",
    "\n",
    "Here are some elementary **bash** commands to allow us to get comfortable with the terminal:\n",
    "\n",
    "* **pwd** : prints the working directory (or folder)\n",
    "* **ls** : display the contents of a directory\n",
    "* **clear** : reset the screen\n",
    "* **python3** : open the python interpreter\n",
    "* **history** : shows the command history\n",
    "* **jupyter notebook** : open the Jupyter webserver\n",
    "* **cd** : change directories\n",
    "    - when we want to move from one directory to another using bash, we ** must ** abide by the following syntax:\n",
    "    - from current directory: `cd 'Folder 1'/Subfolder 1A'/`\n",
    "    - recognize that the names of the folders are wrapped in quotes like this: 'text' . We will explain why this is important shortly.\n",
    "    \n",
    "**NOTE:** Whenever we run ```python3``` or ```jupyter notebook``` , all tasks are to be carried out from within the current directory!\n",
    "\n",
    "**NOTE:** Once we are inside ```python``` from the terminal, the **bash** commands will no longer work. To get back to our file navigator, we first must exit the `python` session with `exit()`."
   ]
  },
  {
   "cell_type": "markdown",
   "metadata": {},
   "source": [
    "![directories](https://zapier.cachefly.net/storage/photos/afcb5e29842a4dde75d47627f506941a.png)"
   ]
  },
  {
   "cell_type": "markdown",
   "metadata": {},
   "source": [
    "## Basic arithmetic "
   ]
  },
  {
   "cell_type": "markdown",
   "metadata": {},
   "source": [
    "We can now proceed to carrying out simple operations with the interpreter. Let's open a session and try typing each line of code one at a time:\n",
    "\n",
    "~~~~\n",
    ">>> 2 + 2\n",
    ">>> 5 - 2\n",
    ">>> 5-2\n",
    ">>> 2*(3 + 4)\n",
    "~~~~"
   ]
  },
  {
   "cell_type": "markdown",
   "metadata": {},
   "source": [
    "What effect do spaces have between numbers and arithmetic operators, if at all?\n",
    "\n",
    "Let's also try\n",
    "\n",
    "~~~~\n",
    ">>> 10/2\n",
    "~~~~\n",
    "\n",
    "All of the arithmetic that we know from math can be run through the interpreter, with a few differences:\n",
    "\n",
    "* $a \\times b$ becomes ```a * b```\n",
    "* $a^x$ becomes ```a**x```\n",
    "* $\\frac{q}{p}$ becomes ```q/p```\n",
    "\n",
    "What happens if you try to put ```5^2``` into the console?\n",
    "Compare ```4/2``` with ```4//2```. What do you think this might signify?\n",
    "\n",
    "Finally, let's try ```11/0```. What kind of output do we get? Whenever we get an error, it gives us a clue about what mistaken assumption we made, or wheter a certain operation is not allowed!"
   ]
  },
  {
   "cell_type": "markdown",
   "metadata": {},
   "source": [
    "![arithmetic](http://www2.hawaii.edu/~takebaya/cent110/selection/arithmetic_operators.png)"
   ]
  },
  {
   "cell_type": "markdown",
   "metadata": {},
   "source": [
    "## Types of output "
   ]
  },
  {
   "cell_type": "markdown",
   "metadata": {},
   "source": [
    "We see that what distinguishes ```a/b``` from ```a//b``` is whether there is a decimal. The first operation is known as *float divison* whereas the second one is known as *floor division*. Run the following:\n",
    "\n",
    "```python\n",
    ">>> 5//2\n",
    "```\n",
    "\n",
    "```python\n",
    ">>> 5%2\n",
    "```\n",
    "Floor divison gives us the nearest whole number that we can divide by, while ```%``` gives us the remainder from a divison. The reason behind all of this is that computers cannot handle fractions very well and in addition need to be told when and how many decimal places we want at a given time. Whenever our output involves fractions and decimals, we refer to it as **floating point arithmetic**.\n",
    "\n",
    "We canc check for the **type** of a number with a very handy tool:\n",
    "\n",
    "```python\n",
    ">>> type(a)\n",
    "```\n",
    "\n",
    "Run the following code and report what you get:\n",
    "\n",
    "```python\n",
    ">>> type(2)\n",
    ">>> type(2.0)\n",
    ">>> type('2')\n",
    ">>> type('a word')\n",
    ">>> type(True)\n",
    "```\n",
    "Now try to type in this\n",
    "\n",
    "```python\n",
    ">>> type(a word)\n",
    "```"
   ]
  },
  {
   "cell_type": "markdown",
   "metadata": {},
   "source": [
    "As usual, watch out for errors in your input! If we want Python to deal with plain text, we **must** wrap it in single quotes \\`` . Otherwise the interpreter will think that we are trying to give it some specified command, or some variable for which we have assigned a value.\n",
    "\n",
    "When we wrap plain text in quotes \\`` , we call it a **string**."
   ]
  },
  {
   "cell_type": "markdown",
   "metadata": {},
   "source": [
    "What if we want to print a string that involves quotes? We can get around this by doing:\n",
    "\n",
    "```python\n",
    ">>> print('She\\'s very tall.')\n",
    "```\n",
    "\n",
    "From now on, I will run code from the notebook. Notice that the code is cyan whenever there is a # in front of it. In Python, the # symbol is very important. It tells Python to not run this line as code. This is an essential aspect of programming in scripts, which is known as leaving **comments**. When we write scripts, it is very very important to document our progress with good comments. You'd be surprised how frustrating it can be to read something you wrote 2 weeks ago and not understand at all what it does because there are no comments!"
   ]
  },
  {
   "cell_type": "code",
   "execution_count": 27,
   "metadata": {
    "collapsed": false
   },
   "outputs": [
    {
     "name": "stdout",
     "output_type": "stream",
     "text": [
      "She's very tall.\n"
     ]
    }
   ],
   "source": [
    "print('She\\'s very tall.')"
   ]
  },
  {
   "cell_type": "markdown",
   "metadata": {},
   "source": [
    "Whenever we want to use a character with a reserved usage inside a string, we place a backslash \\\\ before it. Such characters are known as **escape characters**.\n",
    "\n",
    "Now, if we want to print a couple lines of text with strings between them, we have some choices:\n",
    "\n",
    "```python\n",
    "print('This is the first \\n choice of what we may do.)\n",
    "print(\"\"\" This is the second choice of what we may do.\n",
    "Pressing ENTER is understood as a line break whenever\n",
    "triple quotes are involved.\"\"\")\n",
    "```"
   ]
  },
  {
   "cell_type": "code",
   "execution_count": 28,
   "metadata": {
    "collapsed": false
   },
   "outputs": [
    {
     "name": "stdout",
     "output_type": "stream",
     "text": [
      "This is the first \n",
      "choice of what we may do.\n"
     ]
    }
   ],
   "source": [
    "print('This is the first \\nchoice of what we may do.')"
   ]
  },
  {
   "cell_type": "code",
   "execution_count": 15,
   "metadata": {
    "collapsed": false
   },
   "outputs": [],
   "source": [
    "print(\"\"\"This is the second choice of what we may do.\n",
    "Pressing ENTER is understood as a line break whenever\n",
    "triple quotes are involved.\"\"\")"
   ]
  },
  {
   "cell_type": "markdown",
   "metadata": {},
   "source": [
    "## Variables "
   ]
  },
  {
   "cell_type": "markdown",
   "metadata": {
    "collapsed": true
   },
   "source": [
    "So far we've run code in such a way that the output is used as a one time thing. But what if we want to store values inside the computer's memory? This is easily accomplished by means of variables. In practice, we can **assign** a value to any arbitrary word, provided that the word is not a **reserved word** whose use is restricted by the language."
   ]
  },
  {
   "cell_type": "code",
   "execution_count": 29,
   "metadata": {
    "collapsed": true
   },
   "outputs": [],
   "source": [
    "x = 5"
   ]
  },
  {
   "cell_type": "markdown",
   "metadata": {},
   "source": [
    "This time the output is not visible, but we can check that it is stored:"
   ]
  },
  {
   "cell_type": "code",
   "execution_count": 30,
   "metadata": {
    "collapsed": false
   },
   "outputs": [
    {
     "name": "stdout",
     "output_type": "stream",
     "text": [
      "5\n"
     ]
    }
   ],
   "source": [
    "print(x)"
   ]
  },
  {
   "cell_type": "code",
   "execution_count": 31,
   "metadata": {
    "collapsed": false
   },
   "outputs": [
    {
     "data": {
      "text/plain": [
       "int"
      ]
     },
     "execution_count": 31,
     "metadata": {},
     "output_type": "execute_result"
    }
   ],
   "source": [
    "type(x)"
   ]
  },
  {
   "cell_type": "code",
   "execution_count": 32,
   "metadata": {
    "collapsed": false
   },
   "outputs": [
    {
     "data": {
      "text/plain": [
       "10"
      ]
     },
     "execution_count": 32,
     "metadata": {},
     "output_type": "execute_result"
    }
   ],
   "source": [
    "x + 5"
   ]
  },
  {
   "cell_type": "markdown",
   "metadata": {},
   "source": [
    "The variable will remain in memory until we make a new assignment statement. When that happens, the previous value is erased and replaced with a new one:"
   ]
  },
  {
   "cell_type": "code",
   "execution_count": 33,
   "metadata": {
    "collapsed": false
   },
   "outputs": [
    {
     "data": {
      "text/plain": [
       "5"
      ]
     },
     "execution_count": 33,
     "metadata": {},
     "output_type": "execute_result"
    }
   ],
   "source": [
    "x = 0\n",
    "x + 5"
   ]
  },
  {
   "cell_type": "markdown",
   "metadata": {},
   "source": [
    "A variable can also be anything, including a string:"
   ]
  },
  {
   "cell_type": "code",
   "execution_count": 38,
   "metadata": {
    "collapsed": true
   },
   "outputs": [],
   "source": [
    "string = 'I don\\'t like spam!'"
   ]
  },
  {
   "cell_type": "markdown",
   "metadata": {},
   "source": [
    "... and we can add strings to each other using the `+` operator!"
   ]
  },
  {
   "cell_type": "code",
   "execution_count": 37,
   "metadata": {
    "collapsed": false
   },
   "outputs": [
    {
     "name": "stdout",
     "output_type": "stream",
     "text": [
      "I don't like spam! Well, then that's too bad!\n"
     ]
    }
   ],
   "source": [
    "print(string + ' Well, then that\\'s too bad!')"
   ]
  },
  {
   "cell_type": "markdown",
   "metadata": {},
   "source": [
    "This is known as **string concatenation**."
   ]
  }
 ],
 "metadata": {
  "kernelspec": {
   "display_name": "Python 3",
   "language": "python",
   "name": "python3"
  },
  "language_info": {
   "codemirror_mode": {
    "name": "ipython",
    "version": 3
   },
   "file_extension": ".py",
   "mimetype": "text/x-python",
   "name": "python",
   "nbconvert_exporter": "python",
   "pygments_lexer": "ipython3",
   "version": "3.5.2"
  }
 },
 "nbformat": 4,
 "nbformat_minor": 2
}
