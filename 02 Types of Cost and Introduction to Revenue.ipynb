{
 "cells": [
  {
   "cell_type": "markdown",
   "metadata": {},
   "source": [
    "# Types of Cost and Introducing Revenue as a Function"
   ]
  },
  {
   "cell_type": "markdown",
   "metadata": {},
   "source": [
    "![before](http://www.smbc-comics.com/comics/20130104.gif)"
   ]
  },
  {
   "cell_type": "markdown",
   "metadata": {},
   "source": [
    "The financial costs incurred in making a product or providing a service can be classified in several ways. One distinction is that between **fixed** and **variable** cost, while another distinction is that between **direct** and **indirect** cost. As we shall see, cost classification is not always as clear cut as it seems and allocating costs to each product is not usually very straightforward in a business that offers more than one product or service. We can, however, use what we know about mathematics to better inform these distinctions in our desire to understand how a business works.\n",
    "\n",
    "In the last lecture we discussed how the **cost function** gives us a value in dollars as a function of the number of units being produced by a firm. Given a polynomial expression for a cost function, it is easy to compute its derivative to have a measure for **marginal cost**: the cost of producing an additional unit. By polynomial we mean any function that can be expressed in the form:\n",
    "\n",
    "$$\n",
    "C(x) = c_0 + c_1x + c_2x^2 + c_3x^3 + ... + c_nx^n\n",
    "$$\n",
    "\n",
    "and so on. Framed this way, we've restricted the cost function to be **analytic**. These functions have many neat properties that we like to keep, one of which is the ease with which their derivative to any arbitrary order can be computed. By keeping $n$ small, we can approximate the cost as the equation of a line\n",
    "\n",
    "$$\n",
    "C_1(x) \\approx c_0 + c_1x\n",
    "$$\n",
    "\n",
    "or as the equation of a parabola:\n",
    "\n",
    "$$\n",
    "C_2(x) \\approx c_0 + c_1x + c_2x^2\n",
    "$$\n",
    "\n",
    "It is a good idea to pause here and consider: *what do the constant terms in a such a function imply*? If we take take $C_1(x)$ and compute its derivative, we have $C_1'(x) = c_1$, which implies that whatever $c_0$ is, it is something that does not depend directly on $x$. Conversely, $c_1$ does scale with $x$, meaning that as the level of production increases, the contribution of this term to the total cost will increase as well."
   ]
  },
  {
   "cell_type": "markdown",
   "metadata": {},
   "source": [
    "### Fixed Cost "
   ]
  },
  {
   "cell_type": "markdown",
   "metadata": {},
   "source": [
    "![soap](http://jarushabrown.com/weddings/wp-content/uploads/2013/05/vancouver_portrait_photographer_04.jpg)"
   ]
  },
  {
   "cell_type": "markdown",
   "metadata": {},
   "source": [
    "The $c_0$ term corresponds to what is known as a **fixed cost**, which is defined as a cost of operation that will remain fixed no matter what the level of output of the firm is. One example is the cost of paying rent to run a store.\n",
    "\n",
    "For instance, there is a popular soap dispensary on Main Street with a variable rate of customers per hour of the day and day of the week. But irrespective of how many customer orders the store completes at a given time, or soap products that it sells, the cost of rent will remain fixed. Thus, it does not scale with $x$."
   ]
  },
  {
   "cell_type": "markdown",
   "metadata": {},
   "source": [
    "### Variable Cost "
   ]
  },
  {
   "cell_type": "markdown",
   "metadata": {},
   "source": [
    "Let's contrast this with the $c_1$ term, which does scale with $x$. Because this contribution scales linearly with $x$, we call it a **variable cost**. Look at the above image again. What happens when the dispensary is out of stock and the shelves are empty? It will be necessary to fill them up with new products. There is an associated cost to the materials required to manufacture these new products, and said cost will increase with each new unit produced. In addition, the help of more staff will be required to keep the business running as the inventory of the store increases. Because these costs increase linearly with $x$, we can thereby identify them with the $c_1$ term as variable costs.\n",
    "\n",
    "It is important for management to understand that not all costs will vary directly in line with production increases or decreases. But for this distinction between fixed and variable cost to be most effective, it is necessary to choose an appropriate window of time for which this distinction is to be made. Inventory is a highly variable cost at short time scales in the order of weeks, but can be averaged over to be approximated as fixed if we are interested in learning about the cost of running the business at larger time scales in the order of years. "
   ]
  },
  {
   "cell_type": "markdown",
   "metadata": {},
   "source": [
    "## Direct and Indirect Costs "
   ]
  },
  {
   "cell_type": "markdown",
   "metadata": {},
   "source": [
    "Another worthy distinction to make, albeit somewhat more qualitative, is that between **direct** and **indirect** cost. ** Direct costs** can be clearly identified with each unit of production. For example, the cost of making a hamburger in a fast-food restaurant will be strongly correlated to the cost of meat. In the context of a service being offered, a direct cost of running the Business Calculus class would be the salary of the instructor.\n",
    "\n",
    "In manufacturing, the most common direct costs correspond to labor and materials. Conversely, the most important direct cost in a  service business such as retail is the cost of the good being sold.\n",
    "\n",
    "Direct costs are to be constrasted with **indirect costs**, which are also known as **overhead** costs. The defining feature of overhead costs is that associating them to an *individual* unit being produced is vague. For instance, if the engine of the tractor used in a potato farm breaks one day, the cost of its replacement will be indirect because it is not immediately clear how the use of the tractor affects the number of potatoes being grown and sold by the farm. Once the class is over and we leave the room, somebody will have to clean the premise and because it not precisely clear how the cleanliness of the premise impacts the number of lectures given, we have to identify it as an indirect cost.\n",
    "\n",
    "[importance of this distinction](http://www.businessnewsdaily.com/5498-direct-costs-indirect-costs.html)\n",
    "\n",
    "**A direct consequence of this distinction is that, in absence of better information, it is safer to budget for indirect costs as fixed because in that way they will contribute to the cost function irrespective of how many units are being produced.**"
   ]
  },
  {
   "cell_type": "markdown",
   "metadata": {},
   "source": [
    "### Theory of Knowledge "
   ]
  },
  {
   "cell_type": "markdown",
   "metadata": {},
   "source": [
    "How does *vagueness* affect the difficulty of turning a word problem into a mathematical problem? Why then is it important to be clear and consistent about the definitions that we use whenever we introduce a new quantity?"
   ]
  },
  {
   "cell_type": "markdown",
   "metadata": {},
   "source": [
    "![tractor](http://www.antiquetractors.com/yphotos/3895.jpg)"
   ]
  },
  {
   "cell_type": "markdown",
   "metadata": {},
   "source": [
    "For the sake of convenience, it is useful to place indirect costs in any of the following categories:\n",
    "\n",
    "1. **Production overheads** include factory rent and rates, depreciation of equipment and power.\n",
    "2. **Selling and distribution overheads** include warehouse, packing and distribution costs and the salaries of sales staff\n",
    "3. **Administration overheads** include office rent and rates, clerical and executive salaries.\n",
    "4. **Finance overheads** include the interest on loans."
   ]
  },
  {
   "cell_type": "markdown",
   "metadata": {},
   "source": [
    "### Example: The Cost of a Student Loan"
   ]
  },
  {
   "cell_type": "markdown",
   "metadata": {},
   "source": [
    "### Statement of the Problem"
   ]
  },
  {
   "cell_type": "markdown",
   "metadata": {},
   "source": [
    "With the cost of higher education increasing, it is common practice for students to take student loans in order to pay for their University [tuition](https://students.ubc.ca/enrolment/finances/tuition-fees/undergraduate-tuition-fees). Suppose that you had to take one such loan to complete your studies at a fixed rate of $r\\%$ per year. Shortly after finishing your degree, you decide to start a company with your friends. As one of the owners of your new firm, you have to compute the costs for running the firm. Since you haven't yet finished paying off the debt of your student loan, you choose to include it in your calculations for the total cost of running the firm. You know that the total cost of paying your loan will be *some* function of the form $C = c(r)$.\n",
    "\n",
    "* What is the meaning of the derivatve $c'(r)$ ? What are its units?\n",
    "* What does the statement $c'(10) = 1200$ mean?\n",
    "* Is $c'(r)$ always postive or does it change sign?\n",
    "* Based on these considerations, should $C$ be treated as a fixed or variable cost for your company? Is it a direct cost or an overhead cost? If it is an overhead cost, how should it be best classified?"
   ]
  },
  {
   "cell_type": "markdown",
   "metadata": {},
   "source": [
    "### Example: The Loan Payment Formula "
   ]
  },
  {
   "cell_type": "markdown",
   "metadata": {},
   "source": [
    "The [payment](http://www.wikihow.com/Calculate-Loan-Payments) for a loan as a function of interest rate obeys the equation\n",
    "\n",
    "$$\n",
    "c(j) = \\frac{jP}{1 - (1 + j)^{-N}}\n",
    "$$\n",
    "\n",
    "Here, $P$ refers to the **principal**, which is the original amount borrowed. The other two quantities involved are given by the following equations:\n",
    "\n",
    "$$\n",
    "j = \\frac{r}{100n}\n",
    "$$\n",
    "\n",
    "$$\n",
    "N = nt\n",
    "$$\n",
    "\n",
    "* The quantity $j$ is known as an **effective interest rate** If $r$ is a percentage and $n$ is the number of annual installments, what does $j$ mean? Why is it important?\n",
    "* If $t$ is a time in years, what is $N$ ? \n",
    "\n",
    "Putting all of this together, we can therefore establish that the total cost of paying off the loan will be given by the sum over the total number of payments\n",
    "\n",
    "$$\n",
    "C(r) = \\sum_{i=1}^{N} c(r)\n",
    "$$\n",
    "\n",
    "which is equivalent to solving for\n",
    "\n",
    "$$\n",
    "C(j) = \\sum_{i=1}^{N} \\frac{jP}{1 - (1 + j)^{-N}}\n",
    "$$"
   ]
  },
  {
   "cell_type": "code",
   "execution_count": 53,
   "metadata": {
    "collapsed": false
   },
   "outputs": [
    {
     "data": {
      "image/png": "[encoded data removed]",
      "text/plain": [
       "<matplotlib.figure.Figure at 0x7f2b665d76a0>"
      ]
     },
     "metadata": {},
     "output_type": "display_data"
    }
   ],
   "source": [
    "import numpy as np\n",
    "import pylab as plt\n",
    "\n",
    "P = 28000 # choose the value of the principal\n",
    "r = np.arange(0.1,5,0.1)\n",
    "n = 12 # choose the number of yearly installments\n",
    "t = 20 # specify the time over which the loan has to be paid off\n",
    "j = r/(100*n) # calculate the effective interest\n",
    "N = n*t # calculate the total number of payments\n",
    "c = np.array(list(map(lambda x: x*P/(1 - (1+x)**(-N)), j)))\n",
    "\n",
    "np.shape(P) == np.shape(r)\n",
    "\n",
    "plt.title('Payment on a $' +str(P)  +' loan in ' +str(n) +' yearly installments to be paid in ' +str(t) +' years')\n",
    "plt.xlabel('Annual interest rate ($\\%$)') # label the x axis\n",
    "plt.ylabel('Payment (\\$)') # label the y axis\n",
    "plt.plot(r,c) # plot x and y values\n",
    "plt.show() # show the plot"
   ]
  },
  {
   "cell_type": "markdown",
   "metadata": {},
   "source": [
    "## Review of Optimization Problems "
   ]
  },
  {
   "cell_type": "markdown",
   "metadata": {},
   "source": [
    "In order for the business to run, it is evident that that the cost incurred by it cannot exceed the money earned from sales. To ensure that this is the case, we must therefore **minimize** the cost function. Whenever we want to find the maximum or minimum of a function, we are engaged in what is known as an **optimization problem**.\n",
    "\n",
    "The greatest challenge encountered in solving problems of this type involves converting a word problem into a mathematical statement by setting up the appropriate function to be extremized. It is therefore good practice to follow a consistent approach, so we will digress the discussion of revenue to a short review on strategy for solving optimization problems."
   ]
  },
  {
   "cell_type": "markdown",
   "metadata": {},
   "source": [
    "#### 1. Understand the Problem "
   ]
  },
  {
   "cell_type": "markdown",
   "metadata": {},
   "source": [
    "The first step is to read the problem carefully until it is clearly understood. Ask yourself: What is the unknown? What are the given quantities? What are the given conditions?\n"
   ]
  },
  {
   "cell_type": "markdown",
   "metadata": {},
   "source": [
    "#### 2. Draw a Diagram "
   ]
  },
  {
   "cell_type": "markdown",
   "metadata": {},
   "source": [
    "In most problems it is useful to draw a diagram and identify the given and required quantities on the diagram.\n"
   ]
  },
  {
   "cell_type": "markdown",
   "metadata": {},
   "source": [
    "#### 3. Introduce Notation "
   ]
  },
  {
   "cell_type": "markdown",
   "metadata": {},
   "source": [
    "Assign a symbol to the quantity that is to be maximized or minimized (let's call it $Q$ for now). Also select symbols ($a, b, c, ... , x, y$) for other unknown quantities and label the diagram wth these symbols.\n"
   ]
  },
  {
   "cell_type": "markdown",
   "metadata": {},
   "source": [
    "#### 4. Express the Desired Quantity in Terms of Information Given"
   ]
  },
  {
   "cell_type": "markdown",
   "metadata": {},
   "source": [
    "Express $Q$ in terms of some of the other symbols from the previous step.\n"
   ]
  },
  {
   "cell_type": "markdown",
   "metadata": {},
   "source": [
    "#### 5. Relate All Quantities in an Equation"
   ]
  },
  {
   "cell_type": "markdown",
   "metadata": {},
   "source": [
    "If $Q$ has been expressed as a function of more than one variable in the previous step, use the given information to find relationships (in the form of equations) among these variables. Then use these equations to eliminate all but one of the variables in the expression for $Q$. Thus $Q$ will be expressed as a function of $one$ variable $x$, say, $Q = f(x)$. Write the **domain** of this function."
   ]
  },
  {
   "cell_type": "markdown",
   "metadata": {},
   "source": [
    "#### 6. Take the Derivative "
   ]
  },
  {
   "cell_type": "markdown",
   "metadata": {},
   "source": [
    "Find $Q'(x)$ and its critical points $x_c$ by setting $Q'(x_c) = 0$. Evaluate $Q'(x)$ at these points to determine the intervals of increase and decrease. This allows you to classify them as *maxima* and *minima*."
   ]
  },
  {
   "cell_type": "markdown",
   "metadata": {},
   "source": [
    "## The Revenue Function "
   ]
  },
  {
   "cell_type": "markdown",
   "metadata": {},
   "source": [
    "\n",
    "Having reminded ourselves the main idea behind optimization, we turn our attention towards defining a new function. We would want this function to be maximized whenever the cost function is minimized. Since cost and its derivative measure the cost to produce units in dollars, this new function is required to assign a value in dollars to finished units that are ready for sale. We thus introduce the **price function**, (also known as the demand function), which we expect to be a decreasing function of $x$. By multiplying the price of each unit by the number of units sold, we arrive at an expression for **revenue**. That is to say, if $x$ units are sold at a price of $p(x)$ per unit, the total revenue accrued by the firm will be given by\n",
    "\n",
    "$$\n",
    "R(x) = xp(x)\n",
    "$$\n",
    "\n",
    "Taking the derivative of this relation yields the **marginal revenue function**, which measures the change in revenue with respect to the number of units sold. Now, if $x$ units are sold, the total $profit$ is \n",
    "\n",
    "$$\n",
    "P(x) = R(x) - C(x)\n",
    "$$\n",
    "\n",
    "When products are being sold, it is sometimes common to speak of their **contribution**. By this we mean how the sale of the product contributes towards reducing the fixed costs of the firm and increasing its profit of the business once variable costs have been covered. It is important to *not* confuse contribution with profit. As seen above, **profit** is obtained by subtracting *all costs* -- both fixed and variable -- from revenue. Contribution instead could be calculated as $P_{cont} = R(x) - c_0 = xp(x) - c_0$ where $c_0$ is the sum of individual costs and constant with respect to $x$."
   ]
  },
  {
   "cell_type": "markdown",
   "metadata": {},
   "source": [
    "### Theory of Knowledge "
   ]
  },
  {
   "cell_type": "markdown",
   "metadata": {},
   "source": [
    "Why do we want the price function to be a **decreasing** function? What does this say about the relation between supply and demand? Do you think that is a reasonable assertion to make?"
   ]
  },
  {
   "cell_type": "markdown",
   "metadata": {},
   "source": [
    "### Example: Freedom Mobile "
   ]
  },
  {
   "cell_type": "markdown",
   "metadata": {},
   "source": [
    "![freedom mobile](https://pbs.twimg.com/profile_images/800827353618350080/Rp2pVM8M.jpg)"
   ]
  },
  {
   "cell_type": "markdown",
   "metadata": {},
   "source": [
    "### Statement of the Problem"
   ]
  },
  {
   "cell_type": "markdown",
   "metadata": {},
   "source": [
    "Freedom Mobile, a new mobility company in Vancouver, is currently selling a smartphone and mobility plan bundle for the Samsung Galaxy S8. After signing a two-year contract, costumers will pay the full price of the \\$800 phone in monthly installments added to their phone fees. With the new S9 in the works and a desire to sell the remaining phones in stock as soon as possible, a marketing survey reports that for each \\$10 rebate offered to buyers, the number of units sold will increase by 20 a week. If 200 smartphone bundles are currently being sold per week, find the price and revenue functions. How large a rebate should Freedom Mobile offer its customers to maximize their revenue?"
   ]
  },
  {
   "cell_type": "markdown",
   "metadata": {},
   "source": [
    "### Solution "
   ]
  },
  {
   "cell_type": "markdown",
   "metadata": {},
   "source": [
    "If $x$ is the number of smartphone bundles sold per week, then the weekly increase in sales is given by $x - 200$. For each increase of 20 units sold, the price is decreased by \\$10. Thus, for each additional unit sold, the decrease in price will be $\\frac{1}{20} \\times 20$ and the demand function is:\n",
    "\n",
    "$$\n",
    "p(x) = 800 - \\frac{10}{20}(x - 200) = 900 - \\frac{1}{2}x\n",
    "$$"
   ]
  },
  {
   "cell_type": "code",
   "execution_count": 46,
   "metadata": {
    "collapsed": false
   },
   "outputs": [
    {
     "data": {
      "image/png": "[encoded data removed]",
      "text/plain": [
       "<matplotlib.figure.Figure at 0x7f2b6682f748>"
      ]
     },
     "metadata": {},
     "output_type": "display_data"
    }
   ],
   "source": [
    "x = np.linspace(0,2000,100)\n",
    "price = 900 - 0.5*x\n",
    "plt.title('Price Function for Smartphone Bundles')\n",
    "plt.xlabel('Number of Units Sold')\n",
    "plt.ylabel('Price of Unit ($)')\n",
    "plt.plot(x,price, 'r')\n",
    "plt.show()"
   ]
  },
  {
   "cell_type": "markdown",
   "metadata": {},
   "source": [
    "while the revenue function is\n",
    "\n",
    "$$\n",
    "R(x) = xp(x) = 900x - \\frac{1}{2}x^2.\n",
    "$$"
   ]
  },
  {
   "cell_type": "code",
   "execution_count": 47,
   "metadata": {
    "collapsed": false
   },
   "outputs": [
    {
     "data": {
      "image/png": "[encoded data removed]",
      "text/plain": [
       "<matplotlib.figure.Figure at 0x7f2b6662b908>"
      ]
     },
     "metadata": {},
     "output_type": "display_data"
    }
   ],
   "source": [
    "revenue = 900*x - 0.5*x**2\n",
    "plt.title('Revenue Function for Smartphone Bundles')\n",
    "plt.xlabel('Number of Units Sold')\n",
    "plt.ylabel('Revenue Accrued ($)')\n",
    "plt.plot(x,revenue, 'g')\n",
    "plt.show()"
   ]
  },
  {
   "cell_type": "markdown",
   "metadata": {},
   "source": [
    "We proceed by finding the critical points, $R'(x) = 900 - x$ implies that $R'(x) = 0$ when $x = 900$. Since the graph of the revenue function is a downward facing parabola, we find that $x = 900$ is the critical point that maximizes the revenue. We can now proceed to plug in this value into the price function\n",
    "\n",
    "$$\n",
    "p(900) = 800 - \\frac{10}{20}(x - 200) = 450\n",
    "$$\n",
    "\n",
    "Finally, the rebate is $\\Delta p = 800 - 450 = 350$. This means that buyers who purchase the bundle during the rebate period will have to pay \\$15 monthly during the duration of their contract."
   ]
  },
  {
   "cell_type": "markdown",
   "metadata": {},
   "source": [
    "![phone](http://www.mobilephones.com/assets/images/website_82-multiimage_101518_main-samsung%20galaxy%20s8%20review.jpg-Scale-size-700x500.jpg)"
   ]
  }
 ],
 "metadata": {
  "kernelspec": {
   "display_name": "Python 3",
   "language": "python",
   "name": "python3"
  },
  "language_info": {
   "codemirror_mode": {
    "name": "ipython",
    "version": 3
   },
   "file_extension": ".py",
   "mimetype": "text/x-python",
   "name": "python",
   "nbconvert_exporter": "python",
   "pygments_lexer": "ipython3",
   "version": "3.5.2"
  }
 },
 "nbformat": 4,
 "nbformat_minor": 2
}
