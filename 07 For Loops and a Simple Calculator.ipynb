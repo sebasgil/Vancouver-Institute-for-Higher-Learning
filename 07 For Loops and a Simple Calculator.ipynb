{
 "cells": [
  {
   "cell_type": "markdown",
   "metadata": {},
   "source": [
    "## For Loops "
   ]
  },
  {
   "cell_type": "markdown",
   "metadata": {},
   "source": [
    "Unlike while loops, which are designed to exit once the test condition is evalauted as false, for loops do not require an explicit statement of the condition. As such, it is customary to implement a for loop when we know the number of iterations to be computed beforehand, like going through every entry of a list."
   ]
  },
  {
   "cell_type": "markdown",
   "metadata": {},
   "source": [
    "![for loop](http://csharp.net-informations.com/statements/img/for-loop.png)"
   ]
  },
  {
   "cell_type": "markdown",
   "metadata": {},
   "source": [
    "In general, we use `for loops` whenever we want to iterate over a fininite collection of elements.\n",
    "\n",
    "```python\n",
    "for i in range(0,10):\n",
    "    print i\n",
    "```"
   ]
  },
  {
   "cell_type": "code",
   "execution_count": 32,
   "metadata": {
    "collapsed": false
   },
   "outputs": [
    {
     "name": "stdout",
     "output_type": "stream",
     "text": [
      "0\n",
      "1\n",
      "2\n",
      "3\n",
      "4\n",
      "5\n",
      "6\n",
      "7\n",
      "8\n",
      "9\n"
     ]
    }
   ],
   "source": [
    "for i in range(0,10):\n",
    "    print(i)"
   ]
  },
  {
   "cell_type": "markdown",
   "metadata": {},
   "source": [
    "As you can see, this is much shorter than a while loop! In a similar way, it is much easier to replicate what `len` does using `for loops`:\n",
    "\n",
    "```python\n",
    "input_list = ['oak' , 'birch', 'elm', 'fir', 'maple']\n",
    "counter = 0\n",
    "for item in input_list:\n",
    "    counter = input_list.index(item)\n",
    "print(counter)\n",
    "```"
   ]
  },
  {
   "cell_type": "markdown",
   "metadata": {},
   "source": [
    "In the above example, the variable `item` is a placeholder for every position in the loop. We call this the **iterable**. We can take this to make a sum of a sequence.\n",
    "\n",
    "For example, let's say we have\n",
    "\n",
    "$$\n",
    "\\{a_i\\} = \\frac{5i}{2}\n",
    "$$\n",
    "\n",
    "And I wanted to add from $a_2$ up to $a_{10}$ We can do this with a for loop."
   ]
  },
  {
   "cell_type": "code",
   "execution_count": 38,
   "metadata": {
    "collapsed": false
   },
   "outputs": [
    {
     "name": "stdout",
     "output_type": "stream",
     "text": [
      "25.0\n"
     ]
    }
   ],
   "source": [
    "running_sum = 0\n",
    "for i in range(5):\n",
    "    a_i = 5*i/2\n",
    "    running_sum = running_sum + a_i\n",
    "print(running_sum)"
   ]
  },
  {
   "cell_type": "code",
   "execution_count": 40,
   "metadata": {
    "collapsed": false
   },
   "outputs": [
    {
     "data": {
      "text/plain": [
       "25.0"
      ]
     },
     "execution_count": 40,
     "metadata": {},
     "output_type": "execute_result"
    }
   ],
   "source": [
    "0 + 5/2 + 10/2 + 15/2 + 20/2"
   ]
  },
  {
   "cell_type": "code",
   "execution_count": null,
   "metadata": {
    "collapsed": true
   },
   "outputs": [],
   "source": []
  },
  {
   "cell_type": "code",
   "execution_count": null,
   "metadata": {
    "collapsed": true
   },
   "outputs": [],
   "source": []
  },
  {
   "cell_type": "markdown",
   "metadata": {},
   "source": [
    "Here is another example\n",
    "\n",
    "```python\n",
    "countdown = [10,9,8,7,6,5,4,3,2,1,0]\n",
    "for number in countdown:\n",
    "    print(number)\n",
    "```"
   ]
  },
  {
   "cell_type": "code",
   "execution_count": 50,
   "metadata": {
    "collapsed": false
   },
   "outputs": [
    {
     "name": "stdout",
     "output_type": "stream",
     "text": [
      "20\n",
      "18\n",
      "16\n",
      "14\n",
      "12\n",
      "10\n",
      "8\n",
      "6\n",
      "4\n",
      "2\n",
      "0\n"
     ]
    }
   ],
   "source": [
    "countdown = [10,9,8,7,6,5,4,3,2,1,0]\n",
    "for number in countdown:\n",
    "    print(number*2)"
   ]
  },
  {
   "cell_type": "markdown",
   "metadata": {},
   "source": [
    "How would we implement the above code using a while loop?"
   ]
  },
  {
   "cell_type": "markdown",
   "metadata": {},
   "source": [
    "## A calculator Example "
   ]
  },
  {
   "cell_type": "markdown",
   "metadata": {},
   "source": [
    "![calculator](http://badgerlandhomeloans.com/wp-content/uploads/2013/11/wi-mortgage-calculator.jpg)"
   ]
  },
  {
   "cell_type": "code",
   "execution_count": 53,
   "metadata": {
    "collapsed": false
   },
   "outputs": [
    {
     "name": "stdout",
     "output_type": "stream",
     "text": [
      "Please select an operation\n",
      "Here are your options:\n",
      "    Enter '+' to add\n",
      "    Enter '-' to subtract\n",
      "    Enter '*' to multiply\n",
      "    Enter '/' to divide\n",
      "    Or enter 'quit' to leave\n",
      " kl\n",
      "Please enter a number: 5\n",
      "Please enter a second number: 5\n",
      "Unexpected input!\n",
      "Please select an operation\n",
      "Here are your options:\n",
      "    Enter '+' to add\n",
      "    Enter '-' to subtract\n",
      "    Enter '*' to multiply\n",
      "    Enter '/' to divide\n",
      "    Or enter 'quit' to leave\n",
      " quit\n",
      "Thanks for playing.\n"
     ]
    }
   ],
   "source": [
    "while True:\n",
    "    print('Please select an operation')\n",
    "    print(\"\"\"Here are your options:\n",
    "    Enter '+' to add\n",
    "    Enter '-' to subtract\n",
    "    Enter '*' to multiply\n",
    "    Enter '/' to divide\n",
    "    Or enter 'quit' to leave\"\"\")\n",
    "    operation = input(' ')\n",
    "    if operation == 'quit':\n",
    "        print('Thanks for playing.')\n",
    "        break\n",
    "    num1 = float(input('Please enter a number: '))\n",
    "    num2 = float(input('Please enter a second number: '))\n",
    "    if operation == '+':\n",
    "        print('The result is: ' +str(num1 + num2))\n",
    "    elif operation == '-':\n",
    "        print('The result is: ' +str(num1 - num2))\n",
    "    elif operation == '*':\n",
    "        print('The result is: ' +str(num1 * num2))\n",
    "    elif operation == '/':\n",
    "        print('The result is: ' +str(num1 / num2))\n",
    "    else:\n",
    "        print('Unexpected input!')"
   ]
  },
  {
   "cell_type": "markdown",
   "metadata": {},
   "source": [
    "## Exercise:\n",
    "\n",
    "You have two options:\n",
    "\n",
    "1) Extend the program above to include the % and // operations\n",
    "\n",
    "2) Rewrite the program so that operations are reversed:\n",
    "    * i.e, pressing '+' results in subtraction and pressing '*' results in division"
   ]
  },
  {
   "cell_type": "code",
   "execution_count": null,
   "metadata": {
    "collapsed": true
   },
   "outputs": [],
   "source": []
  }
 ],
 "metadata": {
  "kernelspec": {
   "display_name": "Python 3",
   "language": "python",
   "name": "python3"
  },
  "language_info": {
   "codemirror_mode": {
    "name": "ipython",
    "version": 3
   },
   "file_extension": ".py",
   "mimetype": "text/x-python",
   "name": "python",
   "nbconvert_exporter": "python",
   "pygments_lexer": "ipython3",
   "version": "3.5.2"
  }
 },
 "nbformat": 4,
 "nbformat_minor": 2
}
