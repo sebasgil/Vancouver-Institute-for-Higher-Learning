{
 "cells": [
  {
   "cell_type": "markdown",
   "metadata": {},
   "source": [
    "# Review of Lists "
   ]
  },
  {
   "cell_type": "markdown",
   "metadata": {},
   "source": [
    "For the following exercises, try to tell me the result without trying to run code.\n",
    "\n",
    "* What is the result of the following blocks code?\n",
    "\n",
    "```python\n",
    "cars = ['honda' , 'kia' , 'volvo']\n",
    "print(cars[1])\n",
    "print(cars[1][-1])\n",
    "```"
   ]
  },
  {
   "cell_type": "code",
   "execution_count": 9,
   "metadata": {
    "collapsed": false
   },
   "outputs": [
    {
     "name": "stdout",
     "output_type": "stream",
     "text": [
      "kia\n",
      "a\n"
     ]
    }
   ],
   "source": [
    "cars = ['honda' , 'kia' , 'volvo']\n",
    "print(cars[1])\n",
    "print(cars[1][-1])\n"
   ]
  },
  {
   "cell_type": "markdown",
   "metadata": {},
   "source": [
    "```python\n",
    "nums = [1,2,3,4,5]\n",
    "nums[3] = nums[1]\n",
    "print(nums[3])\n",
    "print(nums[3]*3)\n",
    "```"
   ]
  },
  {
   "cell_type": "code",
   "execution_count": 11,
   "metadata": {
    "collapsed": false
   },
   "outputs": [
    {
     "name": "stdout",
     "output_type": "stream",
     "text": [
      "2\n",
      "6\n"
     ]
    },
    {
     "data": {
      "text/plain": [
       "[1, 2, 3, 2, 5]"
      ]
     },
     "execution_count": 11,
     "metadata": {},
     "output_type": "execute_result"
    }
   ],
   "source": [
    "nums = [1,2,3,4,5]\n",
    "nums[3] = nums[1]\n",
    "print(nums[3])\n",
    "print(nums[3]*3)\n",
    "nums"
   ]
  },
  {
   "cell_type": "markdown",
   "metadata": {},
   "source": [
    "```python\n",
    "nums = [10,9,8,7,6,5]\n",
    "nums[0] = nums[1] - 5\n",
    "if 4 in nums:\n",
    "    print(nums[3])\n",
    "else:\n",
    "    print(nums[4]\n",
    "```"
   ]
  },
  {
   "cell_type": "code",
   "execution_count": 13,
   "metadata": {
    "collapsed": false
   },
   "outputs": [
    {
     "name": "stdout",
     "output_type": "stream",
     "text": [
      "7\n"
     ]
    }
   ],
   "source": [
    "nums = [10,9,8,7,6,5]\n",
    "nums[0] = nums[1] - 5\n",
    "if 4 in nums:\n",
    "    print(nums[3])\n",
    "else:\n",
    "    print(nums[4])"
   ]
  },
  {
   "cell_type": "markdown",
   "metadata": {},
   "source": [
    "```python\n",
    "greeting = [\"hola\"]\n",
    "greeting.append(\"amigos\")\n",
    "print(greeting[1])\n",
    "```"
   ]
  },
  {
   "cell_type": "code",
   "execution_count": 15,
   "metadata": {
    "collapsed": false
   },
   "outputs": [
    {
     "name": "stdout",
     "output_type": "stream",
     "text": [
      "amigos\n"
     ]
    },
    {
     "data": {
      "text/plain": [
       "['hola', 'amigos']"
      ]
     },
     "execution_count": 15,
     "metadata": {},
     "output_type": "execute_result"
    }
   ],
   "source": [
    "greeting = [\"hola\"]\n",
    "greeting.append(\"amigos\")\n",
    "print(greeting[1])\n",
    "greeting"
   ]
  },
  {
   "cell_type": "markdown",
   "metadata": {},
   "source": [
    "* Fill in the blank to make the code print `True`\n",
    "```python\n",
    "letters = ['a','b','c']\n",
    "letters.append('d')\n",
    "if len(letters) == len(list(range(_))):\n",
    "    print(True)\n",
    "else:\n",
    "    print(False)\n",
    "```"
   ]
  },
  {
   "cell_type": "code",
   "execution_count": 23,
   "metadata": {
    "collapsed": false
   },
   "outputs": [
    {
     "name": "stdout",
     "output_type": "stream",
     "text": [
      "True\n"
     ]
    }
   ],
   "source": [
    "letters = ['a','b','c']\n",
    "letters.append('d')\n",
    "if len(letters) == len(list(range(4))):\n",
    "    print(True)\n",
    "else:\n",
    "    print(False)\n"
   ]
  },
  {
   "cell_type": "code",
   "execution_count": 18,
   "metadata": {
    "collapsed": false
   },
   "outputs": [
    {
     "data": {
      "text/plain": [
       "3"
      ]
     },
     "execution_count": 18,
     "metadata": {},
     "output_type": "execute_result"
    }
   ],
   "source": [
    "len(range(3))"
   ]
  },
  {
   "cell_type": "code",
   "execution_count": 22,
   "metadata": {
    "collapsed": false
   },
   "outputs": [
    {
     "data": {
      "text/plain": [
       "[0, 1, 2, 3]"
      ]
     },
     "execution_count": 22,
     "metadata": {},
     "output_type": "execute_result"
    }
   ],
   "source": [
    "range(4)\n",
    "len(range(4))\n",
    "list(range(4))"
   ]
  },
  {
   "cell_type": "code",
   "execution_count": 24,
   "metadata": {
    "collapsed": false
   },
   "outputs": [
    {
     "data": {
      "text/plain": [
       "[0, 1, 2, 3, 4, 5, 6, 7, 8, 9, 10, 11, 12, 13, 14, 15, 16, 17, 18, 19]"
      ]
     },
     "execution_count": 24,
     "metadata": {},
     "output_type": "execute_result"
    }
   ],
   "source": [
    "list(range(20))"
   ]
  },
  {
   "cell_type": "code",
   "execution_count": 25,
   "metadata": {
    "collapsed": false
   },
   "outputs": [
    {
     "data": {
      "text/plain": [
       "3"
      ]
     },
     "execution_count": 25,
     "metadata": {},
     "output_type": "execute_result"
    }
   ],
   "source": [
    "len(range(3))"
   ]
  },
  {
   "cell_type": "code",
   "execution_count": 26,
   "metadata": {
    "collapsed": false
   },
   "outputs": [
    {
     "data": {
      "text/plain": [
       "[0, 1, 2]"
      ]
     },
     "execution_count": 26,
     "metadata": {},
     "output_type": "execute_result"
    }
   ],
   "source": [
    "list(range(3))"
   ]
  },
  {
   "cell_type": "code",
   "execution_count": 27,
   "metadata": {
    "collapsed": false
   },
   "outputs": [
    {
     "data": {
      "text/plain": [
       "[0, 1, 2, 3, 4, 5, 6, 7, 8, 9, 10, 11, 12, 13, 14, 15, 16, 17, 18, 19, 20]"
      ]
     },
     "execution_count": 27,
     "metadata": {},
     "output_type": "execute_result"
    }
   ],
   "source": [
    "list(range(21))"
   ]
  },
  {
   "cell_type": "code",
   "execution_count": 29,
   "metadata": {
    "collapsed": false
   },
   "outputs": [
    {
     "name": "stdout",
     "output_type": "stream",
     "text": [
      "Yes\n"
     ]
    }
   ],
   "source": [
    "biglist = list(range(21))\n",
    "if len(biglist) == biglist[-1] + 1:\n",
    "    print('Yes')\n",
    "else:\n",
    "    print('No')"
   ]
  },
  {
   "cell_type": "code",
   "execution_count": 34,
   "metadata": {
    "collapsed": false
   },
   "outputs": [
    {
     "data": {
      "text/plain": [
       "True"
      ]
     },
     "execution_count": 34,
     "metadata": {},
     "output_type": "execute_result"
    }
   ],
   "source": [
    "happy_llama = list(range(10,20))\n",
    "sad_llama = list(range(10,20,2))\n",
    "len(happy_llama) == 2*len(sad_llama)"
   ]
  },
  {
   "cell_type": "markdown",
   "metadata": {},
   "source": [
    "* What is the output of this code?\n",
    "```python\n",
    "integers = [11,12,13,14]\n",
    "if integers.index(12) > 1:\n",
    "    integers.insert(0,10)\n",
    "elif integers.index(13) >=2 and integers.index(13) < 3:\n",
    "    integers.pop(0)\n",
    "else:\n",
    "    integers.pop()\n",
    "    integers.pop()\n",
    "print(len(integers))\n",
    "```"
   ]
  },
  {
   "cell_type": "code",
   "execution_count": 36,
   "metadata": {
    "collapsed": false
   },
   "outputs": [
    {
     "name": "stdout",
     "output_type": "stream",
     "text": [
      "3\n"
     ]
    }
   ],
   "source": [
    "integers = [11,12,13,14]\n",
    "if integers.index(12) > 1:\n",
    "    integers.insert(0,10)\n",
    "elif integers.index(13) >=2 and integers.index(13) < 3:\n",
    "    integers.pop(0)\n",
    "else:\n",
    "    integers.pop()\n",
    "    integers.pop()\n",
    "print(len(integers))\n"
   ]
  },
  {
   "cell_type": "code",
   "execution_count": 35,
   "metadata": {
    "collapsed": false
   },
   "outputs": [
    {
     "data": {
      "text/plain": [
       "[1, 2]"
      ]
     },
     "execution_count": 35,
     "metadata": {},
     "output_type": "execute_result"
    }
   ],
   "source": [
    "test = [1,2,3]\n",
    "test.pop()\n",
    "test"
   ]
  },
  {
   "cell_type": "markdown",
   "metadata": {},
   "source": [
    "## Iteration "
   ]
  },
  {
   "cell_type": "markdown",
   "metadata": {},
   "source": [
    "In general, there are two kinds of mathematical problem. There are those that can be solved **analytically** and those that can be solved only **numerically**. For example, an analytical statement is one of the form\n",
    "\n",
    "$$\n",
    "y = mx + b, \\forall x \\in \\mathbb{R}\n",
    "$$\n",
    "\n",
    "since it is true for every possible value, even those which are **infinitessimally small** However, as it turns out, there are some mathematical expressions for which an analytical solution cannot be obtained. A famous example is the following integral\n",
    "\n",
    "$$\n",
    "\\int_0^1 e^{-x^2}\\,dx\n",
    "$$\n",
    "\n",
    "This integral cannot be solved analytically because the antiderivative of $e^{-x^2}$ **does not exist**. But try the following:\n",
    "\n",
    "1. Go to `wolframalpha.com`, a famous computational engine\n",
    "2. Type into the search box: `integrate e^(-x^2) from 0 to 1`\n",
    "3. Tell me your result\n",
    "\n",
    "How was the computational engine able to compute the integral? The answer is through **numerical integration**. Numerical integration is a set of algorithms used to *approximate* the value of a definite integral by exploiting the definition of the integral as the infinite limit of Riemann Sums\n",
    "\n",
    "![numeric](http://spiff.rit.edu/classes/phys317/lectures/num_integ_c.gif)\n",
    "\n",
    "Indeed, the following piece of code, obtained from the Wikipedia page on [numerical integration](https://en.wikipedia.org/wiki/Numerical_integration#Adaptive_algorithms), defines an algorithm for computing a numerical integration for an arbitrary function:"
   ]
  },
  {
   "cell_type": "markdown",
   "metadata": {},
   "source": [
    "```python\n",
    "def calculate_definite_integral_of_f(f, initial_step_size):\n",
    "    '''\n",
    "    This algorithm calculates the definite integral of a function\n",
    "    from 0 to 1, adaptively, by choosing smaller steps near\n",
    "    problematic points.\n",
    "    '''\n",
    "    x = 0.0\n",
    "    h = initial_step_size\n",
    "    accumulator = 0.0\n",
    "    while x < 1.0:\n",
    "        if x + h > 1.0:\n",
    "            h = 1.0 - x # At end of unit interval, adjust last step to end at 1.\n",
    "        if error_too_big_in_quadrature_of_f_over_range(f, [x,x+h]):\n",
    "            h = make_h_smaller(h)\n",
    "        else:\n",
    "            accumulator += quadrature_of_f_over_range(f, [x,x+h])\n",
    "            x += h\n",
    "            if error_too_small_in_quadrature_of_over_range(f, [x,x+h]):\n",
    "                h = make_h_larger(h) # Avoid wasting time on tiny steps.\n",
    "    return accumulator\n",
    "```"
   ]
  },
  {
   "cell_type": "markdown",
   "metadata": {},
   "source": [
    "### Pause and Discuss\n",
    "\n",
    "Examine the `while` statement. What do you think it means? Notices too that there are `if-else` statements nested inside of it. How can this be useful in helping us to evaluate the integral?"
   ]
  },
  {
   "cell_type": "markdown",
   "metadata": {},
   "source": [
    "## While Loops "
   ]
  },
  {
   "cell_type": "markdown",
   "metadata": {},
   "source": [
    "The central idea behind a while loop is to run the nested statements within an initial conditional statement until they evaluate as false. Once the condition becomes false, the program exits from the loop and continues. The following flow chart illustrates this idea:\n",
    "\n",
    "![while loop](http://4.bp.blogspot.com/-5ZONKPftmOQ/UeBya1b_D0I/AAAAAAAAAFE/ipsgv5bmNK8/s1600/Do+While+Loop+C+%28flowchart%29.png)\n",
    "\n",
    "We begin with a very basic example:\n",
    "\n",
    "```python\n",
    "i = 0\n",
    "while i <= 5:\n",
    "    print(i)\n",
    "    i += 1\n",
    "print('Finished')\n",
    "```"
   ]
  },
  {
   "cell_type": "code",
   "execution_count": 39,
   "metadata": {
    "collapsed": false
   },
   "outputs": [
    {
     "name": "stdout",
     "output_type": "stream",
     "text": [
      "0\n",
      "1\n",
      "2\n",
      "3\n",
      "4\n",
      "5\n",
      "Finished\n"
     ]
    }
   ],
   "source": [
    "i = 0\n",
    "while i <= 5:\n",
    "    print(i)\n",
    "    i = i + 1\n",
    "print('Finished')"
   ]
  },
  {
   "cell_type": "markdown",
   "metadata": {},
   "source": [
    "### Exercise: Write a while loop to emulate list(range(6)) "
   ]
  },
  {
   "cell_type": "code",
   "execution_count": 40,
   "metadata": {
    "collapsed": false
   },
   "outputs": [
    {
     "data": {
      "text/plain": [
       "[0, 1, 2, 3, 4, 5]"
      ]
     },
     "execution_count": 40,
     "metadata": {},
     "output_type": "execute_result"
    }
   ],
   "source": [
    "list(range(6))"
   ]
  },
  {
   "cell_type": "code",
   "execution_count": 42,
   "metadata": {
    "collapsed": false
   },
   "outputs": [
    {
     "data": {
      "text/plain": [
       "[0, 1, 2, 3, 4, 5]"
      ]
     },
     "execution_count": 42,
     "metadata": {},
     "output_type": "execute_result"
    }
   ],
   "source": [
    "output = []\n",
    "item = 0\n",
    "while item < 6:\n",
    "    output.append(item)\n",
    "    item = item + 1\n",
    "my_range = output\n",
    "my_range"
   ]
  },
  {
   "cell_type": "markdown",
   "metadata": {},
   "source": [
    "We can **define a function** to do this for us!"
   ]
  },
  {
   "cell_type": "code",
   "execution_count": 59,
   "metadata": {
    "collapsed": true
   },
   "outputs": [],
   "source": [
    "def my_range(endpoint):\n",
    "    output = []\n",
    "    item = 0\n",
    "    while item < endpoint:\n",
    "        output.append(item)\n",
    "        item += 1\n",
    "    return output"
   ]
  },
  {
   "cell_type": "code",
   "execution_count": 46,
   "metadata": {
    "collapsed": false
   },
   "outputs": [
    {
     "data": {
      "text/plain": [
       "[0, 1, 2, 3, 4, 5]"
      ]
     },
     "execution_count": 46,
     "metadata": {},
     "output_type": "execute_result"
    }
   ],
   "source": [
    "my_range(6)"
   ]
  },
  {
   "cell_type": "code",
   "execution_count": 47,
   "metadata": {
    "collapsed": false
   },
   "outputs": [
    {
     "data": {
      "text/plain": [
       "[0, 1, 2, 3, 4, 5, 6, 7, 8, 9]"
      ]
     },
     "execution_count": 47,
     "metadata": {},
     "output_type": "execute_result"
    }
   ],
   "source": [
    "my_range(10)"
   ]
  },
  {
   "cell_type": "code",
   "execution_count": 67,
   "metadata": {
    "collapsed": false
   },
   "outputs": [],
   "source": [
    "def myrange2(start,end):\n",
    "    output = []\n",
    "    item = start\n",
    "    while item < end:\n",
    "        output.append(item)\n",
    "        item += 1\n",
    "    return output"
   ]
  },
  {
   "cell_type": "code",
   "execution_count": 70,
   "metadata": {
    "collapsed": false
   },
   "outputs": [
    {
     "data": {
      "text/plain": [
       "[10, 11, 12, 13, 14, 15, 16, 17, 18, 19]"
      ]
     },
     "execution_count": 70,
     "metadata": {},
     "output_type": "execute_result"
    }
   ],
   "source": [
    "myrange2(10,20)"
   ]
  },
  {
   "cell_type": "code",
   "execution_count": null,
   "metadata": {
    "collapsed": true
   },
   "outputs": [],
   "source": []
  },
  {
   "cell_type": "code",
   "execution_count": null,
   "metadata": {
    "collapsed": true
   },
   "outputs": [],
   "source": []
  },
  {
   "cell_type": "code",
   "execution_count": null,
   "metadata": {
    "collapsed": true
   },
   "outputs": [],
   "source": []
  },
  {
   "cell_type": "code",
   "execution_count": null,
   "metadata": {
    "collapsed": true
   },
   "outputs": [],
   "source": []
  },
  {
   "cell_type": "markdown",
   "metadata": {},
   "source": [
    "What happens if the condition is always true? This is known as an **infinite loop**\n",
    "\n",
    "```python\n",
    "while True==True:\n",
    "    print('This is it.')\n",
    "```"
   ]
  },
  {
   "cell_type": "markdown",
   "metadata": {},
   "source": [
    "Such a program would theoretically run forever. However, because computational resources are **finite**, an infinite while loop is bound to be abruptly terminated by the Central Processing Unit once a preset threshold for computational resources is exceeded!\n",
    "\n",
    "Fortunately, we can prematurely end the while loop by means of a break statement\n",
    "\n",
    "```python\n",
    "i = 0\n",
    "while 1==1:\n",
    "    print(i)\n",
    "    i = i + 1\n",
    "    if i >= 5:\n",
    "    break\n",
    "print('Finished')\n",
    "```"
   ]
  },
  {
   "cell_type": "code",
   "execution_count": 72,
   "metadata": {
    "collapsed": false
   },
   "outputs": [
    {
     "name": "stdout",
     "output_type": "stream",
     "text": [
      "0\n",
      "1\n",
      "2\n",
      "3\n",
      "4\n",
      "Finished\n"
     ]
    }
   ],
   "source": [
    "i = 0\n",
    "while 1==1:\n",
    "    print(i)\n",
    "    i = i + 1\n",
    "    if i >= 5:\n",
    "        break\n",
    "print('Finished')"
   ]
  },
  {
   "cell_type": "markdown",
   "metadata": {},
   "source": [
    "### Exercise \n",
    "\n",
    "Earlier we wrote a while loop to emulate `range`. Can you write a while loop to emulate what `len` does?\n",
    "\n",
    "Test this for the following input:\n",
    "\n",
    "```python\n",
    "input_list = ['oak', 'birch', 'elm', 'fir', 'maple']\n",
    "```\n",
    "\n",
    "*hint* : use list indeces!"
   ]
  },
  {
   "cell_type": "code",
   "execution_count": 1,
   "metadata": {
    "collapsed": false
   },
   "outputs": [
    {
     "data": {
      "text/plain": [
       "4"
      ]
     },
     "execution_count": 1,
     "metadata": {},
     "output_type": "execute_result"
    }
   ],
   "source": [
    "input_list = ['oak', 'birch', 'elm', 'fir', 'maple']\n",
    "input_list.index(input_list[-1])"
   ]
  },
  {
   "cell_type": "code",
   "execution_count": 1,
   "metadata": {
    "collapsed": false
   },
   "outputs": [
    {
     "name": "stdout",
     "output_type": "stream",
     "text": [
      "Please type a string: derp\n",
      "Success!\n",
      "The length of the list is 4\n"
     ]
    }
   ],
   "source": [
    "#input_list = ['oak', 'birch', 'elm', 'fir', 'maple']\n",
    "input_list = input('Please type a string: ')\n",
    "counter = 0\n",
    "while counter <= input_list.index(input_list[-1]):\n",
    "    counter += 1\n",
    "\n",
    "if counter == len(input_list):\n",
    "    print('Success!')\n",
    "    print('The length of the list is ' + str(counter))\n",
    "else:\n",
    "    print('Sorry, try again.')"
   ]
  },
  {
   "cell_type": "markdown",
   "metadata": {},
   "source": [
    "## For Loops "
   ]
  },
  {
   "cell_type": "markdown",
   "metadata": {},
   "source": [
    "Unlike while loops, which are designed to exit once the test condition is evalauted as false, for loops do not require an explicit statement of the condition. As such, it is customary to implement a for loop when we know the number of iterations to be computed beforehand, like going through every entry of a list."
   ]
  },
  {
   "cell_type": "markdown",
   "metadata": {},
   "source": [
    "![for loop](http://csharp.net-informations.com/statements/img/for-loop.png)"
   ]
  },
  {
   "cell_type": "code",
   "execution_count": null,
   "metadata": {
    "collapsed": true
   },
   "outputs": [],
   "source": []
  }
 ],
 "metadata": {
  "kernelspec": {
   "display_name": "Python 3",
   "language": "python",
   "name": "python3"
  },
  "language_info": {
   "codemirror_mode": {
    "name": "ipython",
    "version": 3
   },
   "file_extension": ".py",
   "mimetype": "text/x-python",
   "name": "python",
   "nbconvert_exporter": "python",
   "pygments_lexer": "ipython3",
   "version": "3.5.2"
  }
 },
 "nbformat": 4,
 "nbformat_minor": 2
}
