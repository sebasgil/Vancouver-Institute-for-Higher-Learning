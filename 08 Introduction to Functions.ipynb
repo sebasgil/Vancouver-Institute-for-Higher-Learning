{
 "cells": [
  {
   "cell_type": "markdown",
   "metadata": {},
   "source": [
    "# Review "
   ]
  },
  {
   "cell_type": "markdown",
   "metadata": {},
   "source": [
    "Look at the following block of code. Describe what it does. Is there anything wrong with it? What happens if you try to run it as is? Rewrite the code so that it can finish.\n",
    "\n",
    "```python\n",
    "while True:\n",
    "    print('Please select an operation')\n",
    "    print(\"\"\"Here are your options:\n",
    "    Enter '%' for modulo\n",
    "    Enter '//' for floor division\"\"\")\n",
    "    operation = input(' ')\n",
    "    num1 = float(input('Please enter a number: '))\n",
    "    num2 = float(input('Please enter a second number: '))\n",
    "    if operation == '%':\n",
    "        print('The result is: ' +str(num1 % num2))\n",
    "    elif operation == '//':\n",
    "        print('The result is: ' +str(num1 // num2))\n",
    "    else:\n",
    "        print('Unexpected input!')\n",
    "```"
   ]
  },
  {
   "cell_type": "code",
   "execution_count": 4,
   "metadata": {
    "collapsed": false
   },
   "outputs": [
    {
     "name": "stdout",
     "output_type": "stream",
     "text": [
      "Please select an operation\n",
      "Here are your options:\n",
      "    Enter '%' for modulo\n",
      "    Enter '//' for floor division\n",
      "    Or enter 'quit' to exit\n",
      " 'quit'\n",
      "Please enter a number: 5\n",
      "Please enter a second number: 5\n",
      "Unexpected input!\n"
     ]
    }
   ],
   "source": [
    "while True:\n",
    "    print('Please select an operation')\n",
    "    print(\"\"\"Here are your options:\n",
    "    Enter '%' for modulo\n",
    "    Enter '//' for floor division\n",
    "    Or enter 'quit' to exit\"\"\")\n",
    "    operation = input(' ')\n",
    "    if operation == 'quit':\n",
    "        break\n",
    "    else:\n",
    "        pass\n",
    "    num1 = float(input('Please enter a number: '))\n",
    "    num2 = float(input('Please enter a second number: '))\n",
    "    if operation == '%':\n",
    "        print('The result is: ' +str(num1 % num2))\n",
    "    elif operation == '//':\n",
    "        print('The result is: ' +str(num1 // num2))\n",
    "    else:\n",
    "        print('Unexpected input!')\n",
    "#    break"
   ]
  },
  {
   "cell_type": "markdown",
   "metadata": {},
   "source": [
    "** Note: this needs fixing **"
   ]
  },
  {
   "cell_type": "markdown",
   "metadata": {},
   "source": [
    "Please run the following block of code. What does it do?\n",
    "\n",
    "```python\n",
    "a1 = 1\n",
    "a2 = 1\n",
    "nextnum = a1 + a2\n",
    "while a1<=500:\n",
    "    print(a1)\n",
    "    a1 = a2\n",
    "    a2 = nextnum\n",
    "    nextnum = a1 + a2\n",
    "```"
   ]
  },
  {
   "cell_type": "code",
   "execution_count": 13,
   "metadata": {
    "collapsed": false
   },
   "outputs": [
    {
     "name": "stdout",
     "output_type": "stream",
     "text": [
      "1\n",
      "1\n",
      "2\n",
      "3\n",
      "5\n",
      "8\n",
      "13\n",
      "21\n",
      "34\n",
      "55\n",
      "89\n",
      "144\n",
      "233\n",
      "377\n",
      "610\n",
      "987\n"
     ]
    }
   ],
   "source": [
    "a1 = 1\n",
    "a2 = 1\n",
    "nextnum = a1 + a2\n",
    "while a1 <= 1000:\n",
    "    print(a1)\n",
    "    a1 = a2\n",
    "    a2 = nextnum\n",
    "    nextnum = a1 + a2\n",
    "#print(a1)\n",
    "#print(a2)"
   ]
  },
  {
   "cell_type": "code",
   "execution_count": 14,
   "metadata": {
    "collapsed": true
   },
   "outputs": [],
   "source": [
    "a1 = 1\n",
    "a2 = 1\n",
    "nextnum = a1 + a2\n",
    "while a1 <= 1000:\n",
    "#    print(a1)\n",
    "    a1 = a2\n",
    "    a2 = nextnum\n",
    "    nextnum = a1 + a2\n"
   ]
  },
  {
   "cell_type": "code",
   "execution_count": 22,
   "metadata": {
    "collapsed": false
   },
   "outputs": [
    {
     "name": "stdout",
     "output_type": "stream",
     "text": [
      "0\n",
      "1\n",
      "2\n",
      "3\n",
      "4\n",
      "5\n",
      "6\n",
      "7\n",
      "8\n",
      "9\n",
      "10\n"
     ]
    }
   ],
   "source": [
    "i = 0\n",
    "store_i = []\n",
    "while i <= 10:\n",
    "    print(i)\n",
    "    i = i + 1\n",
    "    store_i.append(i)\n"
   ]
  },
  {
   "cell_type": "code",
   "execution_count": 20,
   "metadata": {
    "collapsed": false
   },
   "outputs": [
    {
     "name": "stdout",
     "output_type": "stream",
     "text": [
      "11\n"
     ]
    }
   ],
   "source": [
    "print(i)"
   ]
  },
  {
   "cell_type": "code",
   "execution_count": 23,
   "metadata": {
    "collapsed": false
   },
   "outputs": [
    {
     "data": {
      "text/plain": [
       "[1, 2, 3, 4, 5, 6, 7, 8, 9, 10, 11]"
      ]
     },
     "execution_count": 23,
     "metadata": {},
     "output_type": "execute_result"
    }
   ],
   "source": [
    "store_i"
   ]
  },
  {
   "cell_type": "code",
   "execution_count": null,
   "metadata": {
    "collapsed": true
   },
   "outputs": [],
   "source": []
  },
  {
   "cell_type": "code",
   "execution_count": 14,
   "metadata": {
    "collapsed": true
   },
   "outputs": [],
   "source": [
    "a1 = 1\n",
    "a2 = 1\n",
    "nextnum = a1 + a2\n",
    "while a1 <= 1000:\n",
    "#    print(a1)\n",
    "    a1 = a2\n",
    "    a2 = nextnum\n",
    "    nextnum = a1 + a2\n"
   ]
  },
  {
   "cell_type": "markdown",
   "metadata": {},
   "source": [
    "This is called the Fibonacci Sequence. It is a very famous mathematical structure that generates the next number from the sum of the previous two. Thus, we could write it algebraically as\n",
    "\n",
    "$$\n",
    "\\{a_{n+1}\\} = a_{n} + a_{n-1}\n",
    "$$\n",
    "\n",
    "Now going back to the code above, what happens to $a1$ and $a2$ with each iteration of the while loop? Please complete the following tasks:\n",
    "\n",
    "* Rewrite the code so that every value in the sequence gets stored in the list. When the while loop exits, make your program print the complete list\n",
    "\n",
    "* Now, instead of using a while loop try and see if you can use a for loop instead. Recall that the syntax for a for loop is\n",
    "\n",
    "```python\n",
    "for variable in list_with_variable:\n",
    "    operations on variable\n",
    "```\n",
    "\n",
    "If you get stuck I can help you, but please try your best first!\n",
    "\n",
    "Based on your findings, what do you think is a better way of finding the Fibonacci sequence, with a while loop or with a for loop?"
   ]
  },
  {
   "cell_type": "code",
   "execution_count": 26,
   "metadata": {
    "collapsed": false
   },
   "outputs": [
    {
     "name": "stdout",
     "output_type": "stream",
     "text": [
      "0\n",
      "1\n",
      "2\n",
      "3\n",
      "4\n",
      "5\n",
      "6\n",
      "7\n",
      "8\n",
      "9\n"
     ]
    }
   ],
   "source": [
    "tennums = list(range(0,10))\n",
    "for number in tennums:\n",
    "    print(number)"
   ]
  },
  {
   "cell_type": "code",
   "execution_count": null,
   "metadata": {
    "collapsed": true
   },
   "outputs": [],
   "source": []
  },
  {
   "cell_type": "code",
   "execution_count": null,
   "metadata": {
    "collapsed": true
   },
   "outputs": [],
   "source": []
  },
  {
   "cell_type": "markdown",
   "metadata": {},
   "source": [
    "# Introduction to Functions "
   ]
  },
  {
   "cell_type": "markdown",
   "metadata": {},
   "source": [
    "From math class, we know that a function is an expression of the form\n",
    "\n",
    "$$\n",
    "f(x) = \\text{something with x}\n",
    "$$\n",
    "\n",
    "Thus, we may have functions like $f(x) = mx + b$, $f(x) = ax^2 +bx + c$, $f(x) = \\cos(x\\pi/2)$ and so on. Moreover, we can break up the **components** of the function into the following:\n",
    "\n",
    "* $x$ is an element of the domain $D$. The domain is the set of possible values that may go into the function\n",
    "* For a given value of $x$, we get *one* value $y$ such that $y = f(x)$. This is called the image\n",
    "* The set of all possible images is the range $R$.\n",
    "\n",
    "This is very formal, but the good news is that the notion of a function can be generalized past algebraic expressions in graphs. In fact, this precisely what we accomplish with functions in programming. A function in programming can  involve nearly *anything*, but it will almost always take an input and give out an output.\n",
    "\n",
    "### Why would we want to define a function?\n",
    "\n",
    "One answer is: to avoid reusing code!\n",
    "\n",
    "If you look at the calculator example that we did last class, or the while loops that we defined in the past, we find that once that particular code of program is done running, we cannot reuse it later unless we copy it and paste it into a new part of our notebook. In the terminal it would be even worse, because you would have to rewrite the whole thing!\n",
    "\n",
    "The point of a *programming function* is to wrap the block of code in a definition that can be saved and accessed at any point in time. Most functions take an input and give an output. Thus, commands like `len`, `type`, and `range` are all functions written into python. But you can write your own functions too!\n",
    "\n",
    "A function in `python` obeys the following syntax:\n",
    "\n",
    "```python\n",
    "def function(input):\n",
    "    output = statements\n",
    "    return output\n",
    "```\n",
    "\n",
    "Before delving into what this means, we will begin with more basic examples"
   ]
  },
  {
   "cell_type": "code",
   "execution_count": 4,
   "metadata": {
    "collapsed": true
   },
   "outputs": [],
   "source": [
    "def print5():\n",
    "    print(1)\n",
    "    print(2)\n",
    "    print(3)\n",
    "    print(4)\n",
    "    print(5)"
   ]
  },
  {
   "cell_type": "code",
   "execution_count": 27,
   "metadata": {
    "collapsed": true
   },
   "outputs": [],
   "source": [
    "def print3():\n",
    "    print(1)\n",
    "    print(2)\n",
    "    print(3)"
   ]
  },
  {
   "cell_type": "code",
   "execution_count": 28,
   "metadata": {
    "collapsed": false
   },
   "outputs": [
    {
     "name": "stdout",
     "output_type": "stream",
     "text": [
      "1\n",
      "2\n",
      "3\n"
     ]
    }
   ],
   "source": [
    "print3()"
   ]
  },
  {
   "cell_type": "markdown",
   "metadata": {},
   "source": [
    "This is an example of a function without input. Thus, it will do the **exact same thing** every time to call it. Functions without inputs are always called with an empty parenthesis.\n",
    "\n",
    "```python\n",
    "function()\n",
    "```"
   ]
  },
  {
   "cell_type": "code",
   "execution_count": 29,
   "metadata": {
    "collapsed": true
   },
   "outputs": [],
   "source": [
    "def myname():\n",
    "    print('My name is Sebastian')"
   ]
  },
  {
   "cell_type": "code",
   "execution_count": 30,
   "metadata": {
    "collapsed": false
   },
   "outputs": [
    {
     "name": "stdout",
     "output_type": "stream",
     "text": [
      "My name is Sebastian\n"
     ]
    }
   ],
   "source": [
    "myname()"
   ]
  },
  {
   "cell_type": "code",
   "execution_count": null,
   "metadata": {
    "collapsed": true
   },
   "outputs": [],
   "source": []
  },
  {
   "cell_type": "code",
   "execution_count": null,
   "metadata": {
    "collapsed": true
   },
   "outputs": [],
   "source": []
  },
  {
   "cell_type": "code",
   "execution_count": null,
   "metadata": {
    "collapsed": true
   },
   "outputs": [],
   "source": []
  },
  {
   "cell_type": "code",
   "execution_count": 32,
   "metadata": {
    "collapsed": true
   },
   "outputs": [],
   "source": [
    "def exclaim(string):\n",
    "    print(string + '!')"
   ]
  },
  {
   "cell_type": "code",
   "execution_count": 33,
   "metadata": {
    "collapsed": false
   },
   "outputs": [
    {
     "name": "stdout",
     "output_type": "stream",
     "text": [
      "happy!\n"
     ]
    }
   ],
   "source": [
    "exclaim('happy')"
   ]
  },
  {
   "cell_type": "code",
   "execution_count": null,
   "metadata": {
    "collapsed": true
   },
   "outputs": [],
   "source": []
  },
  {
   "cell_type": "markdown",
   "metadata": {},
   "source": [
    "Run `exclaim` for the following inputs:\n",
    "\n",
    "* 'cheese'\n",
    "* 'spam'\n",
    "* spam\n",
    "* 5\n",
    "\n",
    "What happened in the last two cases? How can we use an if-else statement to check for input?"
   ]
  },
  {
   "cell_type": "code",
   "execution_count": 35,
   "metadata": {
    "collapsed": true
   },
   "outputs": [],
   "source": [
    "def exclaim(string):\n",
    "    if type(string) == str:\n",
    "        print(string + '!')\n",
    "    else:\n",
    "        print('The input has to be a string.')"
   ]
  },
  {
   "cell_type": "code",
   "execution_count": 36,
   "metadata": {
    "collapsed": false
   },
   "outputs": [
    {
     "name": "stdout",
     "output_type": "stream",
     "text": [
      "cheese!\n"
     ]
    }
   ],
   "source": [
    "exclaim('cheese')"
   ]
  },
  {
   "cell_type": "code",
   "execution_count": 37,
   "metadata": {
    "collapsed": false
   },
   "outputs": [
    {
     "name": "stdout",
     "output_type": "stream",
     "text": [
      "The input has to be a string.\n"
     ]
    }
   ],
   "source": [
    "exclaim(5)"
   ]
  },
  {
   "cell_type": "code",
   "execution_count": null,
   "metadata": {
    "collapsed": true
   },
   "outputs": [],
   "source": []
  },
  {
   "cell_type": "markdown",
   "metadata": {},
   "source": [
    "### The return statement\n",
    "\n",
    "Let's say we want to write a function that takes two numbers and adds them together. We could write"
   ]
  },
  {
   "cell_type": "code",
   "execution_count": 38,
   "metadata": {
    "collapsed": true
   },
   "outputs": [],
   "source": [
    "def myadd(n,m):\n",
    "    added = n + m\n",
    "    print(added)"
   ]
  },
  {
   "cell_type": "markdown",
   "metadata": {},
   "source": [
    "and verify that it works"
   ]
  },
  {
   "cell_type": "code",
   "execution_count": 39,
   "metadata": {
    "collapsed": false
   },
   "outputs": [
    {
     "name": "stdout",
     "output_type": "stream",
     "text": [
      "7\n"
     ]
    }
   ],
   "source": [
    "myadd(2,5)"
   ]
  },
  {
   "cell_type": "code",
   "execution_count": 41,
   "metadata": {
    "collapsed": false
   },
   "outputs": [
    {
     "name": "stdout",
     "output_type": "stream",
     "text": [
      "4\n"
     ]
    }
   ],
   "source": [
    "myadd(1,3)"
   ]
  },
  {
   "cell_type": "markdown",
   "metadata": {},
   "source": [
    "What happens if I try to call back the variable `added` ?"
   ]
  },
  {
   "cell_type": "code",
   "execution_count": 42,
   "metadata": {
    "collapsed": false
   },
   "outputs": [
    {
     "ename": "NameError",
     "evalue": "name 'added' is not defined",
     "output_type": "error",
     "traceback": [
      "\u001b[0;31m---------------------------------------------------------------------------\u001b[0m",
      "\u001b[0;31mNameError\u001b[0m                                 Traceback (most recent call last)",
      "\u001b[0;32m<ipython-input-42-b7be4a438343>\u001b[0m in \u001b[0;36m<module>\u001b[0;34m()\u001b[0m\n\u001b[0;32m----> 1\u001b[0;31m \u001b[0mprint\u001b[0m\u001b[0;34m(\u001b[0m\u001b[0madded\u001b[0m \u001b[0;34m+\u001b[0m \u001b[0;36m1\u001b[0m\u001b[0;34m)\u001b[0m\u001b[0;34m\u001b[0m\u001b[0m\n\u001b[0m",
      "\u001b[0;31mNameError\u001b[0m: name 'added' is not defined"
     ]
    }
   ],
   "source": [
    "print(added + 1)"
   ]
  },
  {
   "cell_type": "markdown",
   "metadata": {},
   "source": [
    "The reason for this is that variables defined **inside** a function cannot be referred to from **outside** the function. We can go around this by saying"
   ]
  },
  {
   "cell_type": "code",
   "execution_count": 45,
   "metadata": {
    "collapsed": false
   },
   "outputs": [
    {
     "name": "stdout",
     "output_type": "stream",
     "text": [
      "8\n"
     ]
    }
   ],
   "source": [
    "new_number = myadd(5,3)"
   ]
  },
  {
   "cell_type": "code",
   "execution_count": 47,
   "metadata": {
    "collapsed": true
   },
   "outputs": [],
   "source": [
    "new_number"
   ]
  },
  {
   "cell_type": "markdown",
   "metadata": {},
   "source": [
    "and try to run an operation on it..."
   ]
  },
  {
   "cell_type": "code",
   "execution_count": 48,
   "metadata": {
    "collapsed": false
   },
   "outputs": [
    {
     "ename": "TypeError",
     "evalue": "unsupported operand type(s) for +: 'NoneType' and 'int'",
     "output_type": "error",
     "traceback": [
      "\u001b[0;31m---------------------------------------------------------------------------\u001b[0m",
      "\u001b[0;31mTypeError\u001b[0m                                 Traceback (most recent call last)",
      "\u001b[0;32m<ipython-input-48-a8f5f98237cd>\u001b[0m in \u001b[0;36m<module>\u001b[0;34m()\u001b[0m\n\u001b[0;32m----> 1\u001b[0;31m \u001b[0mnew_number\u001b[0m \u001b[0;34m+\u001b[0m \u001b[0;36m2\u001b[0m\u001b[0;34m\u001b[0m\u001b[0m\n\u001b[0m",
      "\u001b[0;31mTypeError\u001b[0m: unsupported operand type(s) for +: 'NoneType' and 'int'"
     ]
    }
   ],
   "source": [
    "new_number + 2"
   ]
  },
  {
   "cell_type": "code",
   "execution_count": null,
   "metadata": {
    "collapsed": true
   },
   "outputs": [],
   "source": []
  },
  {
   "cell_type": "markdown",
   "metadata": {},
   "source": [
    "We find that we cannot perform any operations on our output. Thus, if we want to create a variable inside a function that can be used later, we need to use the **return** command. Going back to the above example we write a new function"
   ]
  },
  {
   "cell_type": "code",
   "execution_count": 49,
   "metadata": {
    "collapsed": false
   },
   "outputs": [],
   "source": [
    "def myadd2(n,m):\n",
    "    added = n + m\n",
    "    return added"
   ]
  },
  {
   "cell_type": "code",
   "execution_count": 50,
   "metadata": {
    "collapsed": false
   },
   "outputs": [
    {
     "data": {
      "text/plain": [
       "9"
      ]
     },
     "execution_count": 50,
     "metadata": {},
     "output_type": "execute_result"
    }
   ],
   "source": [
    "myadd2(4,5)"
   ]
  },
  {
   "cell_type": "markdown",
   "metadata": {},
   "source": [
    "For one thing, Jupyter detects that we have a new output and gives us an `Out` cell! We can now take the returned value and assign it to a variable"
   ]
  },
  {
   "cell_type": "code",
   "execution_count": 51,
   "metadata": {
    "collapsed": true
   },
   "outputs": [],
   "source": [
    "another_number = myadd2(4,5)"
   ]
  },
  {
   "cell_type": "markdown",
   "metadata": {},
   "source": [
    "Another important feature of return, is that the function ends with it. That is to say, any code written inside the function after the return statement is not executed."
   ]
  },
  {
   "cell_type": "code",
   "execution_count": 52,
   "metadata": {
    "collapsed": false
   },
   "outputs": [
    {
     "data": {
      "text/plain": [
       "14"
      ]
     },
     "execution_count": 52,
     "metadata": {},
     "output_type": "execute_result"
    }
   ],
   "source": [
    "another_number  + 5"
   ]
  },
  {
   "cell_type": "markdown",
   "metadata": {},
   "source": [
    "Success!"
   ]
  },
  {
   "cell_type": "code",
   "execution_count": 63,
   "metadata": {
    "collapsed": false
   },
   "outputs": [],
   "source": [
    "def high_number(x,y):\n",
    "    if x > y:\n",
    "        return x\n",
    "    else:\n",
    "        return y"
   ]
  },
  {
   "cell_type": "code",
   "execution_count": 64,
   "metadata": {
    "collapsed": false
   },
   "outputs": [
    {
     "data": {
      "text/plain": [
       "11"
      ]
     },
     "execution_count": 64,
     "metadata": {},
     "output_type": "execute_result"
    }
   ],
   "source": [
    "high_number(4,6) + 5"
   ]
  },
  {
   "cell_type": "code",
   "execution_count": null,
   "metadata": {
    "collapsed": true
   },
   "outputs": [],
   "source": []
  },
  {
   "cell_type": "markdown",
   "metadata": {},
   "source": [
    "# Excercise\n",
    "\n",
    "* Write a python function for the equation of the line $y = 3x + b$. It should take the y-intercept and the x-value as inputs and return a value in $y$.\n",
    "\n",
    "* Write a python function for the quadratic equation $f(x) = x^2 + 2x + 1$."
   ]
  },
  {
   "cell_type": "code",
   "execution_count": 65,
   "metadata": {
    "collapsed": true
   },
   "outputs": [],
   "source": [
    "def line(x,b):\n",
    "    y = 3*x + b\n",
    "    return y"
   ]
  },
  {
   "cell_type": "code",
   "execution_count": 66,
   "metadata": {
    "collapsed": true
   },
   "outputs": [],
   "source": [
    "def quadratic(x):\n",
    "    y = x**2 + 2*x + 1\n",
    "    return y"
   ]
  },
  {
   "cell_type": "code",
   "execution_count": 67,
   "metadata": {
    "collapsed": false
   },
   "outputs": [
    {
     "data": {
      "text/plain": [
       "8"
      ]
     },
     "execution_count": 67,
     "metadata": {},
     "output_type": "execute_result"
    }
   ],
   "source": [
    "line(2,2)"
   ]
  },
  {
   "cell_type": "code",
   "execution_count": 68,
   "metadata": {
    "collapsed": false
   },
   "outputs": [
    {
     "data": {
      "text/plain": [
       "25"
      ]
     },
     "execution_count": 68,
     "metadata": {},
     "output_type": "execute_result"
    }
   ],
   "source": [
    "quadratic(4)"
   ]
  },
  {
   "cell_type": "code",
   "execution_count": 70,
   "metadata": {
    "collapsed": false
   },
   "outputs": [],
   "source": [
    "import numpy\n",
    "import matplotlib"
   ]
  },
  {
   "cell_type": "code",
   "execution_count": 71,
   "metadata": {
    "collapsed": true
   },
   "outputs": [],
   "source": [
    "?numpy"
   ]
  },
  {
   "cell_type": "code",
   "execution_count": 72,
   "metadata": {
    "collapsed": true
   },
   "outputs": [],
   "source": [
    "?matplotlib"
   ]
  },
  {
   "cell_type": "code",
   "execution_count": null,
   "metadata": {
    "collapsed": true
   },
   "outputs": [],
   "source": []
  },
  {
   "cell_type": "markdown",
   "metadata": {},
   "source": [
    "# More Examples "
   ]
  },
  {
   "cell_type": "markdown",
   "metadata": {},
   "source": [
    "```python\n",
    "output = []\n",
    "item = 0\n",
    "while item < 6:\n",
    "    output.append(item)\n",
    "    item = item + 1\n",
    "my_range = output\n",
    "my_range\n",
    "```"
   ]
  },
  {
   "cell_type": "markdown",
   "metadata": {},
   "source": [
    "```python\n",
    "def my_range(endpoint):\n",
    "    output = []\n",
    "    item = 0\n",
    "    while item < endpoint:\n",
    "        output.append(item)\n",
    "        item += 1\n",
    "    return output"
   ]
  },
  {
   "cell_type": "markdown",
   "metadata": {},
   "source": [
    "```python    \n",
    "def myrange2(start,end):\n",
    "    output = []\n",
    "    item = start\n",
    "    while item < end:\n",
    "        output.append(item)\n",
    "        item += 1\n",
    "    return output\n",
    "```"
   ]
  },
  {
   "cell_type": "markdown",
   "metadata": {},
   "source": [
    "```python    \n",
    "input_list = input('Please type a string: ')\n",
    "counter = 0\n",
    "while counter <= input_list.index(input_list[-1]):\n",
    "    counter += 1\n",
    "print(counter)\n",
    "```"
   ]
  },
  {
   "cell_type": "code",
   "execution_count": 31,
   "metadata": {
    "collapsed": false
   },
   "outputs": [
    {
     "name": "stdout",
     "output_type": "stream",
     "text": [
      "Please type a string: derp\n",
      "4\n"
     ]
    }
   ],
   "source": [
    "input_list = input('Please type a string: ')\n",
    "counter = 0\n",
    "while counter <= input_list.index(input_list[-1]):\n",
    "    counter += 1\n",
    "print(counter)"
   ]
  },
  {
   "cell_type": "markdown",
   "metadata": {},
   "source": [
    "```python\n",
    "if counter == len(input_list):\n",
    "    print('Success!')\n",
    "    print('The length of the list is ' + str(counter))\n",
    "else:\n",
    "    print('Sorry, try again.')\n",
    "```"
   ]
  },
  {
   "cell_type": "markdown",
   "metadata": {},
   "source": [
    "Rewrite the Fibonacci example as a function"
   ]
  }
 ],
 "metadata": {
  "kernelspec": {
   "display_name": "Python 3",
   "language": "python",
   "name": "python3"
  },
  "language_info": {
   "codemirror_mode": {
    "name": "ipython",
    "version": 3
   },
   "file_extension": ".py",
   "mimetype": "text/x-python",
   "name": "python",
   "nbconvert_exporter": "python",
   "pygments_lexer": "ipython3",
   "version": "3.5.2"
  }
 },
 "nbformat": 4,
 "nbformat_minor": 2
}
