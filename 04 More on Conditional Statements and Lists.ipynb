{
 "cells": [
  {
   "cell_type": "markdown",
   "metadata": {},
   "source": [
    "# More on Conditional Statements and Lists "
   ]
  },
  {
   "cell_type": "markdown",
   "metadata": {},
   "source": [
    "# Review "
   ]
  },
  {
   "cell_type": "markdown",
   "metadata": {},
   "source": [
    "* Which of the following characters is used to make tables in markdown?\n",
    "    - `/`\n",
    "    - `\\`\n",
    "    - `|`\n",
    "* In mathmode, what does the `$frac{}{}$` command do? What role to the curly braces play and what limitations do you have to what you can put inside them?\n",
    "* What is a flow chart? In what way is it useful to organize your thinking?\n",
    "* Please match each comparison operator to its respective usage:\n",
    "\n",
    "| Comparison            | Operator |\n",
    "|-----------------------|-----------|\n",
    "| 1. value assignment      | a. !=         |\n",
    "| 2. is equal to           | b. >=        |\n",
    "| 3. is unequal to         | c. >        |\n",
    "| 4. greater than          | d. =         |\n",
    "| 5. less than             | e. <=         |\n",
    "| 6. greater or equal than | f. ==        |\n",
    "| 7. less or equal than    | g. <        |"
   ]
  },
  {
   "cell_type": "code",
   "execution_count": 1,
   "metadata": {
    "collapsed": false
   },
   "outputs": [
    {
     "data": {
      "text/plain": [
       "12"
      ]
     },
     "execution_count": 1,
     "metadata": {},
     "output_type": "execute_result"
    }
   ],
   "source": [
    "a = 5\n",
    "a + 7"
   ]
  },
  {
   "cell_type": "markdown",
   "metadata": {},
   "source": [
    "* What is wrong with the following block of code?\n",
    "\n",
    ">```python\n",
    "if expression == True\n",
    "statements\n",
    "```"
   ]
  },
  {
   "cell_type": "code",
   "execution_count": 6,
   "metadata": {
    "collapsed": false
   },
   "outputs": [],
   "source": [
    "if a == 7:\n",
    "    print(a + 7)"
   ]
  },
  {
   "cell_type": "markdown",
   "metadata": {},
   "source": [
    "* Fill in the blanks to get the string 'right word' passed as output\n",
    "\n",
    ">```python\n",
    "spam = _\n",
    "if spam > 5_\n",
    "    print('wrong word')\n",
    "if spam >= _ :\n",
    "    print('right word')\n",
    "```"
   ]
  },
  {
   "cell_type": "code",
   "execution_count": 11,
   "metadata": {
    "collapsed": false
   },
   "outputs": [
    {
     "name": "stdout",
     "output_type": "stream",
     "text": [
      "right word\n"
     ]
    }
   ],
   "source": [
    "spam = -1\n",
    "if spam > 5:\n",
    "    print('wrong word')\n",
    "if spam >= -10:\n",
    "    print('right word')"
   ]
  },
  {
   "cell_type": "markdown",
   "metadata": {},
   "source": [
    "# More Practice on if-else statements "
   ]
  },
  {
   "cell_type": "markdown",
   "metadata": {},
   "source": [
    "* Please look at the flow chart below\n",
    "\n",
    "![no else if](https://dhhmzgirqh63s.cloudfront.net/1950.gif)\n",
    "\n",
    "Describe in words what it does and create a small block of code with the same logical structure. In doing so, make sure that you use the `==` operator."
   ]
  },
  {
   "cell_type": "code",
   "execution_count": 12,
   "metadata": {
    "collapsed": false
   },
   "outputs": [
    {
     "name": "stdout",
     "output_type": "stream",
     "text": [
      "This is Owen's code.\n",
      "You got it.\n",
      "End.\n"
     ]
    }
   ],
   "source": [
    "print('This is Owen\\'s code.')\n",
    "a = 2\n",
    "b = 2\n",
    "if a + b == 4:\n",
    "    print('You got it.')\n",
    "print('End.')"
   ]
  },
  {
   "cell_type": "code",
   "execution_count": 14,
   "metadata": {
    "collapsed": false
   },
   "outputs": [
    {
     "name": "stdout",
     "output_type": "stream",
     "text": [
      "This is Mikayla's code.\n",
      "You got it.\n",
      "End.\n"
     ]
    }
   ],
   "source": [
    "print('This is Mikayla\\'s code.')\n",
    "string = 'true'\n",
    "if type(string) == str:\n",
    "    print('You got it.')\n",
    "print('End.')"
   ]
  },
  {
   "cell_type": "code",
   "execution_count": 15,
   "metadata": {
    "collapsed": false
   },
   "outputs": [
    {
     "name": "stdout",
     "output_type": "stream",
     "text": [
      "This is Mikayla's code.\n",
      "End.\n"
     ]
    }
   ],
   "source": [
    "print('This is Mikayla\\'s code.')\n",
    "string = 'true'\n",
    "if type(string) != str:\n",
    "    print('You got it.')\n",
    "print('End.')"
   ]
  },
  {
   "cell_type": "markdown",
   "metadata": {},
   "source": [
    "* What is the purpose of an `else` statement? From the code below, explain what the `else` statement does.\n",
    "\n",
    ">```python\n",
    "name = 'Philip K. Dick'\n",
    "if type(name) == str:\n",
    "    print('yes')\n",
    "else:\n",
    "    print('no')\n",
    "```"
   ]
  },
  {
   "cell_type": "code",
   "execution_count": 16,
   "metadata": {
    "collapsed": false
   },
   "outputs": [
    {
     "name": "stdout",
     "output_type": "stream",
     "text": [
      "yes\n"
     ]
    }
   ],
   "source": [
    "name = 'Philip K. Dick'\n",
    "if type(name) == str:\n",
    "    print('yes')\n",
    "else:\n",
    "    print('no')"
   ]
  },
  {
   "cell_type": "code",
   "execution_count": 18,
   "metadata": {
    "collapsed": false
   },
   "outputs": [
    {
     "name": "stdout",
     "output_type": "stream",
     "text": [
      "no\n"
     ]
    }
   ],
   "source": [
    "name = 2.5\n",
    "if type(name) == str:\n",
    "    print('yes')\n",
    "else:\n",
    "    print('no')"
   ]
  },
  {
   "cell_type": "markdown",
   "metadata": {},
   "source": [
    "* Commpare the flow chart below to the one above. In what ways are they similar? In what ways are they different?\n",
    "\n",
    "![else](https://dhhmzgirqh63s.cloudfront.net/1951.gif)\n",
    "\n",
    "Rewrite the program you created above so that its logical structure follows this flow chart. In doing so, make sure that you use the `>=` operator."
   ]
  },
  {
   "cell_type": "code",
   "execution_count": 19,
   "metadata": {
    "collapsed": false
   },
   "outputs": [
    {
     "name": "stdout",
     "output_type": "stream",
     "text": [
      "This is Owen's code.\n",
      "Wrong.\n",
      "End.\n"
     ]
    }
   ],
   "source": [
    "print('This is Owen\\'s code.')\n",
    "a = 2\n",
    "b = 3\n",
    "if a + b == 4:\n",
    "    print('You got it.')\n",
    "else:\n",
    "    print('Wrong.')\n",
    "print('End.')"
   ]
  },
  {
   "cell_type": "markdown",
   "metadata": {},
   "source": [
    "* We can use the `len()` command to find out the length of a string:\n",
    "\n",
    ">```python\n",
    "string=input('Please type in a string: ')\n",
    "if len(string) < 10:\n",
    "    print('This is a short string.')\n",
    "else:\n",
    "    if len(string) > 20:\n",
    "        print('This is a long string.')\n",
    "    else:\n",
    "        if len(string) == 15:\n",
    "            print('The exact length of the string is 15.')\n",
    "        else:\n",
    "            print(\"\"\"The length of the string is between 10 and 20, but is not 15.\n",
    "            Its exact length of the string is \"\"\" +str(len(string))+'.')\n",
    "```"
   ]
  },
  {
   "cell_type": "code",
   "execution_count": 11,
   "metadata": {
    "collapsed": false
   },
   "outputs": [
    {
     "name": "stdout",
     "output_type": "stream",
     "text": [
      "Please type in a string: Hello everyone\n",
      "The length of the string is between 10 and 20, but is not 15.\n",
      "            Its exact length of is 14\n"
     ]
    }
   ],
   "source": [
    "# The input command always asks the user to type in something before running it!\n",
    "string=input('Please type in a string: ')\n",
    "if len(string) < 10:\n",
    "    print('This is a short string.')\n",
    "else:\n",
    "    if len(string) > 20:\n",
    "        print('This is a long string.')\n",
    "    else:\n",
    "        if len(string) == 15:\n",
    "            print('The exact length of the string is 15.')\n",
    "        else:\n",
    "            print(\"\"\"The length of the string is between 10 and 20, but is not 15.\n",
    "            Its exact length of is \"\"\" + str(len(string)) + '.')"
   ]
  },
  {
   "cell_type": "code",
   "execution_count": 12,
   "metadata": {
    "collapsed": false
   },
   "outputs": [
    {
     "name": "stdout",
     "output_type": "stream",
     "text": [
      "cat dog\n",
      "1234\n",
      "46\n",
      "Error4\n"
     ]
    }
   ],
   "source": [
    "# Reminder: we can concatenate strings using '+'\n",
    "print('cat ' + 'dog')\n",
    "print('12' + '34')\n",
    "print(12 + 34)\n",
    "print('Error' + str(4))"
   ]
  },
  {
   "cell_type": "markdown",
   "metadata": {},
   "source": [
    "* We may use the `elif` command to rewrite the above program. Please fill in the blanks to get the same output as before:\n",
    "\n",
    ">```python\n",
    "string = 'Hello everyone!'\n",
    "if len(string) < 10_\n",
    "    print('This is a short string.')\n",
    "____ len(string) > 20:\n",
    "    print('This is a long string.')\n",
    "elif len(string) __ 15:\n",
    "    print('The exact length of the string is ' +str(len(string)) +'.')\n",
    "____:\n",
    "    print('The length of the string is between 10 and 20, but is not 15.')\n",
    "```\n",
    "\n",
    "Based on the previous exercise, is the advantage of using the `elif` statement if you want to test multiple conditions at once? How does this affect the number of indents and nested statements in your code"
   ]
  },
  {
   "cell_type": "code",
   "execution_count": 16,
   "metadata": {
    "collapsed": false
   },
   "outputs": [
    {
     "name": "stdout",
     "output_type": "stream",
     "text": [
      "Please type a string: Not too long.\n",
      "The length of the string is between 10 and 20, but is not 15.\n"
     ]
    }
   ],
   "source": [
    "string = input('Please type a string: ')\n",
    "if len(string) < 10:\n",
    "    print('This is a short string.')\n",
    "elif len(string) > 20:\n",
    "    print('This is a long string.')\n",
    "elif len(string) == 15:\n",
    "    print('The exact length of the string is ' +str(len(string)) +'.')\n",
    "else:\n",
    "    print('The length of the string is between 10 and 20, but is not 15.')\n"
   ]
  },
  {
   "cell_type": "markdown",
   "metadata": {},
   "source": [
    "* Examine the flow chart below and explain the kind of program that it describes.\n",
    "\n",
    "![nested](http://flylib.com/books/2/891/1/html/2/images/08fig06.gif)\n",
    "\n",
    "Use what you know about the `if-else` statements to write this program in python. Can you do this using `elif`? Why or why not?"
   ]
  },
  {
   "cell_type": "code",
   "execution_count": 23,
   "metadata": {
    "collapsed": false
   },
   "outputs": [
    {
     "name": "stdout",
     "output_type": "stream",
     "text": [
      "Please type in a number: 9\n",
      "This number is positive and divisible by 3.\n",
      "End of program.\n"
     ]
    }
   ],
   "source": [
    "number = input('Please type in a number: ')\n",
    "if int(number) < 0:\n",
    "    print('The number is zero or negative.')\n",
    "elif (int(number) % 3) == 0:\n",
    "    print('This number is positive and divisible by 3.')\n",
    "print('End of program.')"
   ]
  },
  {
   "cell_type": "code",
   "execution_count": 26,
   "metadata": {
    "collapsed": false
   },
   "outputs": [
    {
     "name": "stdout",
     "output_type": "stream",
     "text": [
      "Please type in a number: 7\n",
      "This number is positive but not divisible by 3.\n",
      "End of program.\n"
     ]
    }
   ],
   "source": [
    "number = input('Please type in a number: ')\n",
    "if int(number) > 0:\n",
    "    if int(number)%3 == 0:\n",
    "        print('This number is positive and divisible by 3.')\n",
    "    else:\n",
    "        print('This number is positive but not divisible by 3.')\n",
    "else:\n",
    "    print('The number is zero or negative.')\n",
    "print('End of program.')"
   ]
  },
  {
   "cell_type": "markdown",
   "metadata": {},
   "source": [
    "# Lists "
   ]
  },
  {
   "cell_type": "markdown",
   "metadata": {},
   "source": [
    "A list is one of the most important data structures in python. A **list** is defined as an indexed collection of items. The entries of the list are bounded by **square brackets** (`[]`) and are separated by commas. The items in the list may be any of the data types that we have seen so far: integers, floats, strings, boolean expressions and even other lists!\n",
    "\n",
    "```python\n",
    "stringlist = ['item 1', 'item 2', 'item 3', 'item 4']\n",
    "floatlist = [1.0, 2.0, 3.0, 4.0]\n",
    "booleanlist = [True, False, 1==1, 2!=2]\n",
    "```"
   ]
  },
  {
   "cell_type": "markdown",
   "metadata": {},
   "source": [
    "## List Indexing "
   ]
  },
  {
   "cell_type": "markdown",
   "metadata": {},
   "source": [
    "Each item of the list can be retrieved by applying the following syntax\n",
    "\n",
    "```python\n",
    "list[entry]\n",
    "```\n",
    "\n",
    "This is known as **list indexing**. In doing so, it  is **very** important to bear in mind that the first entry of the list will be indexed with a 0. It is a common mistake to forget this early on in programming, but there are good reasons why things are the way they are. So if we wanted to access the entry `1.0` in the list `floatlist`, we would type\n",
    "\n",
    "```python\n",
    "floatlist[0]\n",
    "```\n",
    "\n",
    "We can then perform arithmetic operations on the entries of the list, as follows:\n",
    "\n",
    "```python\n",
    "floatlist[0] + floatlist[1]\n",
    "```\n",
    "\n",
    "**WARNING** : If you try to call a nonexistent index in a list, you will get a `TypeError`."
   ]
  },
  {
   "cell_type": "code",
   "execution_count": null,
   "metadata": {
    "collapsed": true
   },
   "outputs": [],
   "source": []
  },
  {
   "cell_type": "markdown",
   "metadata": {},
   "source": [
    "As it turns out, a string on its own can also be considered as a list! In this special case, we don't have to worry about wrapping the string in square brackets to call its entries\n",
    "\n",
    "```python\n",
    "somestring = 'A string can be thought of as a list.'\n",
    "somestring[-1]\n",
    "```\n",
    "If we use index lists with negative numbers, we are going from the right to left. Thus, `somestring[-1]` corresponds to the last entry in the list."
   ]
  },
  {
   "cell_type": "code",
   "execution_count": null,
   "metadata": {
    "collapsed": true
   },
   "outputs": [],
   "source": []
  },
  {
   "cell_type": "markdown",
   "metadata": {},
   "source": [
    "## List methods"
   ]
  },
  {
   "cell_type": "code",
   "execution_count": null,
   "metadata": {
    "collapsed": true
   },
   "outputs": [],
   "source": []
  }
 ],
 "metadata": {
  "kernelspec": {
   "display_name": "Python 3",
   "language": "python",
   "name": "python3"
  },
  "language_info": {
   "codemirror_mode": {
    "name": "ipython",
    "version": 3
   },
   "file_extension": ".py",
   "mimetype": "text/x-python",
   "name": "python",
   "nbconvert_exporter": "python",
   "pygments_lexer": "ipython3",
   "version": "3.5.2"
  }
 },
 "nbformat": 4,
 "nbformat_minor": 2
}
