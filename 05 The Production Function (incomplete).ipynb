{
 "cells": [
  {
   "cell_type": "markdown",
   "metadata": {},
   "source": [
    "# The Production Function and Cost in the Short Run"
   ]
  },
  {
   "cell_type": "markdown",
   "metadata": {},
   "source": [
    "## In-class Problem"
   ]
  },
  {
   "cell_type": "markdown",
   "metadata": {},
   "source": [
    "Suppose that the marginal cost of producing $x$ units of a certain product is given $74 + 1.1x - 0.002x^2 + 0.00004x^3$ in dollars per unit. If the production level is increased from 1200 units to 1600 units, find the increase in cost."
   ]
  },
  {
   "cell_type": "code",
   "execution_count": 13,
   "metadata": {
    "collapsed": false
   },
   "outputs": [
    {
     "name": "stdout",
     "output_type": "stream",
     "text": [
      "43866933.33333334\n"
     ]
    }
   ],
   "source": [
    "def cost(x):\n",
    "    c = (74*x + (1.1/2)*(x**2) - (0.002/3)*(x**3) + (0.00004/4)*(x**4))\n",
    "    return c\n",
    "cost_change = cost(1600) - cost(1200)\n",
    "print(cost_change)"
   ]
  },
  {
   "cell_type": "markdown",
   "metadata": {},
   "source": [
    "From the above exercise, it is clear that changing the level of production has a direct effect on cost. In this lecture we will see how the cost function is related to the **production function**. But first, we will begin with a recap of what we have done so far for average cost."
   ]
  },
  {
   "cell_type": "markdown",
   "metadata": {},
   "source": [
    "## Review: Average Cost"
   ]
  },
  {
   "cell_type": "markdown",
   "metadata": {},
   "source": [
    "A manufacturing plant has a cost function of $C(x) = 100x - 4x^2 + 0.2x^3 + 450$. What is the firm's fixed cost and variable cost function? Derive formulas for marginal cost, average fixed cost, average variable cost, and average cost."
   ]
  },
  {
   "cell_type": "markdown",
   "metadata": {},
   "source": [
    "The fixed cost is\n",
    "\n",
    "$$\n",
    "F = 450\n",
    "$$\n",
    "\n",
    "The variable cost function is\n",
    "\n",
    "$$\n",
    "VC(x) = 100x -4x^2 +0.2x^3\n",
    "$$\n",
    "\n",
    "The marginal cost is thus given by\n",
    "\n",
    "$$\n",
    "C'(x) = \\frac{dC(x)}{dx} = \\frac{d(100x -4x^2 +0.2x^3)}{dx} = 100 - 8x + 0.6x^2\n",
    "$$\n",
    "\n",
    "while average cost can be broken down into\n",
    "$$\n",
    "\\text{AFC} = \\frac{F}{x} = \\frac{450}{x}\n",
    "$$\n",
    "\n",
    "$$\n",
    "\\text{AVC} = \\frac{V(x)}{x} = \\frac{100x - 4x^2 + 0.2x^3}{q} = 100 - 4x + 0.2x^2\n",
    "$$\n",
    "\n",
    "$$\n",
    "\\text{AC} = \\frac{C(x)}{x} = \\frac{100x - 4x^2 + 0.2x^3 +450}{x}\n",
    "= 100 - 4x + 0.2x^2 + \\frac{450}{x} = \\text{AVC + AFC}\n",
    "$$"
   ]
  },
  {
   "cell_type": "markdown",
   "metadata": {},
   "source": [
    "## TOK: Microeconomics vs. Macroeconomics "
   ]
  },
  {
   "cell_type": "markdown",
   "metadata": {},
   "source": [
    "Our discussions of cost and production processes have revolved around how individual companies work independent of each other. Since we have restricted our mathematical analysis to the internal operation of an individual firm, our study falls under the subject of **microeconomics**. This is to be contrasted with **macroeconomics**, which studies economical processes in the aggregate. Based on the chart below, what difficulties do you think the study of macroeconomics involves? To what extent should the results of microeconomics inform the theory of macroeconomics? Should we be able to derive national income from individual income? Would such a treatment affect the underlying mathematics of both theories?\n",
    "\n",
    "![](https://beginnerseconomicstips.files.wordpress.com/2014/12/difference-micro-and-macro.png)"
   ]
  },
  {
   "cell_type": "markdown",
   "metadata": {},
   "source": [
    "## Microeconomics allows us to formalize the factors of production "
   ]
  },
  {
   "cell_type": "markdown",
   "metadata": {},
   "source": [
    "When considering the functions of a business, we have recognized that a firm uses technological and production processes to transform inputs into outputs. Recall that we identify the inputs with the factors of production and have classified them into **land**, **labor**, **enterprise**,  and **capital**. As we shall see shortly, we can **simplify our mathematical analysis** by distinguishing our business inputs as either short-term or long-term inputs. In doing so, mircoeconomics establishes three categories:\n",
    "\n",
    "1. **Capital services** (**K**): Use of long-lived inputs such as land, buildings (such as factories and stores), and equipment (such as machines and trucks)\n",
    "2. **Labor services** (**L**): Hours of work provided by managers, skilled workers (such as architects, physicists, electricians and economists), and less-skilled workers (such as construction and assembly line workers)\n",
    "3. **Materials** (**M**): Natural resources and raw goods (such as oil, water and wheat) and processed products (such as aluminum, plastic, paper, and steel) that are typically consumed in producing, or incoporated in making, the final product."
   ]
  },
  {
   "cell_type": "markdown",
   "metadata": {},
   "source": [
    "### Pause and Reflect:\n",
    "\n",
    "What advantage might we have in placing land, buildings and machinery into the category of capital? How does this shape our notion of what it means to be a capitalist?\n",
    "\n",
    "![](http://vignette3.wikia.nocookie.net/uncyclopedia/images/b/ba/Capitalist.jpg/revision/latest?cb=20061010160848)"
   ]
  },
  {
   "cell_type": "markdown",
   "metadata": {},
   "source": [
    "## The Production Function "
   ]
  },
  {
   "cell_type": "markdown",
   "metadata": {},
   "source": [
    "The various ways that a firm can transform inputs into output are summarized by the **production function**: the relationship between the quantities of inputs used and the *maximum* quantity of output that can be produced, given current knowledge about technology and organization. In neoclassical theories, it takes the form:\n",
    "\n",
    "$$\n",
    "q = f(L,K)\n",
    "$$\n",
    "\n",
    "where $L$ denotes labor and $K$ denotes capital. It is important to recognize that stated this way, the production function **cannot** be a full model of the production process since it deliberately abstracts away from inherent physical production processes such as error, entropy or waste, and the consumption of energy. Neither does it consider the role of strategic and operational business management.\n",
    "\n",
    "More importantly, such a simple model neglects the quantity of raw materials. A more complete production function would be of the form\n",
    "\n",
    "$$\n",
    "q = f(L,M,K)\n",
    "$$\n",
    "\n",
    "Despite these simplifications, we will see that a production function considering only labor and capital as inputs is still useful."
   ]
  },
  {
   "cell_type": "markdown",
   "metadata": {},
   "source": [
    "## Partial Derivatives "
   ]
  },
  {
   "cell_type": "markdown",
   "metadata": {},
   "source": [
    "So far, you have only studied single variable functions which live in the $\\mathbb{R}^2$ plane. An immediate consequence of having a function with two variables $f(x,y)$ is that we now have a surface living in $\\mathbb{R}^3$, a three-dimensional vector space. \n",
    "\n",
    "![](http://image.mathcaptain.com/cms/images/88/partial-derivative-interpretation1.jpg)\n",
    "\n",
    "How do we extend our concept of differentiation to such a surface? We do so by defining the **partial derivatives** of $f(x,y)$\n",
    "\n",
    "$$\n",
    "f_x = \\frac{\\partial f(x,y)}{\\partial x}\n",
    "$$\n",
    "\n",
    "and \n",
    "\n",
    "$$\n",
    "f_y = \\frac{\\partial f(x,y)}{\\partial y}\n",
    "$$\n",
    "\n",
    "We won't go into much detail here, but the main idea in taking a partial derivative is that you hold **all variables but the ones you are deriving with respect to fixed**. That is to say, if we are differentiating $f(x,y)$ with respect to $x$, we treat $y$ as a constant and if we differentiate $f(x,y)$ with respect to $y$, we treat $x$ as a constant."
   ]
  },
  {
   "cell_type": "markdown",
   "metadata": {},
   "source": [
    "### Pause and Reflect:\n",
    "\n",
    "We see now that one of the reasons microeconomics uses $q(L,K)$ instead of $q(L,K,M)$ is for mathematical simplicity, since a function with three inputs would live inside a four-dimensional space! How does the choice of input variables affect the way in which we classify the costs of production as either fixed or variable? Why might it be easier to think of raw materials as fixed as opposed to labor?\n",
    "\n",
    "![](http://www.steel-silo.com/uploads/allimg/small-steel-grain-silos.jpg)"
   ]
  },
  {
   "cell_type": "markdown",
   "metadata": {},
   "source": [
    "## The Role of Time in Business: Short-run vs. Long-run "
   ]
  },
  {
   "cell_type": "markdown",
   "metadata": {},
   "source": [
    "Our choice of what factors of production are to be treated as variables in the production function is strictly contingent on the period of time over which we desire to perform economical analysis. Over a sufficiently long period of time, it is possible for a firm to adjust all of its inputs. Conversely, if the period of time is quite short, a company may not be able to adjust some of its business inputs. For example, a firm can vary the amount of materials and relatively unskilled labor it uses compartively quickly. However, it needs more time to find and hire skilled workers, order new equipment, or build a new manufacturing plant.\n",
    "\n",
    "The more time a firm has to adjust its inputs, the more factors of production it can alter. The **short run** is a period of time so brief that at least one factor of production cannot be varied practically. A factor that a firm cannot vary practically in the short run is called a **fixed input**. In contrast, a **variable input** is a factor of production whose quantity the firm can change readily during the relevant time period. There are no fixed inputs in the long run -- all factors of production are variable inputs.\n"
   ]
  },
  {
   "cell_type": "markdown",
   "metadata": {},
   "source": [
    "In the short run, we assume that capital is a fixed input and that labor is a variable input, so the firm can increase output only by increasing the amount of labor it uses. In the short run, the firm's production function is\n",
    "\n",
    "$$\n",
    "q = f(L,\\bar{K})\n",
    "$$\n",
    "\n",
    "where $q$ is output, $L$ is the number workers, and $\\bar{K}$ is the fixed number of units of capital. The short-run production function is also referred to as the **total product of labor**--the amout of output (or *total product*) that a given amount of labor can produce holding the quantity of other inputs fixed."
   ]
  },
  {
   "cell_type": "markdown",
   "metadata": {},
   "source": [
    "### Pause and Reflect:\n",
    "\n",
    "If $L$ can be easily varied, this suggests that the short-run production function of the form $q = f(L,\\bar{K})$ is aimed at describing labor in terms unskilled workers. Such a model is best applied to a large factory. This interpretation is reasonable since classical economical theory was developed in the peak of the industrial revolution.\n",
    "\n",
    "![](http://vignette3.wikia.nocookie.net/uncyclopedia/images/b/ba/Capitalist.jpg/revision/latest?cb=20061010160848)"
   ]
  },
  {
   "cell_type": "markdown",
   "metadata": {},
   "source": [
    "## The total derivative with respect to time "
   ]
  },
  {
   "cell_type": "markdown",
   "metadata": {},
   "source": [
    "$$\n",
    "\\frac{dq}{dt}\n",
    "$$"
   ]
  },
  {
   "cell_type": "markdown",
   "metadata": {},
   "source": [
    "$$\n",
    "C(x) = C(q(K,L))\n",
    "$$"
   ]
  },
  {
   "cell_type": "markdown",
   "metadata": {},
   "source": [
    "## Marginal Product of Labor "
   ]
  },
  {
   "cell_type": "markdown",
   "metadata": {},
   "source": [
    "Choosing to keep our production function in terms of labor and capital, we can now define the **marginal product of labor** ($MP_L$) as the change in total output resulting from using an extra unit of labor, holding other factors constant. The marginal product of labor is the partial derivative of the production function with respect to labor,\n",
    "\n",
    "$$\n",
    "\\text{MP}_L = \\frac{\\partial q}{\\partial L} = \\frac{\\partial q(L,K)}{\\partial L}\n",
    "$$\n",
    "\n",
    "The **average product of labor** ($\\text{AP}_L$) is the ratio of output to the number of workers used to produce that output. Can you obtain an expression for this?"
   ]
  },
  {
   "cell_type": "markdown",
   "metadata": {},
   "source": [
    "### Example"
   ]
  },
  {
   "cell_type": "markdown",
   "metadata": {
    "collapsed": true
   },
   "source": [
    "A computer assembly firm's production function is $q = 0.1LK + 3L^2K - 0.1L^3K$. What is its short-run production function if capital is fixed at $\\bar{K} = 10$? Give the formulas for its marginal product of labor and its average product of labor."
   ]
  },
  {
   "cell_type": "markdown",
   "metadata": {},
   "source": [
    "The short-run production assumes $K = \\bar{K}$, meaning that capital is fixed. In this case, $\\bar{K} = 10$ so\n",
    "\n",
    "$$\n",
    "q = 0.1L(10) + 3L^2(10) - 0.1L^3(10) = L + 30L^2 - L^3\n",
    "$$\n",
    "\n",
    "The marginal product of labor is\n",
    "\n",
    "$$\n",
    "MP_L = \\frac{dq}{dL} = 1 + 60L - 3L^2\n",
    "$$\n",
    "\n",
    "The average product of labor is\n",
    "\n",
    "$$\n",
    "AP_L = \\frac{q}{L} = \\frac{L + 30L^2 - L^3}{L} = 1 + 30L - L^2\n",
    "$$"
   ]
  },
  {
   "cell_type": "markdown",
   "metadata": {},
   "source": [
    "# Move this elsewhere! "
   ]
  },
  {
   "cell_type": "markdown",
   "metadata": {},
   "source": [
    "## Mathematical Abstraction: There are different types of production functions"
   ]
  },
  {
   "cell_type": "markdown",
   "metadata": {},
   "source": [
    "Remember that a central idea of this course is my claim that a **mathematical model is only as good as the assumptions that go into its consideration**. To better account for these assumptions, it is sometimes necessary to rely on even more refined mathematical procedures."
   ]
  },
  {
   "cell_type": "markdown",
   "metadata": {},
   "source": [
    "The most general production functions are all functions of the form\n",
    "\n",
    "$$\n",
    "\\mathbf{y} = f(\\mathbf{x})\n",
    "$$\n",
    "\n",
    "whereby $\\mathbf{x} \\in \\mathbb{R}$ and $\\mathbf{y} \\in \\mathbb{R}$ denote a vector of production factors (the inputs) and a vector of products (the outputs). Both $\\mathbf{y}$ and $\\mathbf{x}$ are *flows* expressed in terms of purely physical magnitudes per unit time. As we have seen, it is important to distinguish capital into physical and human capital, which is accomplished by a **Georgescu-Roegen production function** of the form\n",
    "\n",
    "$$\n",
    "\\mathbf{y} = f(\\mathbf{k},\\mathbf{x})\n",
    "$$\n",
    "\n",
    "where $\\mathbf{k} \\in \\mathbb{R}$ is a $m \\times 1$ vector of capital endowments. Thus, one way of solving the quandry of how to distinguish between the different types of capital is by specifying the value of $m$ in terms of physical, human and financial capital so that $m = m_p + m_h + m_f$. Specified this way, the production function becomes a **state vector** informing the flows of remaining variables. As pointed out by the econophysicist Guido Fioretti, the concept of state vector is not commonly employed in economics, but is amply used across all areas of physics. The picture below shows how the concepts of **temperature**, **entropy**, **pressure** and **volume** are related to each other as state variables:"
   ]
  },
  {
   "cell_type": "markdown",
   "metadata": {},
   "source": [
    "![](http://hydrogen.physik.uni-wuppertal.de/hyperphysics/hyperphysics/hbase/thermo/imgheat/theridcon.gif)"
   ]
  },
  {
   "cell_type": "markdown",
   "metadata": {},
   "source": [
    "Why is this relevant?\n",
    "\n",
    "Before his work in economics, Georgescu-Roegen graduated in mathematics and physics. Thus, his mathematical background allowed him to contrast the stocks of capital *funds* with the *flows* of production factors. His production function is known as a *flows-funds* model. As demonstrated by Fioretti, **all kinds of production functions commonly used in microeconomics and macroeconomics are special cases of Georgescu-Roegen's model**! Fioretti says that since \"curricula in economics generally do not entail the concept of *state variable*, even those economists who are acquainted with the flow-funds model are unable to view its dynamics as a general property of dynamical systems.\""
   ]
  },
  {
   "cell_type": "markdown",
   "metadata": {},
   "source": [
    "![](https://upload.wikimedia.org/wikipedia/commons/c/c8/Nicholas_Georgescu-Roegen.jpg)"
   ]
  },
  {
   "cell_type": "markdown",
   "metadata": {},
   "source": [
    "Georgescu-Roegen is considered to be the founder of **ecological economics** as a result of his seminal work 1971 titled *The Entropy Law and the Economic Process*, wherein he argued that all natural resources are irreversibly degraded when put to use in economic activity:\n",
    "\n",
    "\n",
    "![](https://upload.wikimedia.org/wikipedia/en/6/6e/Diagram_of_natural_resource_flows.jpg)"
   ]
  },
  {
   "cell_type": "markdown",
   "metadata": {},
   "source": [
    "## Pause and Reflect\n",
    "\n",
    "Unfortunately, Georgescu-Roegen's work is not **commonly discussed in standard economics textbooks**. Why might this be the case? We recognize that relying on more sophisticated mathematics allows for more refined theories at the expense of increasing the entry-level into the discussion. Should economical theories be simple so that more people can discuss them or more sophisticated so that they better correspond to nature? Given the undeniable evidence for the effect of human activity on climate change, shouldn't institutions and governments move towards implementing ecological economics? What political and societal pressures may be supressing these reforms in mainstream economics? Who benefits from maintaining a \"business as usual\" state of affairs?"
   ]
  }
 ],
 "metadata": {
  "kernelspec": {
   "display_name": "Python 3",
   "language": "python",
   "name": "python3"
  },
  "language_info": {
   "codemirror_mode": {
    "name": "ipython",
    "version": 3
   },
   "file_extension": ".py",
   "mimetype": "text/x-python",
   "name": "python",
   "nbconvert_exporter": "python",
   "pygments_lexer": "ipython3",
   "version": "3.5.2"
  }
 },
 "nbformat": 4,
 "nbformat_minor": 2
}
