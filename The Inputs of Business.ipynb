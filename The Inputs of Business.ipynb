{
 "cells": [
  {
   "cell_type": "markdown",
   "metadata": {},
   "source": [
    "# The Inputs of Business "
   ]
  },
  {
   "cell_type": "markdown",
   "metadata": {},
   "source": [
    "## Consumer Goods and Services"
   ]
  },
  {
   "cell_type": "markdown",
   "metadata": {},
   "source": [
    "![aisle](http://www.mindprocessors.com/images/content-page/consumer-goods.jpg)"
   ]
  },
  {
   "cell_type": "markdown",
   "metadata": {},
   "source": [
    "You're in University in a new city, away from your parents. For what may be the first time, you have to go to the grocery store by yourself. Let's say you arrive at Safeway (or its equivalent) and end up in an aisle full of stuff. Five brands of toilet paper, four kinds of cracker, six identical razor blades produced by the same company and you cannot quite determine what sets each apart from each other. Where did it all come from?"
   ]
  },
  {
   "cell_type": "markdown",
   "metadata": {},
   "source": [
    "As consumers in a capitalist society--by choice or not--we are faced with the task of taking the income acquired from our work and spending it in goods. Some of these goods may be tangible, whereas others can expire. In general, the products available can be classified as consumer **goods** and **services**. These goods are to be distinguished from **capital**, which coresponds to the physical goods required by industry. Whether goods, services or capital, we are bound to recognize that the objects considered are static -- they play a fixed role in the economy. In the language of calculus, we refer to these as the **outputs** of a business."
   ]
  },
  {
   "cell_type": "markdown",
   "metadata": {},
   "source": [
    "\n",
    "- **consumer goods**: the physical and tangible goods sold to the general public.\n",
    "    - durable goods: cars, machines, etc.\n",
    "    - nondurable goods: food, drinks\n",
    "- **consumer services**: non-tangible products that are sold to the general public\n",
    "    - hotel accommodation, insurance, plane flights\n",
    "- **capital goods**: physical goods used by industry to aid in the production of other goods and services\n",
    "    - machines and commercial vehicles"
   ]
  },
  {
   "cell_type": "markdown",
   "metadata": {},
   "source": [
    "## So where do businesses get their inputs from?"
   ]
  },
  {
   "cell_type": "markdown",
   "metadata": {},
   "source": [
    "Recall that in the language of calculus, a *function* is a mathematical expression that takes some value as input, usually denoted by $x$, and returns some output.\n",
    "\n",
    "![machine](https://upload.wikimedia.org/wikipedia/commons/3/3b/Function_machine2.svg)\n",
    "\n",
    "It helps us to think of a function as an analytical machine -- a machine of the mind. Now, if we've established that consumer goods, services and capital are the outputs of a business because they meet an end result, how do we go about determining the inputs required to produce these outputs? We begin by recognizing that in order for a business to run, it will need to have access to resources. In economical theory, be it in the writings of Adam Smith or Karl Marx, there is discussion of the *factors of production*. Broadly, the factors of production are precisely whatever is taken as an input to output a consumer good, a consumer serivce or capital for further use by firms. The **factors of production** fall into four categories:"
   ]
  },
  {
   "cell_type": "markdown",
   "metadata": {},
   "source": [
    "A business needs resources in order to produce goods and services. These can be categorized in the following\n",
    "\n",
    "- **land**: all renewable and nonrenewable resources extracted from nature such as oil, coal and timber\n",
    "- **labor**: the manual and skilled workers that make up the workforce\n",
    "- **capital**: finance needed to set up a business and pay its continuing operations\n",
    "    - goods such as computers, machines, factories, offices and vehicles\n",
    "- **enterprise**: the leadership provided by risk-taking individuals combining other factors into a unit that is capable of producing goods and services\n",
    "    - management, decision-making and coordination"
   ]
  },
  {
   "cell_type": "markdown",
   "metadata": {},
   "source": [
    "### Theory of Knowledge "
   ]
  },
  {
   "cell_type": "markdown",
   "metadata": {},
   "source": [
    "Which of these inputs are of physical origin (found in nature) and which ones are man-made ideas? Why can we think of capital as both an input and an output of a business? What does this suggest about the rhetoric of capitalism and lending money to potential entrepreneurs? Finally, how should value be assigned to purely physical resources, and should this be different to what is assigned to man-made ideas?"
   ]
  },
  {
   "cell_type": "markdown",
   "metadata": {},
   "source": [
    "## The Three Sectors of Industry "
   ]
  },
  {
   "cell_type": "markdown",
   "metadata": {},
   "source": [
    "![oil](https://transfac.com/wp-content/uploads/2014/05/oilfield_service_factoring.jpg)"
   ]
  },
  {
   "cell_type": "markdown",
   "metadata": {},
   "source": [
    "Clearly, it is in our best interest to distinguish between the functions of business that take as inputs raw materials versus those function of business that take previously manufactured outputs as inputs in the form of capital. This leads to the division of industry into three sectors:"
   ]
  },
  {
   "cell_type": "markdown",
   "metadata": {},
   "source": [
    "1. Primary sector\n",
    "    - farming, fishing, oil extraction\n",
    "    - anything extracting natural resources\n",
    "2. Secondary sector\n",
    "    - manufacturing goods from natural resources: computers, brewing, baking, clothing and construction\n",
    "3. Tertiary sector\n",
    "    - provide services to consumers and other business: retail, transport, insurance, banking, hotels, tourism, telecommunications"
   ]
  },
  {
   "cell_type": "markdown",
   "metadata": {},
   "source": [
    "### Theory of Knowledge"
   ]
  },
  {
   "cell_type": "markdown",
   "metadata": {},
   "source": [
    "Which sector is most closely related to physical reality? Which sector is closest to being fully automated? In which sector would you place your parents and your friends' parents? In which sector would you ideally work in and why? Finally, could we picture a society for which these boundaries are nonexistent?"
   ]
  },
  {
   "cell_type": "markdown",
   "metadata": {},
   "source": [
    "## Production Methods "
   ]
  },
  {
   "cell_type": "markdown",
   "metadata": {},
   "source": [
    "![mass](http://techpinions.com/wp-content/uploads/2012/12/assembly-line-women.jpg)"
   ]
  },
  {
   "cell_type": "markdown",
   "metadata": {},
   "source": [
    "### Job Production "
   ]
  },
  {
   "cell_type": "markdown",
   "metadata": {},
   "source": [
    "This corresponds to the production of a single one-off product such as a specially designed wedding ring or a high luxury car. The defining feature of this production method is that one full unit has to be completed before production of the next one begins. The downfalls of such an approach are long completion times, labor intensity and  high unit costs."
   ]
  },
  {
   "cell_type": "markdown",
   "metadata": {},
   "source": [
    "### Batch Production "
   ]
  },
  {
   "cell_type": "markdown",
   "metadata": {},
   "source": [
    "In this method, the production is split up into steps. A batch is a group of items going through a particuar production step concurrently. It is not until each member of the batch completes a step that the whole batch can move on to the next step. The quintessential example of this production method is the work of baerks, but can be used in economies of scale whenever a school requires a particular uniform."
   ]
  },
  {
   "cell_type": "markdown",
   "metadata": {},
   "source": [
    "### Flow (or Mass) Production "
   ]
  },
  {
   "cell_type": "markdown",
   "metadata": {},
   "source": [
    "This is the method of production to think of whenever we picture an assembly line. Products move between stages without having to wait for a full batch to be completed. The biggest advantage to this method is that large quantities can be outputted continuously in time, making it ideal for high and consistent market demands. Soda can products such as *Coca-Cola* come to mind. Labor costs tend to be low, but the capital required to purchase the machinery to start such a business can be incredibly high."
   ]
  },
  {
   "cell_type": "markdown",
   "metadata": {},
   "source": [
    "## The Cost Function"
   ]
  },
  {
   "cell_type": "markdown",
   "metadata": {},
   "source": [
    "### Applications of Rates of Change"
   ]
  },
  {
   "cell_type": "markdown",
   "metadata": {},
   "source": [
    "We know that if $y = f(x)$, then the derivative $dy/dx$ can be interpreted as the rate of change of $y$ with respect to $x$. As we shall see, this idea has many applications in both the natural sciences as well as in the social sciences such as business and economics.\n",
    "By rate of change, we mean that,considering some functions $f(x)$ defined over the coordinate plane $\\mathbb{R}^2$. the change in the  input value $x$ is given by\n",
    "\n",
    "$$\n",
    "\\Delta x = x_2 - x_1\n",
    "$$\n",
    "\n",
    "which corresponds to a change in the output value given by\n",
    "\n",
    "$$\n",
    "\\Delta y = f(x_2) - f(x_1) .\n",
    "$$\n",
    "\n",
    "Thence, the corresponding rate of change of the output (the dependent variable $y$) with respect to the input (the independent variable $x$) is expressed by\n",
    "\n",
    "$$\n",
    "\\frac{\\Delta y}{\\Delta x} = \\frac{f(x_2) - f(x_1)}{x_2 - x_1}\n",
    "$$\n",
    "\n",
    "The equation above corresponds to the \\textbf{average rate of change of y with respect to x} defined over the interval $[x_1, x_2]$. We know that graphically the average rate of change of some function can be interpreted as the slope of a secant line connecting two points on the slope of the function. We can make the size of the interval $[x_1, x_2]$ smaller and smaller so that the rate of change become sufficiently small so as to give us the the **instantaneous rate of change of y with respect to x**. This procecdure defines the derivative\n",
    "\n",
    "$$\n",
    "\\frac{dy}{dx} = \\lim_{{\\Delta x} \\to 0} \\frac{\\Delta y}{\\Delta x}\n",
    "$$\n",
    "\n",
    "Whenever we consider the function $y = f(x)$ as having a concrete application, we find that its derivative will have a specific interpretation as a rate of change. In economics, such rates of change are referred to as **marginal**.\n",
    "\n"
   ]
  },
  {
   "cell_type": "markdown",
   "metadata": {},
   "source": [
    "### Defining Cost from Units Produced "
   ]
  },
  {
   "cell_type": "markdown",
   "metadata": {},
   "source": [
    "![cost](http://tutorial.math.lamar.edu/Classes/CalcI/BusinessApps_files/image001.gif)\n",
    "\n",
    "Suppose $C(x)$ is the total cost that a company incurs in producing $x$ units of a certain commodity. The function $C$ is called a **cost function**. If the number of items produced is increased from $x_1$ to $x_2$, then the additional cost is $\\Delta C = C(x_2) - C(x_1)$, and the average rate of change of the cost is\n",
    "\n",
    "$$\n",
    "\\frac{\\Delta C}{\\Delta x} = \\frac{C(x_2) - C(x_1)}{x_2 - x_1} = \\frac{C(x_1 + \\Delta x) - C(x_1)}{\\Delta x}\n",
    "$$\n",
    "\n",
    "The limit of this quantity as $\\Delta x \\to 0$ , that is, the instantaneous rate of change of cost with respect to the number of items produced, is called the **marginal cost** by economists:\n",
    "\n",
    "$$\n",
    "\\text{marginal cost} = \\lim_{\\Delta x \\to 0} \\frac{\\Delta C}{\\Delta x} = \\frac{dC}{dx}.\n",
    "$$\n",
    "\n",
    "In taking this limit, we must recognize that if $x$ stands for the number of units being produced, it does not quite make sense to think of real number values for it. Instead, we will usually let $x \\in \\mathbb{N}$ (which we read as $x$ belongs to the natural numbers 1, 2, 3, ...). Under this consideration, we can arrive at more concrete interpretation of marginal cost in the following way:\n",
    "\n",
    "First, we let $\\Delta x = 1$ and consider $ n >> \\Delta x$ so that the increase in production is much smaller than the amount of units currently being produced. This then gives us\n",
    "\n",
    "$$\n",
    "C'(n) \\approx C(n + 1) - C(n)\n",
    "$$\n",
    "\n",
    "(Note that the rate of change is being divided by $\\Delta x = 1$). Thus, the marginal cost of producing $n$ units is approximately equal to the cost of producing one more unit. This is the interpretation of marginal cost that we will use throughout the course.\n"
   ]
  },
  {
   "cell_type": "markdown",
   "metadata": {},
   "source": [
    "### Examples "
   ]
  },
  {
   "cell_type": "markdown",
   "metadata": {},
   "source": [
    "### A cubic container"
   ]
  },
  {
   "cell_type": "markdown",
   "metadata": {},
   "source": [
    "A rectangular storage container with an open top has a volume of 10 m$^3$. The length of the container is twice its width. Material for the base costs \\$10 per square meter; material costs \\$6 per square meter. \n",
    "\n",
    "* Express the cost of materials as a function of the width of the base.\n",
    "* Find the derivative of $C(w)$. What does it represent?\n",
    "* Which sector of industry do you think the manufacturing company belongs to? Why?\n",
    "* Discuss with your classmates whether you think storage containers are a product of batch, job or flow production."
   ]
  },
  {
   "cell_type": "markdown",
   "metadata": {},
   "source": [
    "![container](http://www.shippingcontainersforsaleuk.com/images/20-feet-dd-blue-ral-shipping-container-gallery-004.jpg)"
   ]
  },
  {
   "cell_type": "markdown",
   "metadata": {},
   "source": [
    "Let's find out how these guys get made!"
   ]
  },
  {
   "cell_type": "code",
   "execution_count": 1,
   "metadata": {
    "collapsed": false
   },
   "outputs": [
    {
     "data": {
      "image/jpeg": "[encoded data removed]",
      "text/html": [
       "\n",
       "        <iframe\n",
       "            width=\"400\"\n",
       "            height=\"300\"\n",
       "            src=\"https://www.youtube.com/embed/dgdnBcyLK7U\"\n",
       "            frameborder=\"0\"\n",
       "            allowfullscreen\n",
       "        ></iframe>\n",
       "        "
      ],
      "text/plain": [
       "<IPython.lib.display.YouTubeVideo at 0x7faedc6bf7f0>"
      ]
     },
     "execution_count": 1,
     "metadata": {},
     "output_type": "execute_result"
    }
   ],
   "source": [
    "from IPython.display import YouTubeVideo\n",
    "# a talk about IPython at Sage Days at U. Washington, Seattle.\n",
    "# Video credit: William Stein.\n",
    "YouTubeVideo('dgdnBcyLK7U')"
   ]
  },
  {
   "cell_type": "markdown",
   "metadata": {},
   "source": [
    "### Cost function as second order polynomial"
   ]
  },
  {
   "cell_type": "markdown",
   "metadata": {},
   "source": [
    "The cost (in dollars) of producing $x$ units of a certain commodity is $C(x) = 5000 + 10x + 0.05x^2$.\n",
    "\n",
    "1. Find the average rate of change of $C$ with respect to $x$ when the production level is changed\n",
    "\n",
    "    * from $x = 100$ to $x = 105$\n",
    "    * from $x = 100$ to $x = 101$\n",
    "2. Find the instantaneous rate of change of $C$ with respect to $x$ when $x=100$.\n"
   ]
  },
  {
   "cell_type": "code",
   "execution_count": 2,
   "metadata": {
    "collapsed": false
   },
   "outputs": [
    {
     "data": {
      "image/png": "[encoded data removed]",
      "text/plain": [
       "<matplotlib.figure.Figure at 0x7f0df0145e10>"
      ]
     },
     "metadata": {},
     "output_type": "display_data"
    }
   ],
   "source": [
    "# Import plotting and number modules\n",
    "import pylab as plt\n",
    "import numpy as np\n",
    "\n",
    "x = np.linspace(0,200,100) # generate a list of 100 representative x values\n",
    "y = 5000 + 10*x + 0.05*x**2 # compute the values of the function\n",
    "\n",
    "# compose plot\n",
    "plt.xlabel('Units produced $x$') # label the x axis\n",
    "plt.ylabel('Cost in dollars $C(x)$') # label the y axis\n",
    "plt.plot(x,y) # plot x and y values\n",
    "plt.show() # show the plot"
   ]
  },
  {
   "cell_type": "code",
   "execution_count": 6,
   "metadata": {
    "collapsed": false
   },
   "outputs": [
    {
     "data": {
      "text/plain": [
       "20.25"
      ]
     },
     "execution_count": 6,
     "metadata": {},
     "output_type": "execute_result"
    }
   ],
   "source": [
    "(10*105 + 0.05*(105)**2 - 10*100 - 0.05*(100)**2)/5"
   ]
  },
  {
   "cell_type": "markdown",
   "metadata": {},
   "source": [
    "### Cost function as a third order polynomial"
   ]
  },
  {
   "cell_type": "markdown",
   "metadata": {},
   "source": [
    "The total cost, in dollars, of producing $x$ yards of a certian fabric is\n",
    "\n",
    "$$\n",
    "C(x) = 1200 + 12x - 0.1x^2 + 0.0005x^3\n",
    "$$\n",
    "\n",
    "* Find the marginal cost function\n",
    "* Find $C'(200)$ and explain its meaning. What does it predict?\n",
    "* Compare $C'(200)$ with the cost of manufacturing the 201st yard of fabric\n"
   ]
  },
  {
   "cell_type": "code",
   "execution_count": 16,
   "metadata": {
    "collapsed": false
   },
   "outputs": [
    {
     "data": {
      "image/png": "[encoded data removed]",
      "text/plain": [
       "<matplotlib.figure.Figure at 0x7fdffa0d0320>"
      ]
     },
     "metadata": {},
     "output_type": "display_data"
    }
   ],
   "source": [
    "x = np.linspace(0,210,100) # generate a list of 100 representative x values\n",
    "y = 1200 + 12*x - 0.1*x**2 + 0.0005*x**3 # computing the values of sin(x)/x\n",
    "\n",
    "# compose plot\n",
    "plt.xlabel('Yards of fabric produced $x$') # label the x axis\n",
    "plt.ylabel('Cost in dollars $C(x)$') # label the y axis\n",
    "plt.plot(x,y, 'r') # plot x and y values\n",
    "plt.show() # show the plot"
   ]
  },
  {
   "cell_type": "markdown",
   "metadata": {},
   "source": [
    "### Pause for discussion"
   ]
  },
  {
   "cell_type": "markdown",
   "metadata": {},
   "source": [
    "What effect does the third order term in the cost function of the second example have on affecting the curve?"
   ]
  },
  {
   "cell_type": "markdown",
   "metadata": {},
   "source": [
    "## In the next lecture... "
   ]
  },
  {
   "cell_type": "markdown",
   "metadata": {},
   "source": [
    "We'll talk about production functions!"
   ]
  },
  {
   "cell_type": "markdown",
   "metadata": {},
   "source": [
    "![production function](https://upload.wikimedia.org/wikipedia/commons/e/e8/Stages_of_production_small.png)"
   ]
  }
 ],
 "metadata": {
  "kernelspec": {
   "display_name": "Python 3",
   "language": "python",
   "name": "python3"
  },
  "language_info": {
   "codemirror_mode": {
    "name": "ipython",
    "version": 3
   },
   "file_extension": ".py",
   "mimetype": "text/x-python",
   "name": "python",
   "nbconvert_exporter": "python",
   "pygments_lexer": "ipython3",
   "version": "3.5.2"
  }
 },
 "nbformat": 4,
 "nbformat_minor": 2
}
